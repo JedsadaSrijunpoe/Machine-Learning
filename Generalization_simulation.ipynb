{
 "cells": [
  {
   "cell_type": "markdown",
   "metadata": {},
   "source": [
    "# แบบจำลองค่าคงที่"
   ]
  },
  {
   "cell_type": "code",
   "execution_count": null,
   "metadata": {},
   "outputs": [],
   "source": [
    "import math\n",
    "import random\n",
    "import plotly.express as px\n",
    "import numpy as np\n",
    "\n",
    "def random_constant_model_sin(n=2):\n",
    "    x = [random.uniform(-1.0,1.0) for i in range(n)]\n",
    "    y = [math.sin(x1*math.pi) for x1 in x]\n",
    "    x_avg = np.average(x)\n",
    "    y_avg = np.average(y)\n",
    "    return (x_avg,y_avg,x,y)"
   ]
  },
  {
   "cell_type": "code",
   "execution_count": null,
   "metadata": {},
   "outputs": [],
   "source": [
    "n = 1000\n",
    "sample_model = []\n",
    "for i in range(n):\n",
    "    x, y = random_constant_model_sin()[0:2]\n",
    "    sample_model.append(y)\n",
    "\n",
    "avg_model = np.average(sample_model)\n",
    "print(\"avg model:\", avg_model)"
   ]
  },
  {
   "cell_type": "code",
   "execution_count": null,
   "metadata": {},
   "outputs": [],
   "source": [
    "import matplotlib.pyplot as plt \n",
    "import numpy as np\n",
    "def abline(slope, intercept, color, linewidth = 0.5):\n",
    "    \"\"\"Plot a line from slope and intercept\"\"\"\n",
    "    x_vals = np.linspace(-1, 1, 1000)\n",
    "    y_vals = intercept + slope * x_vals\n",
    "    plt.plot(x_vals, y_vals, '-', color=color, linewidth = linewidth)"
   ]
  },
  {
   "cell_type": "code",
   "execution_count": null,
   "metadata": {},
   "outputs": [],
   "source": [
    "plt.figure(figsize=(10,6))\n",
    "\n",
    "# Sample model graph\n",
    "for y in sample_model:\n",
    "    abline(0, y, 'k')\n",
    "\n",
    "# Sin graph\n",
    "x_vals = np.linspace(-1, 1, 1000)\n",
    "y_vals = [math.sin(x_val*math.pi) for x_val in x_vals]\n",
    "plt.plot(x_vals, y_vals, '-', color='b', linewidth=3)\n",
    "\n",
    "# avg line\n",
    "abline(0, avg_model, 'r', 3)\n"
   ]
  },
  {
   "cell_type": "code",
   "execution_count": null,
   "metadata": {},
   "outputs": [],
   "source": [
    "def var_constant_model(sample_model, avg_model):\n",
    "    sample_model = np.array(sample_model)\n",
    "    var = np.average(sample_model**2) - (avg_model**2)\n",
    "    return var"
   ]
  },
  {
   "cell_type": "code",
   "execution_count": null,
   "metadata": {},
   "outputs": [],
   "source": [
    "def bias_constant_model_sin(avg_model):\n",
    "    bias = 0\n",
    "    x_vals = np.linspace(-1, 1, 1000)\n",
    "    for x in x_vals:\n",
    "        bias += (avg_model - math.sin(x*math.pi))**2\n",
    "    bias /= len(x_vals)\n",
    "    return bias"
   ]
  },
  {
   "cell_type": "code",
   "execution_count": null,
   "metadata": {},
   "outputs": [],
   "source": [
    "print(\"var:\", var_constant_model(sample_model, avg_model))\n",
    "print(\"bias:\", bias_constant_model_sin(avg_model))"
   ]
  },
  {
   "cell_type": "markdown",
   "metadata": {},
   "source": [
    "x^2"
   ]
  },
  {
   "cell_type": "code",
   "execution_count": null,
   "metadata": {},
   "outputs": [],
   "source": [
    "def random_constant_model_x_pow_2():\n",
    "    x1 = random.uniform(-1.0,1.0)\n",
    "    x2 = random.uniform(-1.0,1.0)\n",
    "    y1 = x1**2\n",
    "    y2 = x2**2\n",
    "    x_avg = (x1+x2)/2\n",
    "    y_avg = (y1+y2)/2\n",
    "    return (x_avg, y_avg)"
   ]
  },
  {
   "cell_type": "code",
   "execution_count": null,
   "metadata": {},
   "outputs": [],
   "source": [
    "n = 1000\n",
    "sample_model = []\n",
    "for i in range(n):\n",
    "    x, y = random_constant_model_x_pow_2()\n",
    "    sample_model.append(y)\n",
    "\n",
    "avg_model = np.average(sample_model)\n",
    "print(\"avg model:\", avg_model)"
   ]
  },
  {
   "cell_type": "code",
   "execution_count": null,
   "metadata": {},
   "outputs": [],
   "source": [
    "plt.figure(figsize=(10,6))\n",
    "\n",
    "# Sample model graph\n",
    "for y in sample_model:\n",
    "    abline(0, y, 'k')\n",
    "\n",
    "# x^2 graph\n",
    "x_vals = np.linspace(-1, 1, 1000)\n",
    "y_vals = [x_val**2 for x_val in x_vals]\n",
    "plt.plot(x_vals, y_vals, '-', color='b', linewidth=3)\n",
    "\n",
    "# avg line\n",
    "abline(0,avg_model,'r',3)"
   ]
  },
  {
   "cell_type": "code",
   "execution_count": null,
   "metadata": {},
   "outputs": [],
   "source": [
    "def bias_constant_model_x_pow_2(avg_model):\n",
    "    bias = 0\n",
    "    x_vals = np.linspace(-1, 1, 1000)\n",
    "    for x in x_vals:\n",
    "        bias += (avg_model - x**2)**2\n",
    "    bias /= len(x_vals)\n",
    "    return bias"
   ]
  },
  {
   "cell_type": "code",
   "execution_count": null,
   "metadata": {},
   "outputs": [],
   "source": [
    "print(\"var:\", var_constant_model(sample_model,avg_model))\n",
    "print(\"bias:\", bias_constant_model_x_pow_2(avg_model))"
   ]
  },
  {
   "cell_type": "markdown",
   "metadata": {},
   "source": [
    "# แบบจำลองเชิงเส้น"
   ]
  },
  {
   "cell_type": "code",
   "execution_count": null,
   "metadata": {},
   "outputs": [],
   "source": [
    "from scipy import stats\n",
    "def random_linear_model(n=2):\n",
    "    x = [random.uniform(-1.0,1.0) for i in range(n)]\n",
    "    y = [math.sin(x1*math.pi) for x1 in x]\n",
    "    slope, intercept, r_value, p_value, std_err = stats.linregress(x, y)\n",
    "    return (slope, intercept, x, y)"
   ]
  },
  {
   "cell_type": "code",
   "execution_count": null,
   "metadata": {},
   "outputs": [],
   "source": [
    "n = 1000\n",
    "slope_sample = []\n",
    "intercept_sample = []\n",
    "for i in range(n):\n",
    "    slope, intercept = random_linear_model()[0:2]\n",
    "    slope_sample.append(slope)\n",
    "    intercept_sample.append(intercept)"
   ]
  },
  {
   "cell_type": "code",
   "execution_count": null,
   "metadata": {},
   "outputs": [],
   "source": [
    "slope_avg = np.average(slope_sample)\n",
    "intercept_avg = np.average(intercept_sample)\n",
    "print(\"slope_avg:\", slope_avg)\n",
    "print(\"intercept_avg:\", intercept_avg)"
   ]
  },
  {
   "cell_type": "code",
   "execution_count": null,
   "metadata": {},
   "outputs": [],
   "source": [
    "plt.figure(figsize=(10,6))\n",
    "plt.ylim(-2,2)\n",
    "\n",
    "# Sample model graph\n",
    "for i in range(len(slope_sample)):\n",
    "    abline(slope_sample[i], intercept_sample[i], 'k')\n",
    "\n",
    "# Sin graph\n",
    "x_vals = np.linspace(-1, 1, 1000)\n",
    "y_vals = [math.sin(x_val*math.pi) for x_val in x_vals]\n",
    "plt.plot(x_vals, y_vals, '-', color='b', linewidth=3)\n",
    "\n",
    "# avg line\n",
    "abline(slope_avg, intercept_avg, 'r', 3)"
   ]
  },
  {
   "cell_type": "code",
   "execution_count": null,
   "metadata": {},
   "outputs": [],
   "source": [
    "x_vals = np.linspace(-1, 1, 1000)\n",
    "def var(slope, intercept, slope_avg, intercept_avg):\n",
    "    # only one model\n",
    "    var_list = []\n",
    "    for x in x_vals:\n",
    "        y_model = slope*x + intercept\n",
    "        y_avg = slope_avg*x + intercept_avg\n",
    "        var_list.append((y_model - y_avg)**2)\n",
    "    var = np.average(var_list)\n",
    "    print(\"var called\")\n",
    "    return var\n",
    "\n",
    "def var_linear_model(slope_sample, intercept_sample, slope_avg, intercept_avg):\n",
    "    variance_list = []\n",
    "    for i in range(len(slope_sample)):\n",
    "        slope = slope_sample[i]\n",
    "        intercept = intercept_sample[i]\n",
    "        variance_list.append(var(slope, intercept, slope_avg, intercept_avg))\n",
    "    return np.average(variance_list)"
   ]
  },
  {
   "cell_type": "code",
   "execution_count": null,
   "metadata": {},
   "outputs": [],
   "source": [
    "def bias_linear_model_sin(slope_avg,intercept_avg):\n",
    "    x_vals = np.linspace(-1, 1, 1000)\n",
    "    bias = 0\n",
    "    for x in x_vals:\n",
    "        bias += ((slope_avg*x + intercept_avg) - math.sin(x*math.pi))**2\n",
    "    bias /= len(x_vals)\n",
    "    return bias"
   ]
  },
  {
   "cell_type": "code",
   "execution_count": null,
   "metadata": {},
   "outputs": [],
   "source": [
    "print(\"var:\", var_linear_model(slope_sample, intercept_sample, slope_avg, intercept_avg))\n",
    "print(\"bias:\", bias_linear_model_sin(slope_avg, intercept_avg))"
   ]
  },
  {
   "cell_type": "markdown",
   "metadata": {},
   "source": [
    "##### x^2"
   ]
  },
  {
   "cell_type": "code",
   "execution_count": null,
   "metadata": {},
   "outputs": [],
   "source": [
    "def random_linear_model_x_pow_2():\n",
    "    x1 = random.uniform(-1.0,1.0)\n",
    "    x2 = random.uniform(-1.0,1.0)\n",
    "    y1 = x1**2\n",
    "    y2 = x2**2\n",
    "    slope = (y2-y1)/(x2-x1)\n",
    "    intercept = y1 - slope * x1\n",
    "    return (slope, intercept)"
   ]
  },
  {
   "cell_type": "code",
   "execution_count": null,
   "metadata": {},
   "outputs": [],
   "source": [
    "n = 1000\n",
    "slope_sample = []\n",
    "intercept_sample = []\n",
    "for i in range(n):\n",
    "    slope, intercept = random_linear_model_x_pow_2()\n",
    "    slope_sample.append(slope)\n",
    "    intercept_sample.append(intercept)"
   ]
  },
  {
   "cell_type": "code",
   "execution_count": null,
   "metadata": {},
   "outputs": [],
   "source": [
    "slope_avg = np.average(slope_sample)\n",
    "intercept_avg = np.average(intercept_sample)\n",
    "print(\"slope_avg:\", slope_avg)\n",
    "print(\"intercept_avg:\", intercept_avg)"
   ]
  },
  {
   "cell_type": "code",
   "execution_count": null,
   "metadata": {},
   "outputs": [],
   "source": [
    "plt.figure(figsize=(10,6))\n",
    "plt.ylim(-2,2)\n",
    "\n",
    "# Sample model graph\n",
    "for i in range(len(slope_sample)):\n",
    "    abline(slope_sample[i], intercept_sample[i], 'k')\n",
    "\n",
    "# x ^ 2 graph\n",
    "x_vals = np.linspace(-1, 1, 1000)\n",
    "y_vals = [x_val**2 for x_val in x_vals]\n",
    "plt.plot(x_vals, y_vals, '-', color='b', linewidth=3)\n",
    "\n",
    "# avg graph\n",
    "abline(slope_avg,intercept_avg,'r',3)"
   ]
  },
  {
   "cell_type": "code",
   "execution_count": null,
   "metadata": {},
   "outputs": [],
   "source": [
    "def bias_linear_model_x_pow_2(slope_avg,intercept_avg):\n",
    "    x_vals = np.linspace(-1, 1, 1000)\n",
    "    bias = 0\n",
    "    for x in x_vals:\n",
    "        bias += ((slope_avg*x + intercept_avg) - math.sin(x*math.pi))**2\n",
    "    bias /= len(x_vals)\n",
    "    return bias"
   ]
  },
  {
   "cell_type": "code",
   "execution_count": null,
   "metadata": {},
   "outputs": [],
   "source": [
    "print(\"var:\", var_linear_model(slope_sample, intercept_sample, slope_avg, intercept_avg))\n",
    "print(\"bias:\", bias_linear_model_x_pow_2(slope_avg,intercept_avg))"
   ]
  },
  {
   "cell_type": "markdown",
   "metadata": {},
   "source": [
    "# แบบจำลองเชิงเส้นผ่านจุดกำเนิด "
   ]
  },
  {
   "cell_type": "code",
   "execution_count": null,
   "metadata": {},
   "outputs": [],
   "source": [
    "def random_linear_origin_model(n=2):\n",
    "    x = [random.uniform(-1, 1) for i in range(n)]\n",
    "    y = [math.sin(x1*math.pi) for x1 in x]\n",
    "    x = np.array(x)\n",
    "    y = np.array(y)\n",
    "\n",
    "    x_transpose = x.transpose()\n",
    "\n",
    "    return (np.dot(x_transpose,y)/np.dot(x_transpose,x) , x , y)"
   ]
  },
  {
   "cell_type": "code",
   "execution_count": null,
   "metadata": {},
   "outputs": [],
   "source": [
    "n = 1000\n",
    "slope_sample = []\n",
    "\n",
    "for i in range(n):\n",
    "    slope = random_linear_origin_model()[0]\n",
    "    slope_sample.append(slope)\n",
    "\n",
    "intercept_sample = [0] * len(slope_sample)\n",
    "intercept_avg = 0\n",
    "slope_avg = np.average(slope_sample)\n",
    "print(\"avg slope:\", slope_avg)"
   ]
  },
  {
   "cell_type": "code",
   "execution_count": null,
   "metadata": {},
   "outputs": [],
   "source": [
    "plt.figure(figsize=(10,6))\n",
    "plt.ylim(-2,2)\n",
    "\n",
    "# Sample model graph\n",
    "for i in range(len(slope_sample)):\n",
    "    abline(slope_sample[i], 0, 'k')\n",
    "\n",
    "# Sin graph\n",
    "x_vals = np.linspace(-1, 1, 1000)\n",
    "y_vals = [math.sin(x_val*math.pi) for x_val in x_vals]\n",
    "plt.plot(x_vals, y_vals, '-', color='b', linewidth=3)\n",
    "\n",
    "# avg line\n",
    "abline(slope_avg, intercept_avg, 'r', 3)"
   ]
  },
  {
   "cell_type": "code",
   "execution_count": null,
   "metadata": {},
   "outputs": [],
   "source": [
    "print(\"var:\", var_linear_model(slope_sample, intercept_sample, slope_avg, intercept_avg))\n",
    "print(\"bias:\", bias_linear_model_sin(slope_avg, intercept_avg))"
   ]
  },
  {
   "cell_type": "markdown",
   "metadata": {},
   "source": [
    "x^2"
   ]
  },
  {
   "cell_type": "code",
   "execution_count": null,
   "metadata": {},
   "outputs": [],
   "source": [
    "def random_linear_origin_model_x_pow_2(n=2):\n",
    "    x = [random.uniform(-1, 1) for i in range(n)]\n",
    "    y = [x1**2 for x1 in x]\n",
    "    x = np.array(x)\n",
    "    y = np.array(y)\n",
    "\n",
    "    x_transpose = x.transpose()\n",
    "\n",
    "    return np.dot(x_transpose,y)/np.dot(x_transpose,x)"
   ]
  },
  {
   "cell_type": "code",
   "execution_count": null,
   "metadata": {},
   "outputs": [],
   "source": [
    "n = 1000\n",
    "slope_sample = []\n",
    "\n",
    "for i in range(n):\n",
    "    slope = random_linear_origin_model_x_pow_2()\n",
    "    slope_sample.append(slope)\n",
    "\n",
    "intercept_sample = [0] * len(slope_sample)\n",
    "intercept_avg = 0\n",
    "slope_avg = np.average(slope_sample)\n",
    "print(\"avg slope:\", slope_avg)"
   ]
  },
  {
   "cell_type": "code",
   "execution_count": null,
   "metadata": {},
   "outputs": [],
   "source": [
    "plt.figure(figsize=(10,6))\n",
    "plt.ylim(-2,2)\n",
    "\n",
    "# Sample model graph\n",
    "for i in range(len(slope_sample)):\n",
    "    abline(slope_sample[i], 0, 'k')\n",
    "\n",
    "# x^2 graph\n",
    "x_vals = np.linspace(-1, 1, 1000)\n",
    "y_vals = [x_val**2 for x_val in x_vals]\n",
    "plt.plot(x_vals, y_vals, '-', color='b', linewidth=3)\n",
    "\n",
    "# avg line\n",
    "abline(slope_avg, intercept_avg, 'r', 3)"
   ]
  },
  {
   "cell_type": "code",
   "execution_count": null,
   "metadata": {},
   "outputs": [],
   "source": [
    "print(\"var:\", var_linear_model(slope_sample, intercept_sample, slope_avg, intercept_avg))\n",
    "print(\"bias:\", bias_linear_model_x_pow_2(slope_avg,intercept_avg))"
   ]
  },
  {
   "cell_type": "markdown",
   "metadata": {},
   "source": [
    "# ข้อ 2"
   ]
  },
  {
   "cell_type": "code",
   "execution_count": null,
   "metadata": {},
   "outputs": [],
   "source": [
    "def CalculateMSE(x_positions, y_positions, w0, w1):\n",
    "    n = len(x_positions)\n",
    "    MSE = 0\n",
    "    for i in range(0, n):\n",
    "        MSE += (w0 + w1*x_positions[i] - y_positions[i]) ** 2\n",
    "    MSE *= 1/(2*n)\n",
    "    return MSE\n",
    "\n",
    "def E_in(slope_sample, intercept_sample, x_positions, y_positions):\n",
    "    MSE = []\n",
    "    for i in range(len(slope_sample)):\n",
    "        MSE.append(CalculateMSE(x_positions[i], y_positions[i], intercept_sample[i], slope_sample[i]))\n",
    "    return np.average(MSE)"
   ]
  },
  {
   "cell_type": "markdown",
   "metadata": {},
   "source": [
    "# แบบจำลองค่าคงที่"
   ]
  },
  {
   "cell_type": "code",
   "execution_count": null,
   "metadata": {},
   "outputs": [],
   "source": [
    "model_count = 1000\n",
    "E_in_list = []\n",
    "E_out_list = []\n",
    "for n in range(1,21):\n",
    "    sample_model = []\n",
    "    x_positions = []\n",
    "    y_positions = []\n",
    "    for i in range(model_count):\n",
    "        x, y, x_sample, y_sample = random_constant_model_sin(n)\n",
    "        x_positions.append(x_sample)\n",
    "        y_positions.append(y_sample)\n",
    "        sample_model.append(y)\n",
    "    slope_sample = [0]*len(sample_model)\n",
    "    avg_model = np.average(sample_model)\n",
    "    var = var_constant_model(sample_model, avg_model)\n",
    "    bias = bias_constant_model_sin(avg_model)\n",
    "    E_out_list.append(var+bias)\n",
    "    E_in_list.append(E_in(slope_sample,sample_model,x_positions,y_positions))"
   ]
  },
  {
   "cell_type": "code",
   "execution_count": null,
   "metadata": {},
   "outputs": [],
   "source": [
    "n = list(range(1,21))\n",
    "plt.figure(figsize=(10,6))\n",
    "\n",
    "plt.plot(n, E_in_list, '-', color='b', linewidth=3)\n",
    "plt.plot(n, E_out_list, '-', color='r', linewidth=3)\n",
    "\n",
    "print(E_in_list)"
   ]
  },
  {
   "cell_type": "markdown",
   "metadata": {},
   "source": [
    "# แบบจำลองเชิงเส้น"
   ]
  },
  {
   "cell_type": "code",
   "execution_count": null,
   "metadata": {},
   "outputs": [],
   "source": [
    "model_count = 1000\n",
    "E_in_list = []\n",
    "E_out_list = []\n",
    "for n in range(2,21):\n",
    "    slope_sample = []\n",
    "    intercept_sample = []\n",
    "    x_positions = []\n",
    "    y_positions = []\n",
    "    for i in range(model_count):\n",
    "        slope, intercept, x_sample, y_sample = random_linear_model(n)\n",
    "        slope_sample.append(slope)\n",
    "        intercept_sample.append(intercept)\n",
    "        x_positions.append(x_sample)\n",
    "        y_positions.append(y_sample)\n",
    "    slope_avg = np.average(slope_sample)\n",
    "    intercept_avg = np.average(intercept_sample)\n",
    "    print(n)\n",
    "    var = var_linear_model(slope_sample, intercept_sample, slope_avg, intercept_avg)\n",
    "    bias = bias_linear_model_sin(slope_avg, intercept_avg)\n",
    "    E_out_list.append(var+bias)\n",
    "    E_in_list.append(E_in(slope_sample,intercept_sample,x_positions,y_positions))"
   ]
  },
  {
   "cell_type": "code",
   "execution_count": null,
   "metadata": {},
   "outputs": [],
   "source": []
  }
 ],
 "metadata": {
  "kernelspec": {
   "display_name": "Python 3",
   "language": "python",
   "name": "python3"
  },
  "language_info": {
   "codemirror_mode": {
    "name": "ipython",
    "version": 3
   },
   "file_extension": ".py",
   "mimetype": "text/x-python",
   "name": "python",
   "nbconvert_exporter": "python",
   "pygments_lexer": "ipython3",
   "version": "3.10.2"
  },
  "orig_nbformat": 4
 },
 "nbformat": 4,
 "nbformat_minor": 2
}
