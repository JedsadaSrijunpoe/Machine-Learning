{
 "cells": [
  {
   "cell_type": "code",
   "execution_count": 1,
   "metadata": {},
   "outputs": [],
   "source": [
    "import pandas as pd\n",
    "from scipy import stats\n",
    "import random\n",
    "import math\n"
   ]
  },
  {
   "cell_type": "code",
   "execution_count": 23,
   "metadata": {},
   "outputs": [
    {
     "name": "stdout",
     "output_type": "stream",
     "text": [
      "        Height      Weight\n",
      "0   187.571423  109.720985\n",
      "1   174.706036   73.622732\n",
      "2   188.239668   96.497550\n",
      "3   182.196685   99.809504\n",
      "4   177.499762   93.598619\n",
      "5   170.822660   69.042216\n",
      "6   174.714106   83.428219\n",
      "7   173.605229   76.190352\n",
      "8   170.228132   79.800187\n",
      "9   161.179495   70.941642\n",
      "10  160.475926   64.077173\n",
      "11  159.097154   46.653553\n",
      "12  157.677693   62.909437\n",
      "13  152.477302   44.310238\n",
      "14  150.109555   50.135381\n",
      "15  168.078537   62.041159\n",
      "16  170.350573   77.504315\n",
      "17  162.224700   58.275377\n",
      "18  175.346978   74.322166\n",
      "19  157.338384   51.550324\n"
     ]
    }
   ],
   "source": [
    "df = pd.read_csv(\"Data/Data/HeightWeight20.csv\")\n",
    "print(df)"
   ]
  },
  {
   "cell_type": "code",
   "execution_count": 43,
   "metadata": {},
   "outputs": [
    {
     "data": {
      "text/plain": [
       "'def split_data_to_fold(df : pd.DataFrame, seed : int, folds : int):\\n\\n    data_per_fold = df.shape[0] / folds\\n\\n    sample_df = df.sample(frac=1.0, random_state=seed, ignore_index=True)\\n    dfs = []\\n    remainder = 0\\n    add_lower, add_upper = 0, 0\\n\\n    for i in range(folds-1):\\n\\n        if remainder >= 1:\\n            remainder = 0\\n            add_lower = 1\\n\\n        remainder += data_per_fold\\n\\n        if remainder >= 1:\\n            add_upper = 1\\n\\n        dfs.append(sample_df.iloc[i * math.floor(data_per_fold) + add_lower: (i+1) * math.floor(data_per_fold) + add_upper])\\n\\n        if i < folds-2:\\n            add_lower, add_upper = 0, 0\\n        \\n    dfs.append(sample_df.iloc[(folds-1)*math.floor(data_per_fold) + add_upper:])\\n\\n    return dfs'"
      ]
     },
     "execution_count": 43,
     "metadata": {},
     "output_type": "execute_result"
    }
   ],
   "source": [
    "def split_data(df : pd.DataFrame, seed : int, train_frac : float = 0.5):\n",
    "\n",
    "    separator_index = math.floor(df.shape[0]*train_frac)\n",
    "\n",
    "    sample_df = df.sample(frac=1.0, random_state=seed, ignore_index=True)\n",
    "    train_df = sample_df.iloc[0:separator_index]\n",
    "    test_df = sample_df.iloc[separator_index:].reset_index(drop=True)\n",
    "    \n",
    "    return(train_df, test_df)\n",
    "\n",
    "def CalculateMSE(x_positions, y_positions, w0, w1):\n",
    "    n = len(x_positions)\n",
    "    MSE = 0\n",
    "    for i in range(0, n):\n",
    "        MSE += (w0 + w1*x_positions[i] - y_positions[i]) ** 2\n",
    "    MSE *= 1/(2*n)\n",
    "    return MSE\n",
    "\n",
    "\"\"\"def split_data_to_fold(df : pd.DataFrame, seed : int, folds : int):\n",
    "\n",
    "    data_per_fold = df.shape[0] / folds\n",
    "\n",
    "    sample_df = df.sample(frac=1.0, random_state=seed, ignore_index=True)\n",
    "    dfs = []\n",
    "    remainder = 0\n",
    "    add_lower, add_upper = 0, 0\n",
    "\n",
    "    for i in range(folds-1):\n",
    "\n",
    "        if remainder >= 1:\n",
    "            remainder = 0\n",
    "            add_lower = 1\n",
    "\n",
    "        remainder += data_per_fold\n",
    "\n",
    "        if remainder >= 1:\n",
    "            add_upper = 1\n",
    "\n",
    "        dfs.append(sample_df.iloc[i * math.floor(data_per_fold) + add_lower: (i+1) * math.floor(data_per_fold) + add_upper])\n",
    "\n",
    "        if i < folds-2:\n",
    "            add_lower, add_upper = 0, 0\n",
    "        \n",
    "    dfs.append(sample_df.iloc[(folds-1)*math.floor(data_per_fold) + add_upper:])\n",
    "\n",
    "    return dfs\"\"\""
   ]
  },
  {
   "cell_type": "markdown",
   "metadata": {},
   "source": [
    "Holdout"
   ]
  },
  {
   "cell_type": "code",
   "execution_count": 67,
   "metadata": {},
   "outputs": [
    {
     "name": "stdout",
     "output_type": "stream",
     "text": [
      "       Height      Weight\n",
      "0  170.822660   69.042216\n",
      "1  152.477302   44.310238\n",
      "2  174.714106   83.428219\n",
      "3  174.706036   73.622732\n",
      "4  170.350573   77.504315\n",
      "5  160.475926   64.077173\n",
      "6  173.605229   76.190352\n",
      "7  187.571423  109.720985\n",
      "8  162.224700   58.275377\n",
      "9  150.109555   50.135381\n",
      "       Height     Weight\n",
      "0  182.196685  99.809504\n",
      "1  168.078537  62.041159\n",
      "2  175.346978  74.322166\n",
      "3  170.228132  79.800187\n",
      "4  188.239668  96.497550\n",
      "5  157.338384  51.550324\n",
      "6  161.179495  70.941642\n",
      "7  157.677693  62.909437\n",
      "8  177.499762  93.598619\n",
      "9  159.097154  46.653553\n"
     ]
    }
   ],
   "source": [
    "train_df, test_df = split_data(df, 11010, 0.5)\n",
    "print(train_df)\n",
    "print(test_df)"
   ]
  },
  {
   "cell_type": "code",
   "execution_count": 68,
   "metadata": {},
   "outputs": [
    {
     "name": "stdout",
     "output_type": "stream",
     "text": [
      "1.5493022523574467 -189.19619910355522\n"
     ]
    }
   ],
   "source": [
    "slope, intercept, r, p, se = stats.linregress(train_df[\"Height\"], train_df[\"Weight\"])\n",
    "print(slope, intercept)"
   ]
  },
  {
   "cell_type": "code",
   "execution_count": 69,
   "metadata": {},
   "outputs": [
    {
     "name": "stdout",
     "output_type": "stream",
     "text": [
      "5.529377132393046\n"
     ]
    }
   ],
   "source": [
    "print(CalculateMSE(test_df[\"Height\"], test_df[\"Weight\"], intercept, slope)**(1/2))"
   ]
  },
  {
   "cell_type": "code",
   "execution_count": 72,
   "metadata": {},
   "outputs": [
    {
     "name": "stdout",
     "output_type": "stream",
     "text": [
      "5.652096142953079\n",
      "5.7897029042491726\n",
      "5.53866332907573\n",
      "5.701419482836353\n",
      "6.871695790767007\n",
      "5.2036002668618435\n",
      "5.256019340640801\n",
      "4.622999237427191\n",
      "5.038353353501412\n",
      "4.983975798078005\n"
     ]
    }
   ],
   "source": [
    "for i in range(10):\n",
    "    train_df, test_df = split_data(df, i*10, 0.5)\n",
    "    slope, intercept, r, p, se = stats.linregress(train_df[\"Height\"], train_df[\"Weight\"])\n",
    "    print(CalculateMSE(test_df[\"Height\"], test_df[\"Weight\"], intercept, slope)**(1/2))"
   ]
  }
 ],
 "metadata": {
  "kernelspec": {
   "display_name": "Python 3",
   "language": "python",
   "name": "python3"
  },
  "language_info": {
   "codemirror_mode": {
    "name": "ipython",
    "version": 3
   },
   "file_extension": ".py",
   "mimetype": "text/x-python",
   "name": "python",
   "nbconvert_exporter": "python",
   "pygments_lexer": "ipython3",
   "version": "3.10.6"
  },
  "orig_nbformat": 4
 },
 "nbformat": 4,
 "nbformat_minor": 2
}
