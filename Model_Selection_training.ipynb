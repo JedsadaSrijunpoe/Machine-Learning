{
 "cells": [
  {
   "cell_type": "code",
   "execution_count": 55,
   "metadata": {},
   "outputs": [],
   "source": [
    "import pandas as pd\n",
    "import numpy as np\n",
    "from scipy import stats\n",
    "\n",
    "def CalculateMSE_poly(x_positions, y_positions, w_list):\n",
    "    \"\"\"CalculateMSE for polynomial regression model\"\"\"\n",
    "    x = np.array(x_positions)\n",
    "    n = len(x_positions)\n",
    "    MSE = 0\n",
    "    for i in range(0, n):\n",
    "        wx = 0\n",
    "        for j in range(len(w_list)):\n",
    "            wx += w_list[j] * x[i]**(len(w_list)-j-1)\n",
    "        MSE += (wx - y_positions[i]) ** 2\n",
    "    MSE *= 1/(n)\n",
    "    return MSE"
   ]
  },
  {
   "cell_type": "code",
   "execution_count": 56,
   "metadata": {},
   "outputs": [
    {
     "name": "stdout",
     "output_type": "stream",
     "text": [
      "sin noiseless 10 sample\n",
      "Degree = 1 | RMSE = 0.4615\n",
      "Degree = 2 | RMSE = 0.4100\n",
      "Degree = 3 | RMSE = 0.0729\n",
      "Degree = 4 | RMSE = 0.0493\n",
      "Degree = 5 | RMSE = 0.0040\n",
      "Degree = 6 | RMSE = 0.0019\n",
      "Degree = 7 | RMSE = 0.0001\n",
      "Degree = 8 | RMSE = 0.0000\n",
      "Degree = 9 | RMSE = 0.0000\n",
      "Degree = 10 | RMSE = 0.0000\n"
     ]
    },
    {
     "name": "stderr",
     "output_type": "stream",
     "text": [
      "C:\\Users\\Jedsada_Srijunpoe\\AppData\\Local\\Temp\\ipykernel_19564\\3336554313.py:7: RankWarning: Polyfit may be poorly conditioned\n",
      "  w = np.polyfit(df[\"x\"], df[\"y\"], degree)\n"
     ]
    }
   ],
   "source": [
    "# sin noiseless 10 sample\n",
    "print(\"sin noiseless 10 sample\")\n",
    "df = pd.read_csv(\"data/sin experiment/sin_noiseless_10sample.csv\")\n",
    "MAX_DEGREE = 10\n",
    "\n",
    "for degree in range(1, MAX_DEGREE+1):\n",
    "    w = np.polyfit(df[\"x\"], df[\"y\"], degree)\n",
    "    RMSE = CalculateMSE_poly(df[\"x\"], df[\"y\"], w)**(1/2)\n",
    "    print(f'Degree = {degree} | RMSE = {RMSE:.4f}')"
   ]
  },
  {
   "cell_type": "code",
   "execution_count": 57,
   "metadata": {},
   "outputs": [
    {
     "name": "stdout",
     "output_type": "stream",
     "text": [
      "sin noiseless 20 sample\n",
      "Degree = 1 | RMSE = 0.4475\n",
      "Degree = 2 | RMSE = 0.4347\n",
      "Degree = 3 | RMSE = 0.0686\n",
      "Degree = 4 | RMSE = 0.0619\n",
      "Degree = 5 | RMSE = 0.0044\n",
      "Degree = 6 | RMSE = 0.0036\n",
      "Degree = 7 | RMSE = 0.0002\n",
      "Degree = 8 | RMSE = 0.0001\n",
      "Degree = 9 | RMSE = 0.0000\n",
      "Degree = 10 | RMSE = 0.0000\n"
     ]
    }
   ],
   "source": [
    "# sin noiseless 20 sample\n",
    "print(\"sin noiseless 20 sample\")\n",
    "df = pd.read_csv(\"data/sin experiment/sin_noiseless_20sample.csv\")\n",
    "MAX_DEGREE = 10\n",
    "\n",
    "for degree in range(1, MAX_DEGREE+1):\n",
    "    w = np.polyfit(df[\"x\"], df[\"y\"], degree)\n",
    "    RMSE = CalculateMSE_poly(df[\"x\"], df[\"y\"], w)**(1/2)\n",
    "    print(f'Degree = {degree} | RMSE = {RMSE:.4f}')"
   ]
  },
  {
   "cell_type": "code",
   "execution_count": 58,
   "metadata": {},
   "outputs": [
    {
     "name": "stdout",
     "output_type": "stream",
     "text": [
      "sin noiseless 40 sample\n",
      "Degree = 1 | RMSE = 0.4440\n",
      "Degree = 2 | RMSE = 0.4407\n",
      "Degree = 3 | RMSE = 0.0669\n",
      "Degree = 4 | RMSE = 0.0652\n",
      "Degree = 5 | RMSE = 0.0044\n",
      "Degree = 6 | RMSE = 0.0041\n",
      "Degree = 7 | RMSE = 0.0002\n",
      "Degree = 8 | RMSE = 0.0001\n",
      "Degree = 9 | RMSE = 0.0000\n",
      "Degree = 10 | RMSE = 0.0000\n"
     ]
    }
   ],
   "source": [
    "# sin noiseless 40 sample\n",
    "print(\"sin noiseless 40 sample\")\n",
    "df = pd.read_csv(\"data/sin experiment/sin_noiseless_40sample.csv\")\n",
    "MAX_DEGREE = 10\n",
    "\n",
    "for degree in range(1, MAX_DEGREE+1):\n",
    "    w = np.polyfit(df[\"x\"], df[\"y\"], degree)\n",
    "    RMSE = CalculateMSE_poly(df[\"x\"], df[\"y\"], w)**(1/2)\n",
    "    print(f'Degree = {degree} | RMSE = {RMSE:.4f}')"
   ]
  },
  {
   "cell_type": "code",
   "execution_count": 59,
   "metadata": {},
   "outputs": [
    {
     "name": "stdout",
     "output_type": "stream",
     "text": [
      "sin noiseless 80 sample\n",
      "Degree = 1 | RMSE = 0.4431\n",
      "Degree = 2 | RMSE = 0.4423\n",
      "Degree = 3 | RMSE = 0.0664\n",
      "Degree = 4 | RMSE = 0.0660\n",
      "Degree = 5 | RMSE = 0.0043\n",
      "Degree = 6 | RMSE = 0.0043\n",
      "Degree = 7 | RMSE = 0.0002\n",
      "Degree = 8 | RMSE = 0.0002\n",
      "Degree = 9 | RMSE = 0.0000\n",
      "Degree = 10 | RMSE = 0.0000\n"
     ]
    }
   ],
   "source": [
    "# sin noiseless 80 sample\n",
    "print(\"sin noiseless 80 sample\")\n",
    "df = pd.read_csv(\"data/sin experiment/sin_noiseless_80sample.csv\")\n",
    "MAX_DEGREE = 10\n",
    "\n",
    "for degree in range(1, MAX_DEGREE+1):\n",
    "    w = np.polyfit(df[\"x\"], df[\"y\"], degree)\n",
    "    RMSE = CalculateMSE_poly(df[\"x\"], df[\"y\"], w)**(1/2)\n",
    "    print(f'Degree = {degree} | RMSE = {RMSE:.4f}')"
   ]
  },
  {
   "cell_type": "code",
   "execution_count": 60,
   "metadata": {},
   "outputs": [
    {
     "name": "stdout",
     "output_type": "stream",
     "text": [
      "sin noisy 10 sample\n",
      "Degree = 1 | RMSE = 0.5728\n",
      "Degree = 2 | RMSE = 0.4298\n",
      "Degree = 3 | RMSE = 0.2265\n",
      "Degree = 4 | RMSE = 0.2246\n",
      "Degree = 5 | RMSE = 0.2081\n",
      "Degree = 6 | RMSE = 0.1063\n",
      "Degree = 7 | RMSE = 0.0865\n",
      "Degree = 8 | RMSE = 0.0607\n",
      "Degree = 9 | RMSE = 0.0000\n",
      "Degree = 10 | RMSE = 0.0000\n"
     ]
    },
    {
     "name": "stderr",
     "output_type": "stream",
     "text": [
      "C:\\Users\\Jedsada_Srijunpoe\\AppData\\Local\\Temp\\ipykernel_19564\\889773705.py:7: RankWarning: Polyfit may be poorly conditioned\n",
      "  w = np.polyfit(df[\"x\"], df[\"noisy_y\"], degree)\n"
     ]
    }
   ],
   "source": [
    "# sin noisy 10 sample\n",
    "print(\"sin noisy 10 sample\")\n",
    "df = pd.read_csv(\"data/sin experiment/sin_noisy_10sample.csv\")\n",
    "MAX_DEGREE = 10\n",
    "\n",
    "for degree in range(1, MAX_DEGREE+1):\n",
    "    w = np.polyfit(df[\"x\"], df[\"noisy_y\"], degree)\n",
    "    RMSE = CalculateMSE_poly(df[\"x\"], df[\"noisy_y\"], w)**(1/2)\n",
    "    print(f'Degree = {degree} | RMSE = {RMSE:.4f}')"
   ]
  },
  {
   "cell_type": "code",
   "execution_count": 61,
   "metadata": {},
   "outputs": [
    {
     "name": "stdout",
     "output_type": "stream",
     "text": [
      "sin noisy 20 sample\n",
      "Degree = 1 | RMSE = 0.4316\n",
      "Degree = 2 | RMSE = 0.4137\n",
      "Degree = 3 | RMSE = 0.2720\n",
      "Degree = 4 | RMSE = 0.2611\n",
      "Degree = 5 | RMSE = 0.2595\n",
      "Degree = 6 | RMSE = 0.2341\n",
      "Degree = 7 | RMSE = 0.1976\n",
      "Degree = 8 | RMSE = 0.1936\n",
      "Degree = 9 | RMSE = 0.1933\n",
      "Degree = 10 | RMSE = 0.1563\n"
     ]
    }
   ],
   "source": [
    "# sin noisy 20 sample\n",
    "print(\"sin noisy 20 sample\")\n",
    "df = pd.read_csv(\"data/sin experiment/sin_noisy_20sample.csv\")\n",
    "MAX_DEGREE = 10\n",
    "\n",
    "for degree in range(1, MAX_DEGREE+1):\n",
    "    w = np.polyfit(df[\"x\"], df[\"noisy_y\"], degree)\n",
    "    RMSE = CalculateMSE_poly(df[\"x\"], df[\"noisy_y\"], w)**(1/2)\n",
    "    print(f'Degree = {degree} | RMSE = {RMSE:.4f}')"
   ]
  },
  {
   "cell_type": "code",
   "execution_count": 62,
   "metadata": {},
   "outputs": [
    {
     "name": "stdout",
     "output_type": "stream",
     "text": [
      "sin noisy 40 sample\n",
      "Degree = 1 | RMSE = 0.5445\n",
      "Degree = 2 | RMSE = 0.5388\n",
      "Degree = 3 | RMSE = 0.2929\n",
      "Degree = 4 | RMSE = 0.2908\n",
      "Degree = 5 | RMSE = 0.2900\n",
      "Degree = 6 | RMSE = 0.2900\n",
      "Degree = 7 | RMSE = 0.2897\n",
      "Degree = 8 | RMSE = 0.2718\n",
      "Degree = 9 | RMSE = 0.2709\n",
      "Degree = 10 | RMSE = 0.2707\n"
     ]
    }
   ],
   "source": [
    "# sin noisy 40 sample\n",
    "print(\"sin noisy 40 sample\")\n",
    "df = pd.read_csv(\"data/sin experiment/sin_noisy_40sample.csv\")\n",
    "MAX_DEGREE = 10\n",
    "\n",
    "for degree in range(1, MAX_DEGREE+1):\n",
    "    w = np.polyfit(df[\"x\"], df[\"noisy_y\"], degree)\n",
    "    RMSE = CalculateMSE_poly(df[\"x\"], df[\"noisy_y\"], w)**(1/2)\n",
    "    print(f'Degree = {degree} | RMSE = {RMSE:.4f}')"
   ]
  },
  {
   "cell_type": "code",
   "execution_count": 63,
   "metadata": {},
   "outputs": [
    {
     "name": "stdout",
     "output_type": "stream",
     "text": [
      "sin noisy 80 sample\n",
      "Degree = 1 | RMSE = 0.4990\n",
      "Degree = 2 | RMSE = 0.4970\n",
      "Degree = 3 | RMSE = 0.2737\n",
      "Degree = 4 | RMSE = 0.2733\n",
      "Degree = 5 | RMSE = 0.2628\n",
      "Degree = 6 | RMSE = 0.2593\n",
      "Degree = 7 | RMSE = 0.2589\n",
      "Degree = 8 | RMSE = 0.2578\n",
      "Degree = 9 | RMSE = 0.2563\n",
      "Degree = 10 | RMSE = 0.2531\n"
     ]
    }
   ],
   "source": [
    "# sin noisy 80 sample\n",
    "print(\"sin noisy 80 sample\")\n",
    "df = pd.read_csv(\"data/sin experiment/sin_noisy_80sample.csv\")\n",
    "MAX_DEGREE = 10\n",
    "\n",
    "for degree in range(1, MAX_DEGREE+1):\n",
    "    w = np.polyfit(df[\"x\"], df[\"noisy_y\"], degree)\n",
    "    RMSE = CalculateMSE_poly(df[\"x\"], df[\"noisy_y\"], w)**(1/2)\n",
    "    print(f'Degree = {degree} | RMSE = {RMSE:.4f}')"
   ]
  },
  {
   "cell_type": "code",
   "execution_count": null,
   "metadata": {},
   "outputs": [],
   "source": []
  }
 ],
 "metadata": {
  "kernelspec": {
   "display_name": "Python 3",
   "language": "python",
   "name": "python3"
  },
  "language_info": {
   "codemirror_mode": {
    "name": "ipython",
    "version": 3
   },
   "file_extension": ".py",
   "mimetype": "text/x-python",
   "name": "python",
   "nbconvert_exporter": "python",
   "pygments_lexer": "ipython3",
   "version": "3.10.2"
  },
  "orig_nbformat": 4
 },
 "nbformat": 4,
 "nbformat_minor": 2
}
