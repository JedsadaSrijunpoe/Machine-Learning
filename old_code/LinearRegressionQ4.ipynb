{
 "cells": [
  {
   "cell_type": "code",
   "execution_count": 3,
   "metadata": {},
   "outputs": [
    {
     "name": "stdout",
     "output_type": "stream",
     "text": [
      "[-10.39393564   0.2126639   -0.0362927 ]\n"
     ]
    }
   ],
   "source": [
    "import numpy as np\n",
    "\n",
    "def normalEquation(matX,vecY):\n",
    "    X_transpose = np.transpose(matX)\n",
    "\n",
    "    left_side = np.dot(X_transpose,matX)\n",
    "    right_side = np.dot(X_transpose,vecY)\n",
    "\n",
    "    ans = np.linalg.inv(left_side).dot(right_side)\n",
    "    return ans\n",
    "\n",
    "x = [[1,2015,497],\n",
    "    [1,1584,356],\n",
    "    [1,2469,556],\n",
    "    [1,989,222]]\n",
    "y = [400,300,500,200]\n",
    "X = np.array(x)\n",
    "Y = np.array(y)\n",
    "\n",
    "print(normalEquation(X,Y))"
   ]
  },
  {
   "cell_type": "code",
   "execution_count": 6,
   "metadata": {},
   "outputs": [
    {
     "name": "stdout",
     "output_type": "stream",
     "text": [
      "Gradient Descent : [350.         134.11044447  -5.4287512 ]\n",
      "----------------------------------------------------\n",
      "Normal Equation : [350.         134.11044447  -5.4287512 ]\n"
     ]
    }
   ],
   "source": [
    "import math\n",
    "def gradientDescent(x_position,y_position,learning,ans):\n",
    "    n = len(x_position)\n",
    "    X_trans = np.transpose(x_position)\n",
    "    Xw = np.dot(x_position,ans)\n",
    "    temp = np.dot(X_trans,(Xw-y_position))\n",
    "    w_new = ans - (learning/n)*temp\n",
    "    return w_new\n",
    "\n",
    "def Standardize(points):\n",
    "    a = 0\n",
    "    n = len(points)\n",
    "    mean = sum(points) / n\n",
    "    new_points = []\n",
    "    for i in range(0,n):\n",
    "        a += (points[i] - mean) ** 2\n",
    "    std = math.sqrt(a / (n-1))\n",
    "    for i in range(0,n):\n",
    "        new_points.append((points[i] - mean) / std)\n",
    "    return new_points\n",
    "\n",
    "x = [[2015,497],\n",
    "    [1584,356],\n",
    "    [2469,556],\n",
    "    [989,222]]\n",
    "y = [400,300,500,200]\n",
    "X = np.transpose(np.array(x))\n",
    "Y = np.transpose(np.array(y))\n",
    "\n",
    "new_x = [[1,1,1,1]]\n",
    "\n",
    "for i in X:\n",
    "    new_x.append(Standardize(i))\n",
    "X = np.array(new_x)\n",
    "X = np.transpose(X)\n",
    "Y = np.array(y)\n",
    "Y = Y\n",
    "W = np.array([0,0,0])\n",
    "a = 1\n",
    "for i in range(10000):\n",
    "    W = gradientDescent(X,Y,a,W)\n",
    "print(\"Gradient Descent :\",W)\n",
    "print(\"----------------------------------------------------\")\n",
    "print(\"Normal Equation :\",normalEquation(X,Y))"
   ]
  }
 ],
 "metadata": {
  "kernelspec": {
   "display_name": "Python 3",
   "language": "python",
   "name": "python3"
  },
  "language_info": {
   "codemirror_mode": {
    "name": "ipython",
    "version": 3
   },
   "file_extension": ".py",
   "mimetype": "text/x-python",
   "name": "python",
   "nbconvert_exporter": "python",
   "pygments_lexer": "ipython3",
   "version": "3.10.6"
  },
  "orig_nbformat": 4
 },
 "nbformat": 4,
 "nbformat_minor": 2
}
