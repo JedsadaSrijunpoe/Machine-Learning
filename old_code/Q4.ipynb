{
 "cells": [
  {
   "cell_type": "code",
   "execution_count": 121,
   "metadata": {},
   "outputs": [
    {
     "name": "stdout",
     "output_type": "stream",
     "text": [
      "0.7606138107416881 -64.23614663256609\n",
      "0.9321540609093683\n",
      "0.006748457323984342\n",
      "0.14771660591878544\n"
     ]
    },
    {
     "data": {
      "application/vnd.plotly.v1+json": {
       "config": {
        "plotlyServerURL": "https://plot.ly"
       },
       "data": [
        {
         "mode": "lines",
         "type": "scatter",
         "x": [
          150,
          150.37373737373738,
          150.74747474747474,
          151.12121212121212,
          151.4949494949495,
          151.86868686868686,
          152.24242424242425,
          152.6161616161616,
          152.989898989899,
          153.36363636363637,
          153.73737373737373,
          154.11111111111111,
          154.4848484848485,
          154.85858585858585,
          155.23232323232324,
          155.6060606060606,
          155.97979797979798,
          156.35353535353536,
          156.72727272727272,
          157.1010101010101,
          157.4747474747475,
          157.84848484848484,
          158.22222222222223,
          158.59595959595958,
          158.96969696969697,
          159.34343434343435,
          159.7171717171717,
          160.0909090909091,
          160.46464646464648,
          160.83838383838383,
          161.21212121212122,
          161.58585858585857,
          161.95959595959596,
          162.33333333333334,
          162.7070707070707,
          163.08080808080808,
          163.45454545454547,
          163.82828282828282,
          164.2020202020202,
          164.57575757575756,
          164.94949494949495,
          165.32323232323233,
          165.6969696969697,
          166.07070707070707,
          166.44444444444446,
          166.8181818181818,
          167.1919191919192,
          167.56565656565658,
          167.93939393939394,
          168.31313131313132,
          168.68686868686868,
          169.06060606060606,
          169.43434343434345,
          169.8080808080808,
          170.1818181818182,
          170.55555555555554,
          170.92929292929293,
          171.3030303030303,
          171.67676767676767,
          172.05050505050505,
          172.42424242424244,
          172.7979797979798,
          173.17171717171718,
          173.54545454545456,
          173.91919191919192,
          174.2929292929293,
          174.66666666666666,
          175.04040404040404,
          175.41414141414143,
          175.78787878787878,
          176.16161616161617,
          176.53535353535352,
          176.9090909090909,
          177.2828282828283,
          177.65656565656565,
          178.03030303030303,
          178.40404040404042,
          178.77777777777777,
          179.15151515151516,
          179.52525252525254,
          179.8989898989899,
          180.27272727272728,
          180.64646464646464,
          181.02020202020202,
          181.3939393939394,
          181.76767676767676,
          182.14141414141415,
          182.5151515151515,
          182.88888888888889,
          183.26262626262627,
          183.63636363636363,
          184.010101010101,
          184.3838383838384,
          184.75757575757575,
          185.13131313131314,
          185.50505050505052,
          185.87878787878788,
          186.25252525252526,
          186.62626262626264,
          187
         ],
         "y": [
          49.85592497868713,
          50.140194786742114,
          50.42446459479707,
          50.708734402852045,
          50.99300421090703,
          51.27727401896199,
          51.561543827016976,
          51.845813635071934,
          52.13008344312692,
          52.41435325118191,
          52.698623059236866,
          52.98289286729185,
          53.267162675346825,
          53.55143248340178,
          53.83570229145677,
          54.11997209951173,
          54.404241907566714,
          54.6885117156217,
          54.97278152367666,
          55.257051331731645,
          55.54132113978662,
          55.82559094784159,
          56.10986075589656,
          56.39413056395152,
          56.67840037200651,
          56.962670180061494,
          57.24693998811645,
          57.53120979617144,
          57.81547960422641,
          58.09974941228138,
          58.384019220336356,
          58.668289028391314,
          58.9525588364463,
          59.23682864450129,
          59.521098452556245,
          59.80536826061123,
          60.08963806866622,
          60.37390787672118,
          60.65817768477615,
          60.94244749283112,
          61.226717300886094,
          61.51098710894108,
          61.79525691699604,
          62.079526725051025,
          62.36379653310601,
          62.64806634116097,
          62.93233614921594,
          63.21660595727093,
          63.50087576532589,
          63.78514557338087,
          64.06941538143585,
          64.35368518949082,
          64.63795499754579,
          64.92222480560076,
          65.20649461365574,
          65.49076442171071,
          65.77503422976568,
          66.05930403782068,
          66.34357384587562,
          66.62784365393063,
          66.9121134619856,
          67.19638327004054,
          67.48065307809554,
          67.76492288615052,
          68.04919269420549,
          68.33346250226046,
          68.61773231031543,
          68.9020021183704,
          69.18627192642538,
          69.47054173448035,
          69.75481154253532,
          70.0390813505903,
          70.32335115864527,
          70.60762096670027,
          70.89189077475521,
          71.17616058281021,
          71.46043039086518,
          71.74470019892016,
          72.02897000697513,
          72.3132398150301,
          72.59750962308507,
          72.88177943114005,
          73.16604923919502,
          73.45031904724999,
          73.73458885530499,
          74.01885866335994,
          74.30312847141491,
          74.58739827946988,
          74.87166808752485,
          75.15593789557985,
          75.4402077036348,
          75.7244775116898,
          76.00874731974477,
          76.29301712779974,
          76.57728693585472,
          76.86155674390969,
          77.14582655196466,
          77.43009636001963,
          77.71436616807463,
          77.99863597612958
         ]
        },
        {
         "mode": "markers",
         "type": "scatter",
         "x": [
          150,
          187,
          156,
          163,
          170,
          179
         ],
         "y": [
          50,
          75,
          55,
          60,
          60,
          79
         ]
        }
       ],
       "layout": {
        "template": {
         "data": {
          "bar": [
           {
            "error_x": {
             "color": "#2a3f5f"
            },
            "error_y": {
             "color": "#2a3f5f"
            },
            "marker": {
             "line": {
              "color": "#E5ECF6",
              "width": 0.5
             },
             "pattern": {
              "fillmode": "overlay",
              "size": 10,
              "solidity": 0.2
             }
            },
            "type": "bar"
           }
          ],
          "barpolar": [
           {
            "marker": {
             "line": {
              "color": "#E5ECF6",
              "width": 0.5
             },
             "pattern": {
              "fillmode": "overlay",
              "size": 10,
              "solidity": 0.2
             }
            },
            "type": "barpolar"
           }
          ],
          "carpet": [
           {
            "aaxis": {
             "endlinecolor": "#2a3f5f",
             "gridcolor": "white",
             "linecolor": "white",
             "minorgridcolor": "white",
             "startlinecolor": "#2a3f5f"
            },
            "baxis": {
             "endlinecolor": "#2a3f5f",
             "gridcolor": "white",
             "linecolor": "white",
             "minorgridcolor": "white",
             "startlinecolor": "#2a3f5f"
            },
            "type": "carpet"
           }
          ],
          "choropleth": [
           {
            "colorbar": {
             "outlinewidth": 0,
             "ticks": ""
            },
            "type": "choropleth"
           }
          ],
          "contour": [
           {
            "colorbar": {
             "outlinewidth": 0,
             "ticks": ""
            },
            "colorscale": [
             [
              0,
              "#0d0887"
             ],
             [
              0.1111111111111111,
              "#46039f"
             ],
             [
              0.2222222222222222,
              "#7201a8"
             ],
             [
              0.3333333333333333,
              "#9c179e"
             ],
             [
              0.4444444444444444,
              "#bd3786"
             ],
             [
              0.5555555555555556,
              "#d8576b"
             ],
             [
              0.6666666666666666,
              "#ed7953"
             ],
             [
              0.7777777777777778,
              "#fb9f3a"
             ],
             [
              0.8888888888888888,
              "#fdca26"
             ],
             [
              1,
              "#f0f921"
             ]
            ],
            "type": "contour"
           }
          ],
          "contourcarpet": [
           {
            "colorbar": {
             "outlinewidth": 0,
             "ticks": ""
            },
            "type": "contourcarpet"
           }
          ],
          "heatmap": [
           {
            "colorbar": {
             "outlinewidth": 0,
             "ticks": ""
            },
            "colorscale": [
             [
              0,
              "#0d0887"
             ],
             [
              0.1111111111111111,
              "#46039f"
             ],
             [
              0.2222222222222222,
              "#7201a8"
             ],
             [
              0.3333333333333333,
              "#9c179e"
             ],
             [
              0.4444444444444444,
              "#bd3786"
             ],
             [
              0.5555555555555556,
              "#d8576b"
             ],
             [
              0.6666666666666666,
              "#ed7953"
             ],
             [
              0.7777777777777778,
              "#fb9f3a"
             ],
             [
              0.8888888888888888,
              "#fdca26"
             ],
             [
              1,
              "#f0f921"
             ]
            ],
            "type": "heatmap"
           }
          ],
          "heatmapgl": [
           {
            "colorbar": {
             "outlinewidth": 0,
             "ticks": ""
            },
            "colorscale": [
             [
              0,
              "#0d0887"
             ],
             [
              0.1111111111111111,
              "#46039f"
             ],
             [
              0.2222222222222222,
              "#7201a8"
             ],
             [
              0.3333333333333333,
              "#9c179e"
             ],
             [
              0.4444444444444444,
              "#bd3786"
             ],
             [
              0.5555555555555556,
              "#d8576b"
             ],
             [
              0.6666666666666666,
              "#ed7953"
             ],
             [
              0.7777777777777778,
              "#fb9f3a"
             ],
             [
              0.8888888888888888,
              "#fdca26"
             ],
             [
              1,
              "#f0f921"
             ]
            ],
            "type": "heatmapgl"
           }
          ],
          "histogram": [
           {
            "marker": {
             "pattern": {
              "fillmode": "overlay",
              "size": 10,
              "solidity": 0.2
             }
            },
            "type": "histogram"
           }
          ],
          "histogram2d": [
           {
            "colorbar": {
             "outlinewidth": 0,
             "ticks": ""
            },
            "colorscale": [
             [
              0,
              "#0d0887"
             ],
             [
              0.1111111111111111,
              "#46039f"
             ],
             [
              0.2222222222222222,
              "#7201a8"
             ],
             [
              0.3333333333333333,
              "#9c179e"
             ],
             [
              0.4444444444444444,
              "#bd3786"
             ],
             [
              0.5555555555555556,
              "#d8576b"
             ],
             [
              0.6666666666666666,
              "#ed7953"
             ],
             [
              0.7777777777777778,
              "#fb9f3a"
             ],
             [
              0.8888888888888888,
              "#fdca26"
             ],
             [
              1,
              "#f0f921"
             ]
            ],
            "type": "histogram2d"
           }
          ],
          "histogram2dcontour": [
           {
            "colorbar": {
             "outlinewidth": 0,
             "ticks": ""
            },
            "colorscale": [
             [
              0,
              "#0d0887"
             ],
             [
              0.1111111111111111,
              "#46039f"
             ],
             [
              0.2222222222222222,
              "#7201a8"
             ],
             [
              0.3333333333333333,
              "#9c179e"
             ],
             [
              0.4444444444444444,
              "#bd3786"
             ],
             [
              0.5555555555555556,
              "#d8576b"
             ],
             [
              0.6666666666666666,
              "#ed7953"
             ],
             [
              0.7777777777777778,
              "#fb9f3a"
             ],
             [
              0.8888888888888888,
              "#fdca26"
             ],
             [
              1,
              "#f0f921"
             ]
            ],
            "type": "histogram2dcontour"
           }
          ],
          "mesh3d": [
           {
            "colorbar": {
             "outlinewidth": 0,
             "ticks": ""
            },
            "type": "mesh3d"
           }
          ],
          "parcoords": [
           {
            "line": {
             "colorbar": {
              "outlinewidth": 0,
              "ticks": ""
             }
            },
            "type": "parcoords"
           }
          ],
          "pie": [
           {
            "automargin": true,
            "type": "pie"
           }
          ],
          "scatter": [
           {
            "fillpattern": {
             "fillmode": "overlay",
             "size": 10,
             "solidity": 0.2
            },
            "type": "scatter"
           }
          ],
          "scatter3d": [
           {
            "line": {
             "colorbar": {
              "outlinewidth": 0,
              "ticks": ""
             }
            },
            "marker": {
             "colorbar": {
              "outlinewidth": 0,
              "ticks": ""
             }
            },
            "type": "scatter3d"
           }
          ],
          "scattercarpet": [
           {
            "marker": {
             "colorbar": {
              "outlinewidth": 0,
              "ticks": ""
             }
            },
            "type": "scattercarpet"
           }
          ],
          "scattergeo": [
           {
            "marker": {
             "colorbar": {
              "outlinewidth": 0,
              "ticks": ""
             }
            },
            "type": "scattergeo"
           }
          ],
          "scattergl": [
           {
            "marker": {
             "colorbar": {
              "outlinewidth": 0,
              "ticks": ""
             }
            },
            "type": "scattergl"
           }
          ],
          "scattermapbox": [
           {
            "marker": {
             "colorbar": {
              "outlinewidth": 0,
              "ticks": ""
             }
            },
            "type": "scattermapbox"
           }
          ],
          "scatterpolar": [
           {
            "marker": {
             "colorbar": {
              "outlinewidth": 0,
              "ticks": ""
             }
            },
            "type": "scatterpolar"
           }
          ],
          "scatterpolargl": [
           {
            "marker": {
             "colorbar": {
              "outlinewidth": 0,
              "ticks": ""
             }
            },
            "type": "scatterpolargl"
           }
          ],
          "scatterternary": [
           {
            "marker": {
             "colorbar": {
              "outlinewidth": 0,
              "ticks": ""
             }
            },
            "type": "scatterternary"
           }
          ],
          "surface": [
           {
            "colorbar": {
             "outlinewidth": 0,
             "ticks": ""
            },
            "colorscale": [
             [
              0,
              "#0d0887"
             ],
             [
              0.1111111111111111,
              "#46039f"
             ],
             [
              0.2222222222222222,
              "#7201a8"
             ],
             [
              0.3333333333333333,
              "#9c179e"
             ],
             [
              0.4444444444444444,
              "#bd3786"
             ],
             [
              0.5555555555555556,
              "#d8576b"
             ],
             [
              0.6666666666666666,
              "#ed7953"
             ],
             [
              0.7777777777777778,
              "#fb9f3a"
             ],
             [
              0.8888888888888888,
              "#fdca26"
             ],
             [
              1,
              "#f0f921"
             ]
            ],
            "type": "surface"
           }
          ],
          "table": [
           {
            "cells": {
             "fill": {
              "color": "#EBF0F8"
             },
             "line": {
              "color": "white"
             }
            },
            "header": {
             "fill": {
              "color": "#C8D4E3"
             },
             "line": {
              "color": "white"
             }
            },
            "type": "table"
           }
          ]
         },
         "layout": {
          "annotationdefaults": {
           "arrowcolor": "#2a3f5f",
           "arrowhead": 0,
           "arrowwidth": 1
          },
          "autotypenumbers": "strict",
          "coloraxis": {
           "colorbar": {
            "outlinewidth": 0,
            "ticks": ""
           }
          },
          "colorscale": {
           "diverging": [
            [
             0,
             "#8e0152"
            ],
            [
             0.1,
             "#c51b7d"
            ],
            [
             0.2,
             "#de77ae"
            ],
            [
             0.3,
             "#f1b6da"
            ],
            [
             0.4,
             "#fde0ef"
            ],
            [
             0.5,
             "#f7f7f7"
            ],
            [
             0.6,
             "#e6f5d0"
            ],
            [
             0.7,
             "#b8e186"
            ],
            [
             0.8,
             "#7fbc41"
            ],
            [
             0.9,
             "#4d9221"
            ],
            [
             1,
             "#276419"
            ]
           ],
           "sequential": [
            [
             0,
             "#0d0887"
            ],
            [
             0.1111111111111111,
             "#46039f"
            ],
            [
             0.2222222222222222,
             "#7201a8"
            ],
            [
             0.3333333333333333,
             "#9c179e"
            ],
            [
             0.4444444444444444,
             "#bd3786"
            ],
            [
             0.5555555555555556,
             "#d8576b"
            ],
            [
             0.6666666666666666,
             "#ed7953"
            ],
            [
             0.7777777777777778,
             "#fb9f3a"
            ],
            [
             0.8888888888888888,
             "#fdca26"
            ],
            [
             1,
             "#f0f921"
            ]
           ],
           "sequentialminus": [
            [
             0,
             "#0d0887"
            ],
            [
             0.1111111111111111,
             "#46039f"
            ],
            [
             0.2222222222222222,
             "#7201a8"
            ],
            [
             0.3333333333333333,
             "#9c179e"
            ],
            [
             0.4444444444444444,
             "#bd3786"
            ],
            [
             0.5555555555555556,
             "#d8576b"
            ],
            [
             0.6666666666666666,
             "#ed7953"
            ],
            [
             0.7777777777777778,
             "#fb9f3a"
            ],
            [
             0.8888888888888888,
             "#fdca26"
            ],
            [
             1,
             "#f0f921"
            ]
           ]
          },
          "colorway": [
           "#636efa",
           "#EF553B",
           "#00cc96",
           "#ab63fa",
           "#FFA15A",
           "#19d3f3",
           "#FF6692",
           "#B6E880",
           "#FF97FF",
           "#FECB52"
          ],
          "font": {
           "color": "#2a3f5f"
          },
          "geo": {
           "bgcolor": "white",
           "lakecolor": "white",
           "landcolor": "#E5ECF6",
           "showlakes": true,
           "showland": true,
           "subunitcolor": "white"
          },
          "hoverlabel": {
           "align": "left"
          },
          "hovermode": "closest",
          "mapbox": {
           "style": "light"
          },
          "paper_bgcolor": "white",
          "plot_bgcolor": "#E5ECF6",
          "polar": {
           "angularaxis": {
            "gridcolor": "white",
            "linecolor": "white",
            "ticks": ""
           },
           "bgcolor": "#E5ECF6",
           "radialaxis": {
            "gridcolor": "white",
            "linecolor": "white",
            "ticks": ""
           }
          },
          "scene": {
           "xaxis": {
            "backgroundcolor": "#E5ECF6",
            "gridcolor": "white",
            "gridwidth": 2,
            "linecolor": "white",
            "showbackground": true,
            "ticks": "",
            "zerolinecolor": "white"
           },
           "yaxis": {
            "backgroundcolor": "#E5ECF6",
            "gridcolor": "white",
            "gridwidth": 2,
            "linecolor": "white",
            "showbackground": true,
            "ticks": "",
            "zerolinecolor": "white"
           },
           "zaxis": {
            "backgroundcolor": "#E5ECF6",
            "gridcolor": "white",
            "gridwidth": 2,
            "linecolor": "white",
            "showbackground": true,
            "ticks": "",
            "zerolinecolor": "white"
           }
          },
          "shapedefaults": {
           "line": {
            "color": "#2a3f5f"
           }
          },
          "ternary": {
           "aaxis": {
            "gridcolor": "white",
            "linecolor": "white",
            "ticks": ""
           },
           "baxis": {
            "gridcolor": "white",
            "linecolor": "white",
            "ticks": ""
           },
           "bgcolor": "#E5ECF6",
           "caxis": {
            "gridcolor": "white",
            "linecolor": "white",
            "ticks": ""
           }
          },
          "title": {
           "x": 0.05
          },
          "xaxis": {
           "automargin": true,
           "gridcolor": "white",
           "linecolor": "white",
           "ticks": "",
           "title": {
            "standoff": 15
           },
           "zerolinecolor": "white",
           "zerolinewidth": 2
          },
          "yaxis": {
           "automargin": true,
           "gridcolor": "white",
           "linecolor": "white",
           "ticks": "",
           "title": {
            "standoff": 15
           },
           "zerolinecolor": "white",
           "zerolinewidth": 2
          }
         }
        }
       }
      }
     },
     "metadata": {},
     "output_type": "display_data"
    }
   ],
   "source": [
    "from scipy import stats\n",
    "import numpy as np\n",
    "import plotly.graph_objects as go\n",
    "# df = px.data.tips()\n",
    "# x = df['total_bill']\n",
    "# y = df['tip']\n",
    "\n",
    "x = [150,187,156,163,170,179]\n",
    "y = [50,75,55,60,60,79]\n",
    "slope, intercept, r_value, p_value, std_err = stats.linregress(x, y)\n",
    "print(slope,intercept)\n",
    "print(r_value)\n",
    "print(p_value)\n",
    "print(std_err)\n",
    "\n",
    "x_line = np.linspace(min(x),max(x), 100)\n",
    "y_line = slope * x_line + intercept\n",
    "# Create the line object\n",
    "\n",
    "data = go.Scatter(x=x, y=y,mode='markers')\n",
    "regression = go.Scatter(x=x_line, y=y_line, mode='lines')\n",
    "fig = go.Figure(data=[regression,data])\n",
    "fig.show()\n",
    "\n"
   ]
  },
  {
   "cell_type": "code",
   "execution_count": 195,
   "metadata": {},
   "outputs": [
    {
     "name": "stdout",
     "output_type": "stream",
     "text": [
      "[-10.39393564   0.2126639   -0.0362927 ]\n"
     ]
    }
   ],
   "source": [
    "import numpy as np\n",
    "\n",
    "def normalEquation(matX,vecY):\n",
    "    X_transpose = np.transpose(matX)\n",
    "\n",
    "    left_side = np.dot(X_transpose,matX)\n",
    "    right_side = np.dot(X_transpose,vecY)\n",
    "\n",
    "    ans = np.linalg.inv(left_side).dot(right_side)\n",
    "    return ans\n",
    "\n",
    "x = [[1,2015,497],\n",
    "    [1,1584,356],\n",
    "    [1,2469,556],\n",
    "    [1,989,222]]\n",
    "y = [400,300,500,200]\n",
    "X = np.array(x)\n",
    "Y = np.array(y)\n",
    "\n",
    "print(normalEquation(X,Y))"
   ]
  },
  {
   "cell_type": "code",
   "execution_count": 274,
   "metadata": {},
   "outputs": [
    {
     "name": "stdout",
     "output_type": "stream",
     "text": [
      "Gradient Descent : [ 5.55111512e-17  1.03881504e+00 -4.20509259e-02]\n",
      "----------------------------------------------------\n",
      "Normal Equation : [ 0.          1.03881504 -0.04205093]\n"
     ]
    }
   ],
   "source": [
    "import math\n",
    "def gradientDescent(x_position,y_position,learning,ans):\n",
    "    n = len(x_position)\n",
    "    X_trans = np.transpose(x_position)\n",
    "    Xw = np.dot(x_position,ans)\n",
    "    temp = np.dot(X_trans,(Xw-y_position))\n",
    "    w_new = ans - (learning/n)*temp\n",
    "    return w_new\n",
    "\n",
    "def Standardize(points):\n",
    "    a = 0\n",
    "    n = len(points)\n",
    "    mean = sum(points) / n\n",
    "    new_points = []\n",
    "    for i in range(0,n):\n",
    "        a += (points[i] - mean) ** 2\n",
    "    std = math.sqrt(a / (n-1))\n",
    "    for i in range(0,n):\n",
    "        new_points.append((points[i] - mean) / std)\n",
    "    return new_points\n",
    "\n",
    "x = [[1,2015,497],\n",
    "    [1,1584,356],\n",
    "    [1,2469,556],\n",
    "    [1,989,222]]\n",
    "y = [400,300,500,200]\n",
    "X = np.transpose(np.array(x))\n",
    "Y = np.transpose(np.array(y))\n",
    "\n",
    "new_x = [[1,1,1,1]]\n",
    "\n",
    "for i in X:\n",
    "    new_x.append(Standardize(i))\n",
    "X = np.array(new_x)\n",
    "X = np.transpose(X)\n",
    "Y = np.array(y)\n",
    "Y = Standardize(Y)\n",
    "W = np.array([0,0,0])\n",
    "a = 1\n",
    "for i in range(10000):\n",
    "    W = gradientDescent(X,Y,a,W)\n",
    "print(\"Gradient Descent :\",W)\n",
    "print(\"----------------------------------------------------\")\n",
    "print(\"Normal Equation :\",normalEquation(X,Y))\n"
   ]
  }
 ],
 "metadata": {
  "kernelspec": {
   "display_name": "Python 3",
   "language": "python",
   "name": "python3"
  },
  "language_info": {
   "codemirror_mode": {
    "name": "ipython",
    "version": 3
   },
   "file_extension": ".py",
   "mimetype": "text/x-python",
   "name": "python",
   "nbconvert_exporter": "python",
   "pygments_lexer": "ipython3",
   "version": "3.9.13"
  },
  "orig_nbformat": 4
 },
 "nbformat": 4,
 "nbformat_minor": 2
}
