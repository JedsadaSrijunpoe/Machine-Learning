{
 "cells": [
  {
   "cell_type": "code",
   "execution_count": null,
   "metadata": {},
   "outputs": [],
   "source": [
    "import pandas as pd\n",
    "import numpy as np\n",
    "from sklearn.model_selection import KFold\n",
    "\n",
    "MAX_DEGREE = 10\n",
    "FOLDS = 10\n",
    "\n",
    "def CalculateMSE_poly(x_positions, y_positions, w_list):\n",
    "    \"\"\"CalculateMSE for polynomial regression model\"\"\"\n",
    "    x = np.array(x_positions)\n",
    "    n = len(x_positions)\n",
    "    MSE = 0\n",
    "    for i in range(0, n):\n",
    "        wx = 0\n",
    "        for j in range(len(w_list)):\n",
    "            wx += w_list[j] * x[i]**(len(w_list)-j-1)\n",
    "        MSE += (wx - y_positions[i]) ** 2\n",
    "    MSE *= 1/(n)\n",
    "    return MSE\n",
    "\n",
    "def generate_feature_matrix(x, degree):\n",
    "    if degree == 0:\n",
    "        X = np.ones((len(x), 1))\n",
    "        return X\n",
    "    elif degree == 1:\n",
    "        X = np.column_stack((np.ones(len(x)), x))\n",
    "        return X\n",
    "    elif degree > 1:\n",
    "        X_poly = np.column_stack([x ** d for d in range(0, degree)])\n",
    "        return X_poly\n",
    "    else:\n",
    "        raise ValueError(\"Degree must be a non-negative integer.\")\n",
    "    \n",
    "def CalculateMSE(x_positions, y_positions, w_list):\n",
    "    n = len(x_positions)\n",
    "    x_positions = generate_feature_matrix(x_positions,len(w_list))\n",
    "    MSE = 0\n",
    "    for i in range(0, n):\n",
    "        wx = np.dot(x_positions[i],np.flip(w_list))\n",
    "        MSE += (wx - y_positions[i]) ** 2\n",
    "        \n",
    "    MSE *= 1/(n)\n",
    "    # print(\"new\",MSE)\n",
    "    return MSE\n",
    "\n",
    "def cross_validation(X, y, folds, degree):\n",
    "    #Not done\n",
    "    k_folds = KFold(n_splits=folds)\n",
    "    \n",
    "    avg_rmse = []\n",
    "    for train_index, validate_index in k_folds.split(X):\n",
    "        # print(train_index,validate_index)\n",
    "        X_train , X_validate = X.iloc[train_index], X.iloc[validate_index]\n",
    "        y_train , y_validate = y.iloc[train_index], y.iloc[validate_index]\n",
    "\n",
    "        result = np.polyfit(X_train.values.flatten(), np.array(y_train), degree)\n",
    "        \n",
    "        avg_rmse.append(CalculateMSE(X_validate.values.flatten(), np.array(y_validate), result)**(1/2))\n",
    "        #avg_rmse.append(CalculateMSE_poly(X_validate.values.flatten(), np.array(y_validate), result))\n",
    "    return np.mean(avg_rmse)"
   ]
  },
  {
   "cell_type": "markdown",
   "metadata": {},
   "source": [
    "# Sin"
   ]
  },
  {
   "cell_type": "markdown",
   "metadata": {},
   "source": [
    "## Training set"
   ]
  },
  {
   "cell_type": "markdown",
   "metadata": {},
   "source": [
    "### Noiseless"
   ]
  },
  {
   "cell_type": "code",
   "execution_count": null,
   "metadata": {},
   "outputs": [],
   "source": [
    "# sin noiseless 10 sample\n",
    "print(\"sin noiseless 10 sample\")\n",
    "df = pd.read_csv(\"data/sin experiment/sin_noiseless_10sample.csv\")\n",
    "\n",
    "for degree in range(1, MAX_DEGREE+1):\n",
    "    w = np.polyfit(df[\"x\"], df[\"y\"], degree)\n",
    "    RMSE = CalculateMSE_poly(df[\"x\"], df[\"y\"], w)**(1/2)\n",
    "    print(f'Degree = {degree} | RMSE = {RMSE:.4f}')"
   ]
  },
  {
   "cell_type": "code",
   "execution_count": null,
   "metadata": {},
   "outputs": [],
   "source": [
    "# sin noiseless 20 sample\n",
    "print(\"sin noiseless 20 sample\")\n",
    "df = pd.read_csv(\"data/sin experiment/sin_noiseless_20sample.csv\")\n",
    "\n",
    "for degree in range(1, MAX_DEGREE+1):\n",
    "    w = np.polyfit(df[\"x\"], df[\"y\"], degree)\n",
    "    RMSE = CalculateMSE_poly(df[\"x\"], df[\"y\"], w)**(1/2)\n",
    "    print(f'Degree = {degree} | RMSE = {RMSE:.4f}')"
   ]
  },
  {
   "cell_type": "code",
   "execution_count": null,
   "metadata": {},
   "outputs": [],
   "source": [
    "# sin noiseless 40 sample\n",
    "print(\"sin noiseless 40 sample\")\n",
    "df = pd.read_csv(\"data/sin experiment/sin_noiseless_40sample.csv\")\n",
    "\n",
    "for degree in range(1, MAX_DEGREE+1):\n",
    "    w = np.polyfit(df[\"x\"], df[\"y\"], degree)\n",
    "    RMSE = CalculateMSE_poly(df[\"x\"], df[\"y\"], w)**(1/2)\n",
    "    print(f'Degree = {degree} | RMSE = {RMSE:.4f}')"
   ]
  },
  {
   "cell_type": "code",
   "execution_count": null,
   "metadata": {},
   "outputs": [],
   "source": [
    "# sin noiseless 80 sample\n",
    "print(\"sin noiseless 80 sample\")\n",
    "df = pd.read_csv(\"data/sin experiment/sin_noiseless_80sample.csv\")\n",
    "\n",
    "for degree in range(1, MAX_DEGREE+1):\n",
    "    w = np.polyfit(df[\"x\"], df[\"y\"], degree)\n",
    "    RMSE = CalculateMSE_poly(df[\"x\"], df[\"y\"], w)**(1/2)\n",
    "    print(f'Degree = {degree} | RMSE = {RMSE:.4f}')"
   ]
  },
  {
   "cell_type": "markdown",
   "metadata": {},
   "source": [
    "### Noisy"
   ]
  },
  {
   "cell_type": "code",
   "execution_count": null,
   "metadata": {},
   "outputs": [],
   "source": [
    "# sin noisy 10 sample\n",
    "print(\"sin noisy 10 sample\")\n",
    "df = pd.read_csv(\"data/sin experiment/sin_noisy_10sample.csv\")\n",
    "\n",
    "for degree in range(1, MAX_DEGREE+1):\n",
    "    w = np.polyfit(df[\"x\"], df[\"noisy_y\"], degree)\n",
    "    RMSE = CalculateMSE_poly(df[\"x\"], df[\"noisy_y\"], w)**(1/2)\n",
    "    print(f'Degree = {degree} | RMSE = {RMSE:.4f}')"
   ]
  },
  {
   "cell_type": "code",
   "execution_count": null,
   "metadata": {},
   "outputs": [],
   "source": [
    "# sin noisy 20 sample\n",
    "print(\"sin noisy 20 sample\")\n",
    "df = pd.read_csv(\"data/sin experiment/sin_noisy_20sample.csv\")\n",
    "\n",
    "for degree in range(1, MAX_DEGREE+1):\n",
    "    w = np.polyfit(df[\"x\"], df[\"noisy_y\"], degree)\n",
    "    RMSE = CalculateMSE_poly(df[\"x\"], df[\"noisy_y\"], w)**(1/2)\n",
    "    print(f'Degree = {degree} | RMSE = {RMSE:.4f}')"
   ]
  },
  {
   "cell_type": "code",
   "execution_count": null,
   "metadata": {},
   "outputs": [],
   "source": [
    "# sin noisy 40 sample\n",
    "print(\"sin noisy 40 sample\")\n",
    "df = pd.read_csv(\"data/sin experiment/sin_noisy_40sample.csv\")\n",
    "\n",
    "for degree in range(1, MAX_DEGREE+1):\n",
    "    w = np.polyfit(df[\"x\"], df[\"noisy_y\"], degree)\n",
    "    RMSE = CalculateMSE_poly(df[\"x\"], df[\"noisy_y\"], w)**(1/2)\n",
    "    print(f'Degree = {degree} | RMSE = {RMSE:.4f}')"
   ]
  },
  {
   "cell_type": "code",
   "execution_count": null,
   "metadata": {},
   "outputs": [],
   "source": [
    "# sin noisy 80 sample\n",
    "print(\"sin noisy 80 sample\")\n",
    "df = pd.read_csv(\"data/sin experiment/sin_noisy_80sample.csv\")\n",
    "\n",
    "for degree in range(1, MAX_DEGREE+1):\n",
    "    w = np.polyfit(df[\"x\"], df[\"noisy_y\"], degree)\n",
    "    RMSE = CalculateMSE_poly(df[\"x\"], df[\"noisy_y\"], w)**(1/2)\n",
    "    print(f'Degree = {degree} | RMSE = {RMSE:.4f}')"
   ]
  },
  {
   "cell_type": "markdown",
   "metadata": {},
   "source": [
    "## Cross-validation 10-folds"
   ]
  },
  {
   "cell_type": "markdown",
   "metadata": {},
   "source": [
    "### Noiseless"
   ]
  },
  {
   "cell_type": "code",
   "execution_count": null,
   "metadata": {},
   "outputs": [],
   "source": [
    "# sin noiseless 10 sample\n",
    "print(\"sin noiseless 10 sample\")\n",
    "df = pd.read_csv(\"data/sin experiment/sin_noiseless_10sample.csv\")\n",
    "\n",
    "for degree in range(1, MAX_DEGREE+1):\n",
    "    RMSE = cross_validation(df[[\"x\"]], df[\"y\"], FOLDS, degree)\n",
    "    print(f'Degree = {degree} | RMSE = {RMSE:.4f}')"
   ]
  },
  {
   "cell_type": "code",
   "execution_count": null,
   "metadata": {},
   "outputs": [],
   "source": [
    "# sin noiseless 20 sample\n",
    "print(\"sin noiseless 20 sample\")\n",
    "df = pd.read_csv(\"data/sin experiment/sin_noiseless_20sample.csv\")\n",
    "\n",
    "for degree in range(1, MAX_DEGREE+1):\n",
    "    RMSE = cross_validation(df[[\"x\"]], df[\"y\"], FOLDS, degree)\n",
    "    print(f'Degree = {degree} | RMSE = {RMSE:.4f}')"
   ]
  },
  {
   "cell_type": "code",
   "execution_count": null,
   "metadata": {},
   "outputs": [],
   "source": [
    "# sin noiseless 40 sample\n",
    "print(\"sin noiseless 40 sample\")\n",
    "df = pd.read_csv(\"data/sin experiment/sin_noiseless_40sample.csv\")\n",
    "\n",
    "for degree in range(1, MAX_DEGREE+1):\n",
    "    RMSE = cross_validation(df[[\"x\"]], df[\"y\"], FOLDS, degree)\n",
    "    print(f'Degree = {degree} | RMSE = {RMSE:.4f}')"
   ]
  },
  {
   "cell_type": "code",
   "execution_count": null,
   "metadata": {},
   "outputs": [],
   "source": [
    "# sin noiseless 80 sample\n",
    "print(\"sin noiseless 80 sample\")\n",
    "df = pd.read_csv(\"data/sin experiment/sin_noiseless_80sample.csv\")\n",
    "\n",
    "for degree in range(1, MAX_DEGREE+1):\n",
    "    RMSE = cross_validation(df[[\"x\"]], df[\"y\"], FOLDS, degree)\n",
    "    print(f'Degree = {degree} | RMSE = {RMSE:.4f}')"
   ]
  },
  {
   "cell_type": "markdown",
   "metadata": {},
   "source": [
    "### Noisy"
   ]
  },
  {
   "cell_type": "code",
   "execution_count": null,
   "metadata": {},
   "outputs": [],
   "source": [
    "# sin noisy 10 sample\n",
    "print(\"sin noisy 10 sample\")\n",
    "df = pd.read_csv(\"data/sin experiment/sin_noisy_10sample.csv\")\n",
    "\n",
    "for degree in range(1, MAX_DEGREE+1):\n",
    "    RMSE = cross_validation(df[[\"x\"]], df[\"noisy_y\"], FOLDS, degree)\n",
    "    print(f'Degree = {degree} | RMSE = {RMSE:.4f}')"
   ]
  },
  {
   "cell_type": "code",
   "execution_count": null,
   "metadata": {},
   "outputs": [],
   "source": [
    "# sin noisy 20 sample\n",
    "print(\"sin noisy 20 sample\")\n",
    "df = pd.read_csv(\"data/sin experiment/sin_noisy_20sample.csv\")\n",
    "\n",
    "for degree in range(1, MAX_DEGREE+1):\n",
    "    RMSE = cross_validation(df[[\"x\"]], df[\"noisy_y\"], FOLDS, degree)\n",
    "    print(f'Degree = {degree} | RMSE = {RMSE:.4f}')"
   ]
  },
  {
   "cell_type": "code",
   "execution_count": null,
   "metadata": {},
   "outputs": [],
   "source": [
    "# sin noisy 40 sample\n",
    "print(\"sin noisy 40 sample\")\n",
    "df = pd.read_csv(\"data/sin experiment/sin_noisy_40sample.csv\")\n",
    "\n",
    "for degree in range(1, MAX_DEGREE+1):\n",
    "    RMSE = cross_validation(df[[\"x\"]], df[\"noisy_y\"], FOLDS, degree)\n",
    "    print(f'Degree = {degree} | RMSE = {RMSE:.4f}')"
   ]
  },
  {
   "cell_type": "code",
   "execution_count": null,
   "metadata": {},
   "outputs": [],
   "source": [
    "# sin noisy 80 sample\n",
    "print(\"sin noisy 80 sample\")\n",
    "df = pd.read_csv(\"data/sin experiment/sin_noisy_80sample.csv\")\n",
    "\n",
    "for degree in range(1, MAX_DEGREE+1):\n",
    "    RMSE = cross_validation(df[[\"x\"]], df[\"noisy_y\"], FOLDS, degree)\n",
    "    print(f'Degree = {degree} | RMSE = {RMSE:.4f}')"
   ]
  },
  {
   "cell_type": "markdown",
   "metadata": {},
   "source": [
    "## Degree of polynomial"
   ]
  },
  {
   "cell_type": "markdown",
   "metadata": {},
   "source": [
    "### Degree 8"
   ]
  },
  {
   "cell_type": "code",
   "execution_count": null,
   "metadata": {},
   "outputs": [],
   "source": [
    "import os\n",
    "\n",
    "data_path = os.path.abspath(\"data/sin experiment/\")\n",
    "filenames = ['sin_noiseless_10sample.csv',\n",
    "             'sin_noisy_10sample.csv',\n",
    "             'sin_noiseless_80sample.csv',\n",
    "             'sin_noisy_80sample.csv']\n",
    "print(filenames)"
   ]
  },
  {
   "cell_type": "code",
   "execution_count": null,
   "metadata": {},
   "outputs": [],
   "source": [
    "DEGREE = 8\n",
    "for filename in filenames:\n",
    "    df = pd.read_csv(os.path.join(data_path, filename))\n",
    "    x = df[\"x\"]\n",
    "    if \"noiseless\" in filename:\n",
    "        y = df[\"y\"]\n",
    "    else:\n",
    "        y = df[\"noisy_y\"]\n",
    "    w_list = np.polyfit(x, y, DEGREE)\n",
    "    print(filename)\n",
    "    for i in range(len(w_list)):\n",
    "        print(f'w{len(w_list)-i-1} = {w_list[i]}')"
   ]
  },
  {
   "cell_type": "markdown",
   "metadata": {},
   "source": [
    "### Degree 3"
   ]
  },
  {
   "cell_type": "code",
   "execution_count": null,
   "metadata": {},
   "outputs": [],
   "source": [
    "DEGREE = 3\n",
    "for filename in filenames:\n",
    "    df = pd.read_csv(os.path.join(data_path, filename))\n",
    "    x = df[\"x\"]\n",
    "    if \"noiseless\" in filename:\n",
    "        y = df[\"y\"]\n",
    "    else:\n",
    "        y = df[\"noisy_y\"]\n",
    "    w_list = np.polyfit(x, y, DEGREE)\n",
    "    print(filename)\n",
    "    for i in range(len(w_list)):\n",
    "        print(f'w{len(w_list)-i-1} = {w_list[i]}')"
   ]
  },
  {
   "cell_type": "code",
   "execution_count": null,
   "metadata": {},
   "outputs": [],
   "source": []
  }
 ],
 "metadata": {
  "kernelspec": {
   "display_name": "Python 3",
   "language": "python",
   "name": "python3"
  },
  "language_info": {
   "codemirror_mode": {
    "name": "ipython",
    "version": 3
   },
   "file_extension": ".py",
   "mimetype": "text/x-python",
   "name": "python",
   "nbconvert_exporter": "python",
   "pygments_lexer": "ipython3",
   "version": "3.10.2"
  },
  "orig_nbformat": 4
 },
 "nbformat": 4,
 "nbformat_minor": 2
}
