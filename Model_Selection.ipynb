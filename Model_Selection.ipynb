{
 "cells": [
  {
   "cell_type": "code",
   "execution_count": null,
   "metadata": {},
   "outputs": [],
   "source": [
    "import numpy as np\n",
    "import pandas as pd"
   ]
  },
  {
   "cell_type": "code",
   "execution_count": null,
   "metadata": {},
   "outputs": [],
   "source": [
    "def normalEquation(matX,vecY):\n",
    "    X_transpose = np.transpose(matX)\n",
    "\n",
    "    left_side = np.dot(X_transpose,matX)\n",
    "    right_side = np.dot(X_transpose,vecY)\n",
    "\n",
    "    ans = np.linalg.inv(left_side).dot(right_side)\n",
    "    return ans\n",
    "\n",
    "def psudo_inv(matA,vecB):\n",
    "    A_pseudo_inv = np.linalg.pinv(matA)\n",
    "    x_pseudo = np.dot(A_pseudo_inv, vecB)\n",
    "\n",
    "    return x_pseudo\n",
    "\n",
    "def generate_feature_matrix(x, degree):\n",
    "    if degree == 0:\n",
    "        return np.ones((len(x),1))\n",
    "    \n",
    "    elif degree == 1:\n",
    "        return np.column_stack((np.ones(len(x)), x))\n",
    "    \n",
    "    elif degree > 1:\n",
    "        X_poly = np.column_stack([x ** d for d in range(degree + 1)])\n",
    "        return X_poly\n",
    "    else:\n",
    "        raise ValueError(\"Degree must be a positive integer.\")\n",
    "\n",
    "\n"
   ]
  },
  {
   "cell_type": "code",
   "execution_count": null,
   "metadata": {},
   "outputs": [],
   "source": [
    "import time\n",
    "df = pd.read_csv(\"data/sin_noiseless_10sample.csv\")\n",
    "\n",
    "degree = 3\n",
    "\n",
    "X = generate_feature_matrix(np.array(df['x']), degree)\n",
    "Y = np.array(df['y'])\n",
    "\n",
    "W = normalEquation(X,Y)\n",
    "print(W)\n",
    "\n",
    "X = np.array(df['x'])\n",
    "\n",
    "W = np.polyfit(X,Y,degree)\n",
    "print(W)"
   ]
  },
  {
   "cell_type": "code",
   "execution_count": null,
   "metadata": {},
   "outputs": [],
   "source": []
  }
 ],
 "metadata": {
  "kernelspec": {
   "display_name": "Python 3",
   "language": "python",
   "name": "python3"
  },
  "language_info": {
   "codemirror_mode": {
    "name": "ipython",
    "version": 3
   },
   "file_extension": ".py",
   "mimetype": "text/x-python",
   "name": "python",
   "nbconvert_exporter": "python",
   "pygments_lexer": "ipython3",
   "version": "3.9.13"
  },
  "orig_nbformat": 4
 },
 "nbformat": 4,
 "nbformat_minor": 2
}
