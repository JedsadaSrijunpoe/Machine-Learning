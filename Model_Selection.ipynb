{
 "cells": [
  {
   "cell_type": "code",
   "execution_count": null,
   "metadata": {},
   "outputs": [],
   "source": [
    "import pandas as pd\n",
    "import numpy as np\n",
    "from scipy import stats\n",
    "import random\n",
    "import math\n",
    "\n",
    "from sklearn import datasets\n",
    "from sklearn.tree import DecisionTreeRegressor\n",
    "from sklearn.model_selection import KFold, cross_val_score"
   ]
  },
  {
   "cell_type": "code",
   "execution_count": 135,
   "metadata": {},
   "outputs": [],
   "source": [
    "def NormalEquation(matX,vecY):\n",
    "    X_transpose = np.transpose(matX)\n",
    "\n",
    "    left_side = np.dot(X_transpose,matX)\n",
    "    right_side = np.dot(X_transpose,vecY)\n",
    "\n",
    "    ans = np.linalg.inv(left_side).dot(right_side)\n",
    "    return ans\n",
    "\n",
    "def generate_feature_matrix(x, degree):\n",
    "    if degree == 0:\n",
    "        X = np.ones((len(x), 1))\n",
    "        return X\n",
    "    elif degree == 1:\n",
    "        X = np.column_stack((np.ones(len(x)), x))\n",
    "        return X\n",
    "    elif degree > 1:\n",
    "        X_poly = np.column_stack([x ** d for d in range(1, degree + 1)])\n",
    "        return X_poly\n",
    "    else:\n",
    "        raise ValueError(\"Degree must be a non-negative integer.\")\n",
    "\n",
    "def CalculateMSE(x_positions, y_positions, w_list):\n",
    "    n = len(x_positions)\n",
    "    x_positions = generate_feature_matrix(x_positions,len(w_list))\n",
    "    MSE = 0\n",
    "    for i in range(0, n):\n",
    "        wx = np.dot(x_positions[i],np.flip(w_list))\n",
    "        MSE += (wx - y_positions[i]) ** 2\n",
    "        \n",
    "    MSE *= 1/(n)\n",
    "    # print(\"new\",MSE)\n",
    "    return MSE\n",
    "\n",
    "def testCalculateMSE(x_positions, y_positions, w0, w1):\n",
    "    n = len(x_positions)\n",
    "    MSE = 0\n",
    "    for i in range(0, n):\n",
    "        MSE += (w0 + w1*x_positions[i] - y_positions[i]) ** 2\n",
    "    MSE *= 1/(n)\n",
    "    # print(\"old\",MSE)\n",
    "    return MSE"
   ]
  },
  {
   "cell_type": "code",
   "execution_count": null,
   "metadata": {},
   "outputs": [],
   "source": [
    "df = pd.read_csv(\"data/sin_noiseless_10sample.csv\")\n",
    "print(df[\"y\"])"
   ]
  },
  {
   "cell_type": "code",
   "execution_count": null,
   "metadata": {},
   "outputs": [],
   "source": [
    "k_folds = KFold(n_splits=5)\n",
    "\n",
    "for train_index, validate_index in k_folds.split(df[[\"x\", \"x^2\", \"x^3\"]]):\n",
    "    print(train_index, validate_index)\n",
    "    X_train , X_validate = df[[\"x\", \"x^2\", \"x^3\"]].iloc[train_index],df[[\"x\", \"x^2\", \"x^3\"]].iloc[validate_index]\n",
    "    y_train , y_validate = df[\"y\"].iloc[train_index] , df[\"y\"].iloc[validate_index]\n",
    "\n",
    "    new_X = [[1,1,1,1,1,1,1,1]]\n",
    "    for i in np.array(X_train).transpose():\n",
    "        new_X.append(list(i))\n",
    "    print(new_X)\n",
    "    X_matrix = np.array(new_X).transpose()\n",
    "    print(X_matrix)\n",
    "    print(NormalEquation(X_matrix, y_train))\n",
    "    print(df[[\"x\", \"x^2\", \"x^3\"]].shape)"
   ]
  },
  {
   "cell_type": "code",
   "execution_count": null,
   "metadata": {},
   "outputs": [],
   "source": [
    "def old_cross_validation(X, y, folds):\n",
    "    #Not done\n",
    "    k_folds = KFold(n_splits=folds)\n",
    "\n",
    "    avg_rmse = []\n",
    "\n",
    "    for train_index, validate_index in k_folds.split(X):\n",
    "        #print(train_index, validate_index)\n",
    "        X_train , X_validate = X.iloc[train_index], X.iloc[validate_index]\n",
    "        y_train , y_validate = y.iloc[train_index] , y.iloc[validate_index]\n",
    "\n",
    "        new_X = [[1 for i in range(X_train.shape[0])]]\n",
    "        for i in np.array(X_train).transpose():\n",
    "            new_X.append(list(i))\n",
    "        #print(new_X)\n",
    "        X_matrix = np.array(new_X).transpose()\n",
    "        model = NormalEquation(X_matrix, y_train)\n",
    "        #print(X_matrix)\n",
    "        #print(model)\n",
    "        avg_rmse.append(CalculateMSE(np.array(X_validate), np.array(y_validate), model)**(1/2))\n",
    "        #print(testCalculateMSE(np.array(X_validate), np.array(y_validate), model[0], model[1]))\n",
    "    print(avg_rmse)\n",
    "    return np.mean(avg_rmse)"
   ]
  },
  {
   "cell_type": "code",
   "execution_count": 139,
   "metadata": {},
   "outputs": [],
   "source": [
    "def cross_validation(X, y, folds):\n",
    "    #Not done\n",
    "    k_folds = KFold(n_splits=folds)\n",
    "    \n",
    "    avg_rmse = []\n",
    "    for train_index, validate_index in k_folds.split(X):\n",
    "        # print(train_index,validate_index)\n",
    "        X_train , X_validate = X.iloc[train_index], X.iloc[validate_index]\n",
    "        y_train , y_validate = y.iloc[train_index] , y.iloc[validate_index]\n",
    "\n",
    "        result = np.polyfit(X_train.values.flatten(), np.array(y_train), 8)\n",
    "\n",
    "        avg_rmse.append(CalculateMSE(X_validate.values.flatten(), np.array(y_validate), result))\n",
    "\n",
    "    return np.mean(avg_rmse)"
   ]
  },
  {
   "cell_type": "code",
   "execution_count": 140,
   "metadata": {},
   "outputs": [
    {
     "name": "stderr",
     "output_type": "stream",
     "text": [
      "C:\\Users\\Krittapon\\AppData\\Local\\Temp\\ipykernel_14676\\3632698403.py:1: RankWarning: Polyfit may be poorly conditioned\n",
      "  cross_validation(df[[\"x\"]], df[\"y\"], 2)\n",
      "C:\\Users\\Krittapon\\AppData\\Local\\Temp\\ipykernel_14676\\3632698403.py:1: RankWarning: Polyfit may be poorly conditioned\n",
      "  cross_validation(df[[\"x\"]], df[\"y\"], 2)\n"
     ]
    },
    {
     "data": {
      "text/plain": [
       "2.794539767028216"
      ]
     },
     "execution_count": 140,
     "metadata": {},
     "output_type": "execute_result"
    }
   ],
   "source": [
    "cross_validation(df[[\"x\"]], df[\"y\"], 2)"
   ]
  }
 ],
 "metadata": {
  "kernelspec": {
   "display_name": "Python 3",
   "language": "python",
   "name": "python3"
  },
  "language_info": {
   "codemirror_mode": {
    "name": "ipython",
    "version": 3
   },
   "file_extension": ".py",
   "mimetype": "text/x-python",
   "name": "python",
   "nbconvert_exporter": "python",
   "pygments_lexer": "ipython3",
   "version": "3.9.13"
  },
  "orig_nbformat": 4
 },
 "nbformat": 4,
 "nbformat_minor": 2
}
