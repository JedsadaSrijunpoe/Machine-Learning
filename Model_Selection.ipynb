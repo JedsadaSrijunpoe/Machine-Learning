{
 "cells": [
  {
   "cell_type": "code",
   "execution_count": 3,
   "metadata": {},
   "outputs": [],
   "source": [
    "import pandas as pd\n",
    "import numpy as np\n",
    "from scipy import stats\n",
    "import random\n",
    "import math\n",
    "\n",
    "from sklearn import datasets\n",
    "from sklearn.tree import DecisionTreeRegressor\n",
    "from sklearn.model_selection import KFold, cross_val_score"
   ]
  },
  {
   "cell_type": "code",
   "execution_count": 4,
   "metadata": {},
   "outputs": [],
   "source": [
    "def NormalEquation(matX,vecY):\n",
    "    X_transpose = np.transpose(matX)\n",
    "\n",
    "    left_side = np.dot(X_transpose,matX)\n",
    "    right_side = np.dot(X_transpose,vecY)\n",
    "\n",
    "    ans = np.linalg.inv(left_side).dot(right_side)\n",
    "    return ans\n",
    "\n",
    "def generate_feature_matrix(x, degree):\n",
    "    if degree == 0:\n",
    "        X = np.ones((len(x), 1))\n",
    "        return X\n",
    "    elif degree == 1:\n",
    "        X = np.column_stack((np.ones(len(x)), x))\n",
    "        return X\n",
    "    elif degree > 1:\n",
    "        X_poly = np.column_stack([x ** d for d in range(0, degree)])\n",
    "        return X_poly\n",
    "    else:\n",
    "        raise ValueError(\"Degree must be a non-negative integer.\")\n",
    "\n",
    "def CalculateMSE(x_positions, y_positions, w_list):\n",
    "    n = len(x_positions)\n",
    "    x_positions = generate_feature_matrix(x_positions,len(w_list))\n",
    "    MSE = 0\n",
    "    for i in range(0, n):\n",
    "        wx = np.dot(x_positions[i],np.flip(w_list))\n",
    "        MSE += (wx - y_positions[i]) ** 2\n",
    "        \n",
    "    MSE *= 1/(n)\n",
    "    # print(\"new\",MSE)\n",
    "    return MSE\n",
    "\n",
    "def testCalculateMSE(x_positions, y_positions, w_list):\n",
    "    x = np.array(x_positions)\n",
    "    n = len(x_positions)\n",
    "    MSE = 0\n",
    "    for i in range(0, n):\n",
    "        wx, count = 0, 0\n",
    "    for w in w_list:\n",
    "        wx += w * x[i, count-1] if count > 0 else w\n",
    "        count += 1\n",
    "        MSE += (wx - y_positions[i]) ** 2\n",
    "    MSE *= 1/(n)\n",
    "    return MSE"
   ]
  },
  {
   "cell_type": "code",
   "execution_count": 5,
   "metadata": {},
   "outputs": [
    {
     "name": "stdout",
     "output_type": "stream",
     "text": [
      "0   -1.220000e-16\n",
      "1   -5.877853e-01\n",
      "2   -9.510565e-01\n",
      "3   -9.510565e-01\n",
      "4   -5.877853e-01\n",
      "5    0.000000e+00\n",
      "6    5.877853e-01\n",
      "7    9.510565e-01\n",
      "8    9.510565e-01\n",
      "9    5.877853e-01\n",
      "Name: y, dtype: float64\n"
     ]
    }
   ],
   "source": [
    "df = pd.read_csv(\"data/sin_noiseless_10sample.csv\")\n",
    "print(df[\"y\"])"
   ]
  },
  {
   "cell_type": "code",
   "execution_count": 6,
   "metadata": {},
   "outputs": [
    {
     "name": "stdout",
     "output_type": "stream",
     "text": [
      "[2 3 4 5 6 7 8 9] [0 1]\n",
      "[[1, 1, 1, 1, 1, 1, 1, 1], [-0.6, -0.4, -0.2, 0.0, 0.2, 0.4, 0.6, 0.8], [0.36, 0.16, 0.04, 0.0, 0.04, 0.16, 0.36, 0.64], [-0.216, -0.064, -0.008, 0.0, 0.008, 0.064, 0.216, 0.512]]\n",
      "[[ 1.    -0.6    0.36  -0.216]\n",
      " [ 1.    -0.4    0.16  -0.064]\n",
      " [ 1.    -0.2    0.04  -0.008]\n",
      " [ 1.     0.     0.     0.   ]\n",
      " [ 1.     0.2    0.04   0.008]\n",
      " [ 1.     0.4    0.16   0.064]\n",
      " [ 1.     0.6    0.36   0.216]\n",
      " [ 1.     0.8    0.64   0.512]]\n",
      "[-0.01076204  2.92260765  0.08968369 -3.55868716]\n",
      "(10, 3)\n",
      "[0 1 4 5 6 7 8 9] [2 3]\n",
      "[[1, 1, 1, 1, 1, 1, 1, 1], [-1.0, -0.8, -0.2, 0.0, 0.2, 0.4, 0.6, 0.8], [1.0, 0.64, 0.04, 0.0, 0.04, 0.16, 0.36, 0.64], [-1.0, -0.512, -0.008, 0.0, 0.008, 0.064, 0.216, 0.512]]\n",
      "[[ 1.    -1.     1.    -1.   ]\n",
      " [ 1.    -0.8    0.64  -0.512]\n",
      " [ 1.    -0.2    0.04  -0.008]\n",
      " [ 1.     0.     0.     0.   ]\n",
      " [ 1.     0.2    0.04   0.008]\n",
      " [ 1.     0.4    0.16   0.064]\n",
      " [ 1.     0.6    0.36   0.216]\n",
      " [ 1.     0.8    0.64   0.512]]\n",
      "[ 0.03330992  2.65935653 -0.14460659 -2.85013983]\n",
      "(10, 3)\n",
      "[0 1 2 3 6 7 8 9] [4 5]\n",
      "[[1, 1, 1, 1, 1, 1, 1, 1], [-1.0, -0.8, -0.6, -0.4, 0.2, 0.4, 0.6, 0.8], [1.0, 0.64, 0.36, 0.16, 0.04, 0.16, 0.36, 0.64], [-1.0, -0.512, -0.216, -0.064, 0.008, 0.064, 0.216, 0.512]]\n",
      "[[ 1.    -1.     1.    -1.   ]\n",
      " [ 1.    -0.8    0.64  -0.512]\n",
      " [ 1.    -0.6    0.36  -0.216]\n",
      " [ 1.    -0.4    0.16  -0.064]\n",
      " [ 1.     0.2    0.04   0.008]\n",
      " [ 1.     0.4    0.16   0.064]\n",
      " [ 1.     0.6    0.36   0.216]\n",
      " [ 1.     0.8    0.64   0.512]]\n",
      "[ 0.07213747  2.64328905 -0.20839877 -2.84832316]\n",
      "(10, 3)\n",
      "[0 1 2 3 4 5 8 9] [6 7]\n",
      "[[1, 1, 1, 1, 1, 1, 1, 1], [-1.0, -0.8, -0.6, -0.4, -0.2, 0.0, 0.6, 0.8], [1.0, 0.64, 0.36, 0.16, 0.04, 0.0, 0.36, 0.64], [-1.0, -0.512, -0.216, -0.064, -0.008, 0.0, 0.216, 0.512]]\n",
      "[[ 1.    -1.     1.    -1.   ]\n",
      " [ 1.    -0.8    0.64  -0.512]\n",
      " [ 1.    -0.6    0.36  -0.216]\n",
      " [ 1.    -0.4    0.16  -0.064]\n",
      " [ 1.    -0.2    0.04  -0.008]\n",
      " [ 1.     0.     0.     0.   ]\n",
      " [ 1.     0.6    0.36   0.216]\n",
      " [ 1.     0.8    0.64   0.512]]\n",
      "[-0.0402077   2.51432747 -0.00373904 -2.62845962]\n",
      "(10, 3)\n",
      "[0 1 2 3 4 5 6 7] [8 9]\n",
      "[[1, 1, 1, 1, 1, 1, 1, 1], [-1.0, -0.8, -0.6, -0.4, -0.2, 0.0, 0.2, 0.4], [1.0, 0.64, 0.36, 0.16, 0.04, 0.0, 0.04, 0.16], [-1.0, -0.512, -0.216, -0.064, -0.008, 0.0, 0.008, 0.064]]\n",
      "[[ 1.    -1.     1.    -1.   ]\n",
      " [ 1.    -0.8    0.64  -0.512]\n",
      " [ 1.    -0.6    0.36  -0.216]\n",
      " [ 1.    -0.4    0.16  -0.064]\n",
      " [ 1.    -0.2    0.04  -0.008]\n",
      " [ 1.     0.     0.     0.   ]\n",
      " [ 1.     0.2    0.04   0.008]\n",
      " [ 1.     0.4    0.16   0.064]]\n",
      "[-0.03355444  2.69368003  0.58078357 -2.19938962]\n",
      "(10, 3)\n"
     ]
    }
   ],
   "source": [
    "k_folds = KFold(n_splits=5)\n",
    "\n",
    "for train_index, validate_index in k_folds.split(df[[\"x\", \"x^2\", \"x^3\"]]):\n",
    "    print(train_index, validate_index)\n",
    "    X_train , X_validate = df[[\"x\", \"x^2\", \"x^3\"]].iloc[train_index],df[[\"x\", \"x^2\", \"x^3\"]].iloc[validate_index]\n",
    "    y_train , y_validate = df[\"y\"].iloc[train_index] , df[\"y\"].iloc[validate_index]\n",
    "\n",
    "    new_X = [[1,1,1,1,1,1,1,1]]\n",
    "    for i in np.array(X_train).transpose():\n",
    "        new_X.append(list(i))\n",
    "    print(new_X)\n",
    "    X_matrix = np.array(new_X).transpose()\n",
    "    print(X_matrix)\n",
    "    print(NormalEquation(X_matrix, y_train))\n",
    "    print(df[[\"x\", \"x^2\", \"x^3\"]].shape)"
   ]
  },
  {
   "cell_type": "code",
   "execution_count": 7,
   "metadata": {},
   "outputs": [],
   "source": [
    "def old_cross_validation(X, y, folds):\n",
    "    #Not done\n",
    "    k_folds = KFold(n_splits=folds)\n",
    "\n",
    "    avg_rmse = []\n",
    "\n",
    "    for train_index, validate_index in k_folds.split(X):\n",
    "        #print(train_index, validate_index)\n",
    "        X_train , X_validate = X.iloc[train_index], X.iloc[validate_index]\n",
    "        y_train , y_validate = y.iloc[train_index] , y.iloc[validate_index]\n",
    "\n",
    "        new_X = [[1 for i in range(X_train.shape[0])]]\n",
    "        for i in np.array(X_train).transpose():\n",
    "            new_X.append(list(i))\n",
    "        #print(new_X)\n",
    "        X_matrix = np.array(new_X).transpose()\n",
    "        model = NormalEquation(X_matrix, y_train)\n",
    "        #print(X_matrix)\n",
    "        #print(model)\n",
    "        avg_rmse.append(testCalculateMSE(np.array(X_validate), np.array(y_validate), model)**(1/2))\n",
    "        #print(testCalculateMSE(np.array(X_validate), np.array(y_validate), model[0], model[1]))\n",
    "    return np.mean(avg_rmse)"
   ]
  },
  {
   "cell_type": "code",
   "execution_count": 13,
   "metadata": {},
   "outputs": [],
   "source": [
    "def cross_validation(X, y, folds, degree):\n",
    "    k_folds = KFold(n_splits=folds)\n",
    "    \n",
    "    avg_rmse = []\n",
    "    for train_index, validate_index in k_folds.split(X):\n",
    "        # print(train_index,validate_index)\n",
    "        X_train , X_validate = X.iloc[train_index], X.iloc[validate_index]\n",
    "        y_train , y_validate = y.iloc[train_index], y.iloc[validate_index]\n",
    "\n",
    "        result = np.polyfit(X_train.values.flatten(), np.array(y_train), degree)\n",
    "\n",
    "        avg_rmse.append(CalculateMSE(X_validate.values.flatten(), np.array(y_validate), result)**(1/2))\n",
    "    \n",
    "    return np.average(avg_rmse)\n",
    "\n",
    "def cross_validate_for_degree(X, y, folds, degree_list):\n",
    "    column_name = list(X)\n",
    "    best_degree = degree_list[0]\n",
    "    rmse_list = []\n",
    "    if len(column_name) == 1: return best_degree\n",
    "    for degree in degree_list:\n",
    "        rmse_list.append(cross_validation(X[\"x\"], y, folds, degree))\n",
    "    best_degree = degree_list[rmse_list.index(min(rmse_list))]\n",
    "    return (rmse_list, best_degree)\n",
    "\n",
    "def nested_cross_validation(X, y, folds, degree_list):\n",
    "    k_folds = KFold(n_splits=folds)\n",
    "\n",
    "    rmse_list = []\n",
    "\n",
    "    for train_index, test_index in k_folds.split(X):\n",
    "        X_train , X_test = X.iloc[train_index], X.iloc[test_index]\n",
    "        y_train , y_test = y.iloc[train_index], y.iloc[test_index]\n",
    "\n",
    "        degree = cross_validate_for_degree(X_train, y_train, folds, degree_list)[1]\n",
    "\n",
    "\n",
    "        model = np.polyfit(X_train[\"x\"].values.flatten(), np.array(y_train), degree)\n",
    "        rmse_list.append(CalculateMSE(X_test[\"x\"].values.flatten(), np.array(y_test), model)**(1/2))\n",
    "\n",
    "    return np.average(rmse_list)\n"
   ]
  },
  {
   "cell_type": "code",
   "execution_count": 16,
   "metadata": {},
   "outputs": [
    {
     "name": "stdout",
     "output_type": "stream",
     "text": [
      "0.00289954424127811\n"
     ]
    }
   ],
   "source": [
    "print(cross_validation(df[[\"x\"]], df[\"y\"], 10, 8))"
   ]
  },
  {
   "cell_type": "code",
   "execution_count": 17,
   "metadata": {},
   "outputs": [
    {
     "name": "stderr",
     "output_type": "stream",
     "text": [
      "C:\\Users\\supak\\AppData\\Local\\Temp\\ipykernel_7664\\1436531052.py:22: RankWarning: Polyfit may be poorly conditioned\n",
      "  rmse_list.append(cross_validation(X[\"x\"], y, folds, degree))\n",
      "C:\\Users\\supak\\AppData\\Local\\Temp\\ipykernel_7664\\1436531052.py:22: RankWarning: Polyfit may be poorly conditioned\n",
      "  rmse_list.append(cross_validation(X[\"x\"], y, folds, degree))\n",
      "C:\\Users\\supak\\AppData\\Local\\Temp\\ipykernel_7664\\1436531052.py:22: RankWarning: Polyfit may be poorly conditioned\n",
      "  rmse_list.append(cross_validation(X[\"x\"], y, folds, degree))\n",
      "C:\\Users\\supak\\AppData\\Local\\Temp\\ipykernel_7664\\1436531052.py:22: RankWarning: Polyfit may be poorly conditioned\n",
      "  rmse_list.append(cross_validation(X[\"x\"], y, folds, degree))\n",
      "C:\\Users\\supak\\AppData\\Local\\Temp\\ipykernel_7664\\1436531052.py:22: RankWarning: Polyfit may be poorly conditioned\n",
      "  rmse_list.append(cross_validation(X[\"x\"], y, folds, degree))\n"
     ]
    },
    {
     "data": {
      "text/plain": [
       "([0.6656330596585266,\n",
       "  1.1910411800020615,\n",
       "  0.29044687960240695,\n",
       "  0.48626848538194256,\n",
       "  0.08610047347755402,\n",
       "  0.12060067686311929,\n",
       "  0.016607980611663083,\n",
       "  0.36285718455116284],\n",
       " 7)"
      ]
     },
     "execution_count": 17,
     "metadata": {},
     "output_type": "execute_result"
    }
   ],
   "source": [
    "cross_validate_for_degree(df[list(df)[:-2]], df[\"y\"], 5, range(1,9))"
   ]
  },
  {
   "cell_type": "code",
   "execution_count": 19,
   "metadata": {},
   "outputs": [
    {
     "name": "stderr",
     "output_type": "stream",
     "text": [
      "C:\\Users\\supak\\AppData\\Local\\Temp\\ipykernel_7664\\1436531052.py:22: RankWarning: Polyfit may be poorly conditioned\n",
      "  rmse_list.append(cross_validation(X[\"x\"], y, folds, degree))\n",
      "C:\\Users\\supak\\AppData\\Local\\Temp\\ipykernel_7664\\1436531052.py:22: RankWarning: Polyfit may be poorly conditioned\n",
      "  rmse_list.append(cross_validation(X[\"x\"], y, folds, degree))\n",
      "C:\\Users\\supak\\AppData\\Local\\Temp\\ipykernel_7664\\1436531052.py:22: RankWarning: Polyfit may be poorly conditioned\n",
      "  rmse_list.append(cross_validation(X[\"x\"], y, folds, degree))\n",
      "C:\\Users\\supak\\AppData\\Local\\Temp\\ipykernel_7664\\1436531052.py:22: RankWarning: Polyfit may be poorly conditioned\n",
      "  rmse_list.append(cross_validation(X[\"x\"], y, folds, degree))\n",
      "C:\\Users\\supak\\AppData\\Local\\Temp\\ipykernel_7664\\1436531052.py:22: RankWarning: Polyfit may be poorly conditioned\n",
      "  rmse_list.append(cross_validation(X[\"x\"], y, folds, degree))\n",
      "C:\\Users\\supak\\AppData\\Local\\Temp\\ipykernel_7664\\1436531052.py:22: RankWarning: Polyfit may be poorly conditioned\n",
      "  rmse_list.append(cross_validation(X[\"x\"], y, folds, degree))\n",
      "C:\\Users\\supak\\AppData\\Local\\Temp\\ipykernel_7664\\1436531052.py:22: RankWarning: Polyfit may be poorly conditioned\n",
      "  rmse_list.append(cross_validation(X[\"x\"], y, folds, degree))\n",
      "C:\\Users\\supak\\AppData\\Local\\Temp\\ipykernel_7664\\1436531052.py:22: RankWarning: Polyfit may be poorly conditioned\n",
      "  rmse_list.append(cross_validation(X[\"x\"], y, folds, degree))\n",
      "C:\\Users\\supak\\AppData\\Local\\Temp\\ipykernel_7664\\1436531052.py:22: RankWarning: Polyfit may be poorly conditioned\n",
      "  rmse_list.append(cross_validation(X[\"x\"], y, folds, degree))\n",
      "C:\\Users\\supak\\AppData\\Local\\Temp\\ipykernel_7664\\1436531052.py:22: RankWarning: Polyfit may be poorly conditioned\n",
      "  rmse_list.append(cross_validation(X[\"x\"], y, folds, degree))\n",
      "C:\\Users\\supak\\AppData\\Local\\Temp\\ipykernel_7664\\1436531052.py:22: RankWarning: Polyfit may be poorly conditioned\n",
      "  rmse_list.append(cross_validation(X[\"x\"], y, folds, degree))\n",
      "C:\\Users\\supak\\AppData\\Local\\Temp\\ipykernel_7664\\1436531052.py:22: RankWarning: Polyfit may be poorly conditioned\n",
      "  rmse_list.append(cross_validation(X[\"x\"], y, folds, degree))\n",
      "C:\\Users\\supak\\AppData\\Local\\Temp\\ipykernel_7664\\1436531052.py:22: RankWarning: Polyfit may be poorly conditioned\n",
      "  rmse_list.append(cross_validation(X[\"x\"], y, folds, degree))\n",
      "C:\\Users\\supak\\AppData\\Local\\Temp\\ipykernel_7664\\1436531052.py:22: RankWarning: Polyfit may be poorly conditioned\n",
      "  rmse_list.append(cross_validation(X[\"x\"], y, folds, degree))\n",
      "C:\\Users\\supak\\AppData\\Local\\Temp\\ipykernel_7664\\1436531052.py:22: RankWarning: Polyfit may be poorly conditioned\n",
      "  rmse_list.append(cross_validation(X[\"x\"], y, folds, degree))\n",
      "C:\\Users\\supak\\AppData\\Local\\Temp\\ipykernel_7664\\1436531052.py:22: RankWarning: Polyfit may be poorly conditioned\n",
      "  rmse_list.append(cross_validation(X[\"x\"], y, folds, degree))\n",
      "C:\\Users\\supak\\AppData\\Local\\Temp\\ipykernel_7664\\1436531052.py:22: RankWarning: Polyfit may be poorly conditioned\n",
      "  rmse_list.append(cross_validation(X[\"x\"], y, folds, degree))\n",
      "C:\\Users\\supak\\AppData\\Local\\Temp\\ipykernel_7664\\1436531052.py:22: RankWarning: Polyfit may be poorly conditioned\n",
      "  rmse_list.append(cross_validation(X[\"x\"], y, folds, degree))\n",
      "C:\\Users\\supak\\AppData\\Local\\Temp\\ipykernel_7664\\1436531052.py:22: RankWarning: Polyfit may be poorly conditioned\n",
      "  rmse_list.append(cross_validation(X[\"x\"], y, folds, degree))\n",
      "C:\\Users\\supak\\AppData\\Local\\Temp\\ipykernel_7664\\1436531052.py:22: RankWarning: Polyfit may be poorly conditioned\n",
      "  rmse_list.append(cross_validation(X[\"x\"], y, folds, degree))\n",
      "C:\\Users\\supak\\AppData\\Local\\Temp\\ipykernel_7664\\1436531052.py:22: RankWarning: Polyfit may be poorly conditioned\n",
      "  rmse_list.append(cross_validation(X[\"x\"], y, folds, degree))\n",
      "C:\\Users\\supak\\AppData\\Local\\Temp\\ipykernel_7664\\1436531052.py:22: RankWarning: Polyfit may be poorly conditioned\n",
      "  rmse_list.append(cross_validation(X[\"x\"], y, folds, degree))\n",
      "C:\\Users\\supak\\AppData\\Local\\Temp\\ipykernel_7664\\1436531052.py:22: RankWarning: Polyfit may be poorly conditioned\n",
      "  rmse_list.append(cross_validation(X[\"x\"], y, folds, degree))\n",
      "C:\\Users\\supak\\AppData\\Local\\Temp\\ipykernel_7664\\1436531052.py:22: RankWarning: Polyfit may be poorly conditioned\n",
      "  rmse_list.append(cross_validation(X[\"x\"], y, folds, degree))\n",
      "C:\\Users\\supak\\AppData\\Local\\Temp\\ipykernel_7664\\1436531052.py:22: RankWarning: Polyfit may be poorly conditioned\n",
      "  rmse_list.append(cross_validation(X[\"x\"], y, folds, degree))\n",
      "C:\\Users\\supak\\AppData\\Local\\Temp\\ipykernel_7664\\1436531052.py:22: RankWarning: Polyfit may be poorly conditioned\n",
      "  rmse_list.append(cross_validation(X[\"x\"], y, folds, degree))\n"
     ]
    },
    {
     "data": {
      "text/plain": [
       "3.6730202883043335"
      ]
     },
     "execution_count": 19,
     "metadata": {},
     "output_type": "execute_result"
    }
   ],
   "source": [
    "nested_cross_validation(df[list(df)[:-2]], df[\"y\"], 2, range(1,9))"
   ]
  }
 ],
 "metadata": {
  "kernelspec": {
   "display_name": "Python 3",
   "language": "python",
   "name": "python3"
  },
  "language_info": {
   "codemirror_mode": {
    "name": "ipython",
    "version": 3
   },
   "file_extension": ".py",
   "mimetype": "text/x-python",
   "name": "python",
   "nbconvert_exporter": "python",
   "pygments_lexer": "ipython3",
   "version": "3.10.6"
  },
  "orig_nbformat": 4
 },
 "nbformat": 4,
 "nbformat_minor": 2
}
