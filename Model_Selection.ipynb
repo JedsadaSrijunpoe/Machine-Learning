{
 "cells": [
  {
   "cell_type": "code",
   "execution_count": 2,
   "metadata": {},
   "outputs": [],
   "source": [
    "import pandas as pd\n",
    "import numpy as np\n",
    "from scipy import stats\n",
    "import random\n",
    "import math\n",
    "\n",
    "from sklearn import datasets\n",
    "from sklearn.tree import DecisionTreeRegressor\n",
    "from sklearn.model_selection import KFold, cross_val_score"
   ]
  },
  {
   "cell_type": "code",
   "execution_count": 3,
   "metadata": {},
   "outputs": [],
   "source": [
    "def NormalEquation(matX,vecY):\n",
    "    X_transpose = np.transpose(matX)\n",
    "\n",
    "    left_side = np.dot(X_transpose,matX)\n",
    "    right_side = np.dot(X_transpose,vecY)\n",
    "\n",
    "    ans = np.linalg.inv(left_side).dot(right_side)\n",
    "    return ans\n",
    "\n",
    "def CalculateMSE(x_positions, y_positions, w_list):\n",
    "    x = np.array(x_positions)\n",
    "    n = len(x_positions)\n",
    "    MSE = 0\n",
    "    for i in range(0, n):\n",
    "        wx, count = 0, 0\n",
    "        for w in w_list:\n",
    "            wx += w * x[i, count-1] if count > 0 else w\n",
    "            count += 1\n",
    "        MSE += (wx - y_positions[i]) ** 2\n",
    "    MSE *= 1/(n)\n",
    "    return MSE\n",
    "\n",
    "def testCalculateMSE(x_positions, y_positions, w0, w1):\n",
    "    n = len(x_positions)\n",
    "    MSE = 0\n",
    "    for i in range(0, n):\n",
    "        MSE += (w0 + w1*x_positions[i] - y_positions[i]) ** 2\n",
    "    MSE *= 1/(n)\n",
    "    return MSE"
   ]
  },
  {
   "cell_type": "code",
   "execution_count": 4,
   "metadata": {},
   "outputs": [
    {
     "name": "stdout",
     "output_type": "stream",
     "text": [
      "0   -1.220000e-16\n",
      "1   -5.877853e-01\n",
      "2   -9.510565e-01\n",
      "3   -9.510565e-01\n",
      "4   -5.877853e-01\n",
      "5    0.000000e+00\n",
      "6    5.877853e-01\n",
      "7    9.510565e-01\n",
      "8    9.510565e-01\n",
      "9    5.877853e-01\n",
      "Name: y, dtype: float64\n"
     ]
    }
   ],
   "source": [
    "df = pd.read_csv(\"sin experiment/sin_noiseless_10sample.csv\")\n",
    "print(df[\"y\"])"
   ]
  },
  {
   "cell_type": "code",
   "execution_count": 5,
   "metadata": {},
   "outputs": [
    {
     "name": "stdout",
     "output_type": "stream",
     "text": [
      "[2 3 4 5 6 7 8 9] [0 1]\n",
      "[[1, 1, 1, 1, 1, 1, 1, 1], [-0.6, -0.4, -0.2, 0.0, 0.2, 0.4, 0.6, 0.8], [0.36, 0.16, 0.04, 0.0, 0.04, 0.16, 0.36, 0.64], [-0.216, -0.064, -0.008, 0.0, 0.008, 0.064, 0.216, 0.512]]\n",
      "[[ 1.    -0.6    0.36  -0.216]\n",
      " [ 1.    -0.4    0.16  -0.064]\n",
      " [ 1.    -0.2    0.04  -0.008]\n",
      " [ 1.     0.     0.     0.   ]\n",
      " [ 1.     0.2    0.04   0.008]\n",
      " [ 1.     0.4    0.16   0.064]\n",
      " [ 1.     0.6    0.36   0.216]\n",
      " [ 1.     0.8    0.64   0.512]]\n",
      "[-0.01076204  2.92260765  0.08968369 -3.55868716]\n",
      "(10, 3)\n",
      "[0 1 4 5 6 7 8 9] [2 3]\n",
      "[[1, 1, 1, 1, 1, 1, 1, 1], [-1.0, -0.8, -0.2, 0.0, 0.2, 0.4, 0.6, 0.8], [1.0, 0.64, 0.04, 0.0, 0.04, 0.16, 0.36, 0.64], [-1.0, -0.512, -0.008, 0.0, 0.008, 0.064, 0.216, 0.512]]\n",
      "[[ 1.    -1.     1.    -1.   ]\n",
      " [ 1.    -0.8    0.64  -0.512]\n",
      " [ 1.    -0.2    0.04  -0.008]\n",
      " [ 1.     0.     0.     0.   ]\n",
      " [ 1.     0.2    0.04   0.008]\n",
      " [ 1.     0.4    0.16   0.064]\n",
      " [ 1.     0.6    0.36   0.216]\n",
      " [ 1.     0.8    0.64   0.512]]\n",
      "[ 0.03330992  2.65935653 -0.14460659 -2.85013983]\n",
      "(10, 3)\n",
      "[0 1 2 3 6 7 8 9] [4 5]\n",
      "[[1, 1, 1, 1, 1, 1, 1, 1], [-1.0, -0.8, -0.6, -0.4, 0.2, 0.4, 0.6, 0.8], [1.0, 0.64, 0.36, 0.16, 0.04, 0.16, 0.36, 0.64], [-1.0, -0.512, -0.216, -0.064, 0.008, 0.064, 0.216, 0.512]]\n",
      "[[ 1.    -1.     1.    -1.   ]\n",
      " [ 1.    -0.8    0.64  -0.512]\n",
      " [ 1.    -0.6    0.36  -0.216]\n",
      " [ 1.    -0.4    0.16  -0.064]\n",
      " [ 1.     0.2    0.04   0.008]\n",
      " [ 1.     0.4    0.16   0.064]\n",
      " [ 1.     0.6    0.36   0.216]\n",
      " [ 1.     0.8    0.64   0.512]]\n",
      "[ 0.07213747  2.64328905 -0.20839877 -2.84832316]\n",
      "(10, 3)\n",
      "[0 1 2 3 4 5 8 9] [6 7]\n",
      "[[1, 1, 1, 1, 1, 1, 1, 1], [-1.0, -0.8, -0.6, -0.4, -0.2, 0.0, 0.6, 0.8], [1.0, 0.64, 0.36, 0.16, 0.04, 0.0, 0.36, 0.64], [-1.0, -0.512, -0.216, -0.064, -0.008, 0.0, 0.216, 0.512]]\n",
      "[[ 1.    -1.     1.    -1.   ]\n",
      " [ 1.    -0.8    0.64  -0.512]\n",
      " [ 1.    -0.6    0.36  -0.216]\n",
      " [ 1.    -0.4    0.16  -0.064]\n",
      " [ 1.    -0.2    0.04  -0.008]\n",
      " [ 1.     0.     0.     0.   ]\n",
      " [ 1.     0.6    0.36   0.216]\n",
      " [ 1.     0.8    0.64   0.512]]\n",
      "[-0.0402077   2.51432747 -0.00373904 -2.62845962]\n",
      "(10, 3)\n",
      "[0 1 2 3 4 5 6 7] [8 9]\n",
      "[[1, 1, 1, 1, 1, 1, 1, 1], [-1.0, -0.8, -0.6, -0.4, -0.2, 0.0, 0.2, 0.4], [1.0, 0.64, 0.36, 0.16, 0.04, 0.0, 0.04, 0.16], [-1.0, -0.512, -0.216, -0.064, -0.008, 0.0, 0.008, 0.064]]\n",
      "[[ 1.    -1.     1.    -1.   ]\n",
      " [ 1.    -0.8    0.64  -0.512]\n",
      " [ 1.    -0.6    0.36  -0.216]\n",
      " [ 1.    -0.4    0.16  -0.064]\n",
      " [ 1.    -0.2    0.04  -0.008]\n",
      " [ 1.     0.     0.     0.   ]\n",
      " [ 1.     0.2    0.04   0.008]\n",
      " [ 1.     0.4    0.16   0.064]]\n",
      "[-0.03355444  2.69368003  0.58078357 -2.19938962]\n",
      "(10, 3)\n"
     ]
    }
   ],
   "source": [
    "k_folds = KFold(n_splits=5)\n",
    "\n",
    "for train_index, validate_index in k_folds.split(df[[\"x\", \"x^2\", \"x^3\"]]):\n",
    "    print(train_index, validate_index)\n",
    "    X_train , X_validate = df[[\"x\", \"x^2\", \"x^3\"]].iloc[train_index],df[[\"x\", \"x^2\", \"x^3\"]].iloc[validate_index]\n",
    "    y_train , y_validate = df[\"y\"].iloc[train_index] , df[\"y\"].iloc[validate_index]\n",
    "\n",
    "    new_X = [[1,1,1,1,1,1,1,1]]\n",
    "    for i in np.array(X_train).transpose():\n",
    "        new_X.append(list(i))\n",
    "    print(new_X)\n",
    "    X_matrix = np.array(new_X).transpose()\n",
    "    print(X_matrix)\n",
    "    print(NormalEquation(X_matrix, y_train))\n",
    "    print(df[[\"x\", \"x^2\", \"x^3\"]].shape)"
   ]
  },
  {
   "cell_type": "code",
   "execution_count": 65,
   "metadata": {},
   "outputs": [],
   "source": [
    "def old_cross_validation(X, y, folds):\n",
    "    #Not done\n",
    "    k_folds = KFold(n_splits=folds)\n",
    "\n",
    "    avg_rmse = []\n",
    "\n",
    "    for train_index, validate_index in k_folds.split(X):\n",
    "        #print(train_index, validate_index)\n",
    "        X_train , X_validate = X.iloc[train_index], X.iloc[validate_index]\n",
    "        y_train , y_validate = y.iloc[train_index] , y.iloc[validate_index]\n",
    "\n",
    "        new_X = [[1 for i in range(X_train.shape[0])]]\n",
    "        for i in np.array(X_train).transpose():\n",
    "            new_X.append(list(i))\n",
    "        #print(new_X)\n",
    "        X_matrix = np.array(new_X).transpose()\n",
    "        model = NormalEquation(X_matrix, y_train)\n",
    "        #print(X_matrix)\n",
    "        #print(model)\n",
    "        avg_rmse.append(CalculateMSE(np.array(X_validate), np.array(y_validate), model)**(1/2))\n",
    "        #print(testCalculateMSE(np.array(X_validate), np.array(y_validate), model[0], model[1]))\n",
    "    print(avg_rmse)\n",
    "    return np.mean(avg_rmse)"
   ]
  },
  {
   "cell_type": "code",
   "execution_count": null,
   "metadata": {},
   "outputs": [],
   "source": [
    "def cross_validation(X, y, folds):\n",
    "    #Not done\n",
    "    k_folds = KFold(n_splits=folds)\n",
    "\n",
    "    avg_rmse = []\n",
    "\n",
    "    for train_index, validate_index in k_folds.split(X):\n",
    "        print(train_index, validate_index)\n",
    "        X_train , X_validate = X.iloc[train_index], X.iloc[validate_index]\n",
    "        y_train , y_validate = y.iloc[train_index] , y.iloc[validate_index]\n",
    "\n",
    "        print(np.reshape(np.array(X_train), (1,len(X_train))))\n",
    "\n",
    "        result = np.polyfit(np.reshape(np.array(X_train), (1,len(X_train))), np.array(y_train), 1)\n",
    "        \n",
    "        avg_rmse.append(CalculateMSE(X_validate, y_validate, result))\n",
    "\n",
    "    print(avg_rmse)\n",
    "    return np.mean(avg_rmse)"
   ]
  },
  {
   "cell_type": "code",
   "execution_count": 25,
   "metadata": {},
   "outputs": [
    {
     "name": "stdout",
     "output_type": "stream",
     "text": [
      "[1.2330359646475968, 0.8229341167821799, 0.41916844680708, 0.5765719966131401, 0.27645477344263547]\n"
     ]
    },
    {
     "data": {
      "text/plain": [
       "0.6656330596585264"
      ]
     },
     "execution_count": 25,
     "metadata": {},
     "output_type": "execute_result"
    }
   ],
   "source": [
    "cross_validation(df[[\"x\"]], df[\"y\"], 5)"
   ]
  },
  {
   "cell_type": "code",
   "execution_count": 66,
   "metadata": {},
   "outputs": [
    {
     "name": "stdout",
     "output_type": "stream",
     "text": [
      "[-1.  -0.8 -0.6 -0.4 -0.2  0.   0.2  0.4  0.6  0.8]\n",
      "[[-1. ]\n",
      " [-0.8]\n",
      " [-0.6]\n",
      " [-0.4]\n",
      " [-0.2]\n",
      " [ 0. ]\n",
      " [ 0.2]\n",
      " [ 0.4]\n",
      " [ 0.6]\n",
      " [ 0.8]]\n",
      "[2 3 4 5 6 7 8 9] [0 1]\n",
      "[[-0.6 -0.4 -0.2  0.   0.2  0.4  0.6  0.8]]\n"
     ]
    },
    {
     "ename": "TypeError",
     "evalue": "expected 1D vector for x",
     "output_type": "error",
     "traceback": [
      "\u001b[1;31m---------------------------------------------------------------------------\u001b[0m",
      "\u001b[1;31mTypeError\u001b[0m                                 Traceback (most recent call last)",
      "\u001b[1;32mc:\\Work\\MachineLearning\\Model_Selection.ipynb Cell 7\u001b[0m in \u001b[0;36m3\n\u001b[0;32m      <a href='vscode-notebook-cell:/c%3A/Work/MachineLearning/Model_Selection.ipynb#W6sZmlsZQ%3D%3D?line=0'>1</a>\u001b[0m \u001b[39mprint\u001b[39m(np\u001b[39m.\u001b[39marray(df[\u001b[39m\"\u001b[39m\u001b[39mx\u001b[39m\u001b[39m\"\u001b[39m]))\n\u001b[0;32m      <a href='vscode-notebook-cell:/c%3A/Work/MachineLearning/Model_Selection.ipynb#W6sZmlsZQ%3D%3D?line=1'>2</a>\u001b[0m \u001b[39mprint\u001b[39m(np\u001b[39m.\u001b[39marray(df[[\u001b[39m\"\u001b[39m\u001b[39mx\u001b[39m\u001b[39m\"\u001b[39m]]))\n\u001b[1;32m----> <a href='vscode-notebook-cell:/c%3A/Work/MachineLearning/Model_Selection.ipynb#W6sZmlsZQ%3D%3D?line=2'>3</a>\u001b[0m cross_validation(df[[\u001b[39m\"\u001b[39;49m\u001b[39mx\u001b[39;49m\u001b[39m\"\u001b[39;49m]], df[\u001b[39m\"\u001b[39;49m\u001b[39my\u001b[39;49m\u001b[39m\"\u001b[39;49m], \u001b[39m5\u001b[39;49m)\n",
      "\u001b[1;32mc:\\Work\\MachineLearning\\Model_Selection.ipynb Cell 7\u001b[0m in \u001b[0;36m1\n\u001b[0;32m     <a href='vscode-notebook-cell:/c%3A/Work/MachineLearning/Model_Selection.ipynb#W6sZmlsZQ%3D%3D?line=9'>10</a>\u001b[0m     y_train , y_validate \u001b[39m=\u001b[39m y\u001b[39m.\u001b[39miloc[train_index] , y\u001b[39m.\u001b[39miloc[validate_index]\n\u001b[0;32m     <a href='vscode-notebook-cell:/c%3A/Work/MachineLearning/Model_Selection.ipynb#W6sZmlsZQ%3D%3D?line=11'>12</a>\u001b[0m     \u001b[39mprint\u001b[39m(np\u001b[39m.\u001b[39mreshape(np\u001b[39m.\u001b[39marray(X_train), (\u001b[39m1\u001b[39m,\u001b[39mlen\u001b[39m(X_train))))\n\u001b[1;32m---> <a href='vscode-notebook-cell:/c%3A/Work/MachineLearning/Model_Selection.ipynb#W6sZmlsZQ%3D%3D?line=13'>14</a>\u001b[0m     result \u001b[39m=\u001b[39m np\u001b[39m.\u001b[39;49mpolyfit(np\u001b[39m.\u001b[39;49mreshape(np\u001b[39m.\u001b[39;49marray(X_train), (\u001b[39m1\u001b[39;49m,\u001b[39mlen\u001b[39;49m(X_train))), np\u001b[39m.\u001b[39;49marray(y_train), \u001b[39m1\u001b[39;49m)\n\u001b[0;32m     <a href='vscode-notebook-cell:/c%3A/Work/MachineLearning/Model_Selection.ipynb#W6sZmlsZQ%3D%3D?line=15'>16</a>\u001b[0m     avg_rmse\u001b[39m.\u001b[39mappend(CalculateMSE(X_validate, y_validate, result))\n\u001b[0;32m     <a href='vscode-notebook-cell:/c%3A/Work/MachineLearning/Model_Selection.ipynb#W6sZmlsZQ%3D%3D?line=17'>18</a>\u001b[0m \u001b[39mprint\u001b[39m(avg_rmse)\n",
      "File \u001b[1;32m<__array_function__ internals>:200\u001b[0m, in \u001b[0;36mpolyfit\u001b[1;34m(*args, **kwargs)\u001b[0m\n",
      "File \u001b[1;32mc:\\Users\\supak\\AppData\\Local\\Programs\\Python\\Python310\\lib\\site-packages\\numpy\\lib\\polynomial.py:636\u001b[0m, in \u001b[0;36mpolyfit\u001b[1;34m(x, y, deg, rcond, full, w, cov)\u001b[0m\n\u001b[0;32m    634\u001b[0m     \u001b[39mraise\u001b[39;00m \u001b[39mValueError\u001b[39;00m(\u001b[39m\"\u001b[39m\u001b[39mexpected deg >= 0\u001b[39m\u001b[39m\"\u001b[39m)\n\u001b[0;32m    635\u001b[0m \u001b[39mif\u001b[39;00m x\u001b[39m.\u001b[39mndim \u001b[39m!=\u001b[39m \u001b[39m1\u001b[39m:\n\u001b[1;32m--> 636\u001b[0m     \u001b[39mraise\u001b[39;00m \u001b[39mTypeError\u001b[39;00m(\u001b[39m\"\u001b[39m\u001b[39mexpected 1D vector for x\u001b[39m\u001b[39m\"\u001b[39m)\n\u001b[0;32m    637\u001b[0m \u001b[39mif\u001b[39;00m x\u001b[39m.\u001b[39msize \u001b[39m==\u001b[39m \u001b[39m0\u001b[39m:\n\u001b[0;32m    638\u001b[0m     \u001b[39mraise\u001b[39;00m \u001b[39mTypeError\u001b[39;00m(\u001b[39m\"\u001b[39m\u001b[39mexpected non-empty vector for x\u001b[39m\u001b[39m\"\u001b[39m)\n",
      "\u001b[1;31mTypeError\u001b[0m: expected 1D vector for x"
     ]
    }
   ],
   "source": [
    "print(np.array(df[\"x\"]))\n",
    "print(np.array(df[[\"x\"]]))\n",
    "cross_validation(df[[\"x\"]], df[\"y\"], 5)"
   ]
  }
 ],
 "metadata": {
  "kernelspec": {
   "display_name": "Python 3",
   "language": "python",
   "name": "python3"
  },
  "language_info": {
   "codemirror_mode": {
    "name": "ipython",
    "version": 3
   },
   "file_extension": ".py",
   "mimetype": "text/x-python",
   "name": "python",
   "nbconvert_exporter": "python",
   "pygments_lexer": "ipython3",
   "version": "3.10.6"
  },
  "orig_nbformat": 4
 },
 "nbformat": 4,
 "nbformat_minor": 2
}
