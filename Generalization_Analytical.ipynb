{
 "cells": [
  {
   "cell_type": "code",
   "execution_count": 49,
   "metadata": {},
   "outputs": [],
   "source": [
    "import math\n",
    "import plotly.express as px\n",
    "import plotly.graph_objects as go\n",
    "import numpy as np\n",
    "import sympy\n",
    "from scipy import integrate\n",
    "import sys"
   ]
  },
  {
   "cell_type": "code",
   "execution_count": 50,
   "metadata": {},
   "outputs": [],
   "source": [
    "def func(x):\n",
    "    return math.sin(math.pi*x)\n",
    "\n",
    "def constant_model(x1, x2):\n",
    "    return (math.sin(math.pi*x1) + math.sin(math.pi*x2)) / 2\n",
    "\n",
    "def slope_pt1(x1, x2):\n",
    "    return math.sin(math.pi*x1) / (-x1 + x2)\n",
    "\n",
    "def slope_pt2(x1, x2):\n",
    "    return - math.sin(math.pi*x2) / (-x1 + x2)"
   ]
  },
  {
   "cell_type": "code",
   "execution_count": 54,
   "metadata": {},
   "outputs": [
    {
     "name": "stdout",
     "output_type": "stream",
     "text": [
      "0\n",
      "sin(pi*x)**2\n",
      "0.500000000000000\n",
      "0.250000000000000\n",
      "0.250000000000000\n",
      "0.750000000000000\n"
     ]
    }
   ],
   "source": [
    "# Constant Model, Target f(x) = sin(pi*x)\n",
    "\n",
    "x = sympy.Symbol(\"x\")\n",
    "x1 = sympy.Symbol(\"x1\")\n",
    "x2 = sympy.Symbol(\"x2\")\n",
    "\n",
    "c_model = (sympy.sin(sympy.pi*x1) + sympy.sin(sympy.pi*x2)) / 2\n",
    "g_bar = (1/4)*sympy.integrate(c_model, (x1, -1, 1), (x2, -1, 1))\n",
    "print(g_bar)\n",
    "\n",
    "bias_order_2 = (g_bar - sympy.sin(sympy.pi*x))**2\n",
    "print(bias_order_2)\n",
    "expected_bias_order_2 = (1/2) * sympy.integrate(bias_order_2, (x, -1, 1))\n",
    "print(expected_bias_order_2)\n",
    "\n",
    "var = (1/4) * sympy.integrate(c_model**2, (x1, -1, 1), (x2, -1, 1)) - g_bar ** 2\n",
    "print(var)\n",
    "variance = (1/2) * sympy.integrate(var, (x, -1, 1))\n",
    "print(variance)\n",
    "\n",
    "E_over_dataset = expected_bias_order_2 + variance\n",
    "print(E_over_dataset)"
   ]
  },
  {
   "cell_type": "code",
   "execution_count": 56,
   "metadata": {},
   "outputs": [
    {
     "name": "stdout",
     "output_type": "stream",
     "text": [
      "0.333333333333333\n",
      "(0.333333333333333 - x**2)**2\n",
      "0.0888888888888889\n",
      "0.0444444444444445\n",
      "0.0444444444444445\n",
      "0.133333333333333\n"
     ]
    }
   ],
   "source": [
    "# Constant Model, Target f(x) = x^2\n",
    "\n",
    "x = sympy.Symbol(\"x\")\n",
    "x1 = sympy.Symbol(\"x1\")\n",
    "x2 = sympy.Symbol(\"x2\")\n",
    "\n",
    "c_model = (x1**2 + x2**2) / 2\n",
    "g_bar = (1/4)*sympy.integrate(c_model, (x1, -1, 1), (x2, -1, 1))\n",
    "print(g_bar)\n",
    "\n",
    "bias_order_2 = (g_bar - x**2)**2\n",
    "print(bias_order_2)\n",
    "expected_bias_order_2 = (1/2) * sympy.integrate(bias_order_2, (x, -1, 1))\n",
    "print(expected_bias_order_2)\n",
    "\n",
    "var = (1/4) * sympy.integrate(c_model**2, (x1, -1, 1), (x2, -1, 1)) - g_bar ** 2\n",
    "print(var)\n",
    "variance = (1/2) * sympy.integrate(var, (x, -1, 1))\n",
    "print(variance)\n",
    "\n",
    "E_over_dataset = expected_bias_order_2 + variance\n",
    "print(E_over_dataset)"
   ]
  },
  {
   "cell_type": "code",
   "execution_count": 58,
   "metadata": {},
   "outputs": [
    {
     "name": "stdout",
     "output_type": "stream",
     "text": [
      "-0.333333333333333\n",
      "(-sin(pi*x) - 0.333333333333333)**2\n",
      "0.611111111111111\n",
      "0.666666666666667*x**2 + 2.0*x/pi + 0.7\n",
      "0.922222222222222\n"
     ]
    }
   ],
   "source": [
    "# Linear Model, Target f(x) = x^2\n",
    "\n",
    "x = sympy.Symbol(\"x\")\n",
    "x1 = sympy.Symbol(\"x1\")\n",
    "x2 = sympy.Symbol(\"x2\")\n",
    "\"\"\"sympy.sin(sympy.pi*x1) - sympy.sin(sympy.pi*x2)\"\"\"\n",
    "slope = (x1**2 - x2**2) / (x1 - x2)\n",
    "model = (sympy.sin(sympy.pi*x2) - slope * x2) + slope * x # w0 + w1x\n",
    "g_bar = (1/4)*sympy.integrate(model, (x1, -1, 1), (x2, -1, 1))\n",
    "print(g_bar)\n",
    "\n",
    "bias_order_2 = (g_bar - sympy.sin(sympy.pi*x))**2\n",
    "print(bias_order_2)\n",
    "expected_bias_order_2 = (1/2) * sympy.integrate(bias_order_2, (x, -1, 1))\n",
    "print(expected_bias_order_2)\n",
    "\n",
    "var = (1/4) * sympy.integrate(model**2, (x1, -1, 1), (x2, -1, 1)) - g_bar ** 2\n",
    "print(var)\n",
    "variance = (1/2) * sympy.integrate(var, (x, -1, 1))\n",
    "print(variance)"
   ]
  },
  {
   "cell_type": "code",
   "execution_count": 47,
   "metadata": {},
   "outputs": [
    {
     "name": "stdout",
     "output_type": "stream",
     "text": [
      "Expected Linear Model: 0.959836175939772*x + 0.00127905802247636\n"
     ]
    }
   ],
   "source": [
    "\"\"\"import numpy as np\n",
    "import sympy\n",
    "\n",
    "x = sympy.Symbol(\"x\")\n",
    "\n",
    "# Define the target function: sin(pi*x)\n",
    "target_function = sympy.sin(sympy.pi * x)\n",
    "\n",
    "# Number of data points to sample for the numerical approximation\n",
    "num_points = 10000\n",
    "\n",
    "# Generate random data points within the range [-1, 1]\n",
    "x_data = np.random.uniform(-1, 1, num_points)\n",
    "y_data = np.sin(np.pi * x_data)\n",
    "\n",
    "# Perform linear regression to get the model parameters\n",
    "slope, intercept = np.polyfit(x_data, y_data, deg=1)\n",
    "\n",
    "# Construct the expected linear model\n",
    "expected_linear_model = slope * x + intercept\n",
    "\n",
    "print(\"Expected Linear Model:\", expected_linear_model)\"\"\""
   ]
  },
  {
   "cell_type": "code",
   "execution_count": 39,
   "metadata": {},
   "outputs": [
    {
     "name": "stdout",
     "output_type": "stream",
     "text": [
      "g_bar: 0.25*x*Integral(x*(sin(pi*x1) + sin(pi*x2))/(x1 + x2), (x1, -1, 1), (x2, -1, 1))\n",
      "Bias (order 2): (0.25*x*Integral(x*(sin(pi*x1) + sin(pi*x2))/(x1 + x2), (x1, -1, 1), (x2, -1, 1)) - sin(pi*x))**2\n",
      "Expected Bias (order 2): 0.5*Integral(0.0625*x**2*Integral(x*sin(pi*x1)/(x1 + x2), (x1, -1, 1), (x2, -1, 1))**2, (x, -1, 1)) + 0.5*Integral(0.0625*x**2*Integral(x*sin(pi*x2)/(x1 + x2), (x1, -1, 1), (x2, -1, 1))**2, (x, -1, 1)) + 0.5*Integral(-0.5*x*sin(pi*x)*Integral(x*sin(pi*x1)/(x1 + x2), (x1, -1, 1), (x2, -1, 1)), (x, -1, 1)) + 0.5*Integral(-0.5*x*sin(pi*x)*Integral(x*sin(pi*x2)/(x1 + x2), (x1, -1, 1), (x2, -1, 1)), (x, -1, 1)) + 0.5*Integral(0.125*x**2*Integral(x*sin(pi*x1)/(x1 + x2), (x1, -1, 1), (x2, -1, 1))*Integral(x*sin(pi*x2)/(x1 + x2), (x1, -1, 1), (x2, -1, 1)), (x, -1, 1)) + 0.5*Integral(1.0*sin(pi*x)**2, (x, -1, 1))\n",
      "Var: 0.25*x**2*(Integral(sin(pi*x1)**2/(x1**2 + 2*x1*x2 + x2**2), (x1, -1, 1), (x2, -1, 1)) + Integral(sin(pi*x2)**2/(x1**2 + 2*x1*x2 + x2**2), (x1, -1, 1), (x2, -1, 1)) + Integral(2*sin(pi*x1)*sin(pi*x2)/(x1**2 + 2*x1*x2 + x2**2), (x1, -1, 1), (x2, -1, 1))) - 0.25*x*Integral(x*(sin(pi*x1) + sin(pi*x2))/(x1 + x2), (x1, -1, 1), (x2, -1, 1))\n",
      "Variance: 0.125*Integral(-x*Integral(x*sin(pi*x1)/(x1 + x2), (x1, -1, 1), (x2, -1, 1)), (x, -1, 1)) + 0.125*Integral(-x*Integral(x*sin(pi*x2)/(x1 + x2), (x1, -1, 1), (x2, -1, 1)), (x, -1, 1)) + 0.125*Integral(x**2*Integral(sin(pi*x1)**2/(x1**2 + 2*x1*x2 + x2**2), (x1, -1, 1), (x2, -1, 1)), (x, -1, 1)) + 0.125*Integral(x**2*Integral(sin(pi*x2)**2/(x1**2 + 2*x1*x2 + x2**2), (x1, -1, 1), (x2, -1, 1)), (x, -1, 1)) + 0.125*Integral(x**2*Integral(2*sin(pi*x1)*sin(pi*x2)/(x1**2 + 2*x1*x2 + x2**2), (x1, -1, 1), (x2, -1, 1)), (x, -1, 1))\n"
     ]
    }
   ],
   "source": [
    "\"\"\"import sympy\n",
    "\n",
    "x = sympy.Symbol(\"x\")\n",
    "x1 = sympy.Symbol(\"x1\")\n",
    "x2 = sympy.Symbol(\"x2\")\n",
    "\n",
    "c_model = (sympy.sin(sympy.pi * x1) + sympy.sin(sympy.pi * x2)) * x / (x1 + x2)\n",
    "integral_expr = (1/4) * x * sympy.Integral(c_model, (x1, -1, 1), (x2, -1, 1))\n",
    "\n",
    "# Numerically evaluate the integral using `sympy.N()` and substitute x\n",
    "g_bar = integral_expr.subs(x, sympy.Symbol(\"x\"))\n",
    "g_bar_value = sympy.N(g_bar)\n",
    "\n",
    "print(\"g_bar:\", g_bar_value)\n",
    "\n",
    "# Calculate the rest of the expressions numerically\n",
    "bias_order_2 = (g_bar - sympy.sin(sympy.pi * x)) ** 2\n",
    "expected_bias_order_2 = (1/2) * sympy.integrate(bias_order_2, (x, -1, 1))\n",
    "var = (1 / 4) * sympy.integrate(c_model**2, (x1, -1, 1), (x2, -1, 1)) - g_bar\n",
    "variance = (1 / 2) * sympy.integrate(var, (x, -1, 1))\n",
    "\n",
    "print(\"Bias (order 2):\", bias_order_2)\n",
    "print(\"Expected Bias (order 2):\", sympy.N(expected_bias_order_2))\n",
    "print(\"Var:\", var)\n",
    "print(\"Variance:\", sympy.N(variance))\"\"\""
   ]
  },
  {
   "cell_type": "code",
   "execution_count": null,
   "metadata": {},
   "outputs": [],
   "source": [
    "x = np.linspace(-1, 1, 10000)\n",
    "sin_v = np.vectorize(func)\n",
    "y = sin_v(x)\n",
    "\n",
    "fig = go.Figure(data = go.Scatter(x=x, y=y, mode=\"markers\"))\n",
    "fig.show()"
   ]
  }
 ],
 "metadata": {
  "kernelspec": {
   "display_name": "Python 3",
   "language": "python",
   "name": "python3"
  },
  "language_info": {
   "codemirror_mode": {
    "name": "ipython",
    "version": 3
   },
   "file_extension": ".py",
   "mimetype": "text/x-python",
   "name": "python",
   "nbconvert_exporter": "python",
   "pygments_lexer": "ipython3",
   "version": "3.10.6"
  },
  "orig_nbformat": 4
 },
 "nbformat": 4,
 "nbformat_minor": 2
}
