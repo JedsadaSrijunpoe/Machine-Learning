{
 "cells": [
  {
   "cell_type": "code",
   "execution_count": 2,
   "metadata": {},
   "outputs": [],
   "source": [
    "import math\n",
    "import plotly.express as px\n",
    "import plotly.graph_objects as go\n",
    "import numpy as np\n",
    "import sympy"
   ]
  },
  {
   "cell_type": "code",
   "execution_count": 3,
   "metadata": {},
   "outputs": [],
   "source": [
    "def func(x):\n",
    "    return math.sin(math.pi*x)\n",
    "\n",
    "def constant_model(x1, x2):\n",
    "    return (math.sin(math.pi*x1) + math.sin(math.pi*x2)) / 2"
   ]
  },
  {
   "cell_type": "code",
   "execution_count": 4,
   "metadata": {},
   "outputs": [
    {
     "name": "stdout",
     "output_type": "stream",
     "text": [
      "0\n",
      "sin(pi*x)**2\n",
      "0.500000000000000\n",
      "0.250000000000000\n",
      "0.250000000000000\n"
     ]
    }
   ],
   "source": [
    "x = sympy.Symbol(\"x\")\n",
    "x1 = sympy.Symbol(\"x1\")\n",
    "x2 = sympy.Symbol(\"x2\")\n",
    "\n",
    "c_model = (sympy.sin(sympy.pi*x1) + sympy.sin(sympy.pi*x2)) / 2\n",
    "g_bar = (1/4)*sympy.integrate(c_model, (x1, -1, 1), (x2, -1, 1))\n",
    "print(g_bar)\n",
    "\n",
    "bias_order_2 = (g_bar - sympy.sin(sympy.pi*x))**2\n",
    "print(bias_order_2)\n",
    "expected_bias_order_2 = (1/2) * sympy.integrate(bias_order_2, (x, -1, 1))\n",
    "print(expected_bias_order_2)\n",
    "\n",
    "var = (1/4) * sympy.integrate(c_model**2, (x1, -1, 1), (x2, -1, 1)) - g_bar\n",
    "print(var)\n",
    "variance = (1/2) * sympy.integrate(var, (x, -1, 1))\n",
    "print(variance)"
   ]
  },
  {
   "cell_type": "code",
   "execution_count": 23,
   "metadata": {},
   "outputs": [
    {
     "name": "stdout",
     "output_type": "stream",
     "text": [
      "-3.33333333333333*x*(-1 + sin(0.2*pi)) - 0.666666666666667 + 1.66666666666667*sin(0.2*pi)\n",
      "0.25*Integral((x*sin(pi*x1) - x*sin(pi*x2) + x1*sin(pi*x2) - x2*sin(pi*x1))/(x1 - x2), (x1, -1, 1), (x2, -1, 1))\n",
      "(-sin(pi*x) + 0.25*Integral((x*sin(pi*x1) - x*sin(pi*x2) + x1*sin(pi*x2) - x2*sin(pi*x1))/(x1 - x2), (x1, -1, 1), (x2, -1, 1)))**2\n",
      "0.5*Integral(-0.5*sin(pi*x)*Integral(x*sin(pi*x1)/(x1 - x2), (x1, -1, 1), (x2, -1, 1)), (x, -1, 1)) + 0.5*Integral(-0.5*sin(pi*x)*Integral(-x*sin(pi*x2)/(x1 - x2), (x1, -1, 1), (x2, -1, 1)), (x, -1, 1)) + 0.5*Integral(-0.5*sin(pi*x)*Integral(x1*sin(pi*x2)/(x1 - x2), (x1, -1, 1), (x2, -1, 1)), (x, -1, 1)) + 0.5*Integral(-0.5*sin(pi*x)*Integral(-x2*sin(pi*x1)/(x1 - x2), (x1, -1, 1), (x2, -1, 1)), (x, -1, 1)) + 0.5*Integral(0.125*Integral(x*sin(pi*x1)/(x1 - x2), (x1, -1, 1), (x2, -1, 1))*Integral(-x*sin(pi*x2)/(x1 - x2), (x1, -1, 1), (x2, -1, 1)), (x, -1, 1)) + 0.5*Integral(0.125*Integral(x*sin(pi*x1)/(x1 - x2), (x1, -1, 1), (x2, -1, 1))*Integral(x1*sin(pi*x2)/(x1 - x2), (x1, -1, 1), (x2, -1, 1)), (x, -1, 1)) + 0.5*Integral(0.125*Integral(x*sin(pi*x1)/(x1 - x2), (x1, -1, 1), (x2, -1, 1))*Integral(-x2*sin(pi*x1)/(x1 - x2), (x1, -1, 1), (x2, -1, 1)), (x, -1, 1)) + 0.5*Integral(0.125*Integral(-x*sin(pi*x2)/(x1 - x2), (x1, -1, 1), (x2, -1, 1))*Integral(x1*sin(pi*x2)/(x1 - x2), (x1, -1, 1), (x2, -1, 1)), (x, -1, 1)) + 0.5*Integral(0.125*Integral(-x*sin(pi*x2)/(x1 - x2), (x1, -1, 1), (x2, -1, 1))*Integral(-x2*sin(pi*x1)/(x1 - x2), (x1, -1, 1), (x2, -1, 1)), (x, -1, 1)) + 0.5*Integral(0.125*Integral(x1*sin(pi*x2)/(x1 - x2), (x1, -1, 1), (x2, -1, 1))*Integral(-x2*sin(pi*x1)/(x1 - x2), (x1, -1, 1), (x2, -1, 1)), (x, -1, 1)) + 0.5*Integral(0.0625*Integral(x*sin(pi*x1)/(x1 - x2), (x1, -1, 1), (x2, -1, 1))**2, (x, -1, 1)) + 0.5*Integral(0.0625*Integral(-x*sin(pi*x2)/(x1 - x2), (x1, -1, 1), (x2, -1, 1))**2, (x, -1, 1)) + 0.5*Integral(0.0625*Integral(x1*sin(pi*x2)/(x1 - x2), (x1, -1, 1), (x2, -1, 1))**2, (x, -1, 1)) + 0.5*Integral(0.0625*Integral(-x2*sin(pi*x1)/(x1 - x2), (x1, -1, 1), (x2, -1, 1))**2, (x, -1, 1)) + 0.5*Integral(1.0*sin(pi*x)**2, (x, -1, 1))\n",
      "0.25*Integral((x*sin(pi*x1) - x*sin(pi*x2) + x1*sin(pi*x2) - x2*sin(pi*x1))**2/(x1 - x2)**2, (x1, -1, 1), (x2, -1, 1)) - 0.25*Integral((x*sin(pi*x1) - x*sin(pi*x2) + x1*sin(pi*x2) - x2*sin(pi*x1))/(x1 - x2), (x1, -1, 1), (x2, -1, 1))\n",
      "0.125*Integral(-Integral(x*sin(pi*x1)/(x1 - x2), (x1, -1, 1), (x2, -1, 1)), (x, -1, 1)) + 0.125*Integral(-Integral(-x*sin(pi*x2)/(x1 - x2), (x1, -1, 1), (x2, -1, 1)), (x, -1, 1)) + 0.125*Integral(-Integral(x1*sin(pi*x2)/(x1 - x2), (x1, -1, 1), (x2, -1, 1)), (x, -1, 1)) + 0.125*Integral(-Integral(-x2*sin(pi*x1)/(x1 - x2), (x1, -1, 1), (x2, -1, 1)), (x, -1, 1)) + 0.125*Integral(x**2*sin(pi*x1)**2/(x1**2 - 2*x1*x2 + x2**2), (x1, -1, 1), (x2, -1, 1), (x, -1, 1)) + 0.125*Integral(x**2*sin(pi*x2)**2/(x1**2 - 2*x1*x2 + x2**2), (x1, -1, 1), (x2, -1, 1), (x, -1, 1)) + 0.125*Integral(x1**2*sin(pi*x2)**2/(x1**2 - 2*x1*x2 + x2**2), (x1, -1, 1), (x2, -1, 1), (x, -1, 1)) + 0.125*Integral(x2**2*sin(pi*x1)**2/(x1**2 - 2*x1*x2 + x2**2), (x1, -1, 1), (x2, -1, 1), (x, -1, 1)) + 0.125*Integral(-2*x*x1*sin(pi*x2)**2/(x1**2 - 2*x1*x2 + x2**2), (x1, -1, 1), (x2, -1, 1), (x, -1, 1)) + 0.125*Integral(-2*x*x2*sin(pi*x1)**2/(x1**2 - 2*x1*x2 + x2**2), (x1, -1, 1), (x2, -1, 1), (x, -1, 1)) + 0.125*Integral(-2*x**2*sin(pi*x1)*sin(pi*x2)/(x1**2 - 2*x1*x2 + x2**2), (x1, -1, 1), (x2, -1, 1), (x, -1, 1)) + 0.125*Integral(2*x*x1*sin(pi*x1)*sin(pi*x2)/(x1**2 - 2*x1*x2 + x2**2), (x1, -1, 1), (x2, -1, 1), (x, -1, 1)) + 0.125*Integral(2*x*x2*sin(pi*x1)*sin(pi*x2)/(x1**2 - 2*x1*x2 + x2**2), (x1, -1, 1), (x2, -1, 1), (x, -1, 1)) + 0.125*Integral(-2*x1*x2*sin(pi*x1)*sin(pi*x2)/(x1**2 - 2*x1*x2 + x2**2), (x1, -1, 1), (x2, -1, 1), (x, -1, 1))\n"
     ]
    }
   ],
   "source": [
    "x = sympy.Symbol(\"x\")\n",
    "x1 = sympy.Symbol(\"x1\")\n",
    "x2 = sympy.Symbol(\"x2\")\n",
    "\n",
    "slope = (sympy.sin(sympy.pi*x1) - sympy.sin(sympy.pi*x2)) / (x1 - x2)\n",
    "model = (sympy.sin(sympy.pi*x2) - slope * x2) + slope * x # w0 + w1x\n",
    "g_bar = (1/4)*sympy.integrate(model, (x1, -1, 1), (x2, -1, 1))\n",
    "print(g_bar)\n",
    "\n",
    "bias_order_2 = (g_bar - sympy.sin(sympy.pi*x))**2\n",
    "print(bias_order_2)\n",
    "expected_bias_order_2 = (1/2) * sympy.integrate(bias_order_2, (x, -1, 1))\n",
    "print(expected_bias_order_2)\n",
    "\n",
    "var = (1/4) * sympy.integrate(model**2, (x1, -1, 1), (x2, -1, 1)) - g_bar\n",
    "print(var)\n",
    "variance = (1/2) * sympy.integrate(var, (x, -1, 1))\n",
    "print(variance)"
   ]
  },
  {
   "cell_type": "code",
   "execution_count": null,
   "metadata": {},
   "outputs": [],
   "source": [
    "x = np.linspace(-1, 1, 10000)\n",
    "sin_v = np.vectorize(func)\n",
    "y = sin_v(x)\n",
    "\n",
    "fig = go.Figure(data = go.Scatter(x=x, y=y, mode=\"markers\"))\n",
    "fig.show()"
   ]
  }
 ],
 "metadata": {
  "kernelspec": {
   "display_name": "Python 3",
   "language": "python",
   "name": "python3"
  },
  "language_info": {
   "codemirror_mode": {
    "name": "ipython",
    "version": 3
   },
   "file_extension": ".py",
   "mimetype": "text/x-python",
   "name": "python",
   "nbconvert_exporter": "python",
   "pygments_lexer": "ipython3",
   "version": "3.10.6"
  },
  "orig_nbformat": 4
 },
 "nbformat": 4,
 "nbformat_minor": 2
}
