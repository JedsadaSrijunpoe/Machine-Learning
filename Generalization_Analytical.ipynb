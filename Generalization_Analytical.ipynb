{
 "cells": [
  {
   "cell_type": "code",
   "execution_count": 1,
   "metadata": {},
   "outputs": [],
   "source": [
    "import math\n",
    "import plotly.express as px\n",
    "import plotly.graph_objects as go\n",
    "import numpy as np\n",
    "import sympy\n",
    "from scipy import integrate\n",
    "import sys"
   ]
  },
  {
   "cell_type": "code",
   "execution_count": 39,
   "metadata": {},
   "outputs": [
    {
     "name": "stdout",
     "output_type": "stream",
     "text": [
      "g_bar: 0\n",
      "bias^2: 0.500000000000000\n",
      "variance: 0.250000000000000\n",
      "E_over_dataset: 0.750000000000000\n"
     ]
    }
   ],
   "source": [
    "# Constant Model, Target f(x) = sin(pi*x)\n",
    "\n",
    "x = sympy.Symbol(\"x\")\n",
    "x1 = sympy.Symbol(\"x1\")\n",
    "x2 = sympy.Symbol(\"x2\")\n",
    "\n",
    "c_model = (sympy.sin(sympy.pi*x1) + sympy.sin(sympy.pi*x2)) / 2\n",
    "g_bar = (1/4)*sympy.integrate(c_model, (x1, -1, 1), (x2, -1, 1))\n",
    "print(\"g_bar:\", g_bar)\n",
    "\n",
    "bias_order_2 = (g_bar - sympy.sin(sympy.pi*x))**2\n",
    "expected_bias_order_2 = (1/2) * sympy.integrate(bias_order_2, (x, -1, 1))\n",
    "print(\"bias^2:\", expected_bias_order_2)\n",
    "\n",
    "var = (1/4) * sympy.integrate(c_model**2, (x1, -1, 1), (x2, -1, 1)) - g_bar ** 2\n",
    "variance = (1/2) * sympy.integrate(var, (x, -1, 1))\n",
    "print(\"variance:\", variance)\n",
    "\n",
    "E_over_dataset = expected_bias_order_2 + variance\n",
    "print(\"E_over_dataset:\", E_over_dataset)"
   ]
  },
  {
   "cell_type": "code",
   "execution_count": 38,
   "metadata": {},
   "outputs": [
    {
     "name": "stdout",
     "output_type": "stream",
     "text": [
      "g_bar: 0.333333333333333\n",
      "bias^2: 0.0888888888888889\n",
      "variance: 0.0444444444444445\n",
      "E_over_dataset: 0.133333333333333\n"
     ]
    }
   ],
   "source": [
    "# Constant Model, Target f(x) = x^2\n",
    "\n",
    "x = sympy.Symbol(\"x\")\n",
    "x1 = sympy.Symbol(\"x1\")\n",
    "x2 = sympy.Symbol(\"x2\")\n",
    "\n",
    "c_model = (x1**2 + x2**2) / 2\n",
    "g_bar = (1/4)*sympy.integrate(c_model, (x1, -1, 1), (x2, -1, 1))\n",
    "print(\"g_bar:\", g_bar)\n",
    "\n",
    "bias_order_2 = (g_bar - x**2)**2\n",
    "expected_bias_order_2 = (1/2) * sympy.integrate(bias_order_2, (x, -1, 1))\n",
    "print(\"bias^2:\", expected_bias_order_2)\n",
    "\n",
    "var = (1/4) * sympy.integrate(c_model**2, (x1, -1, 1), (x2, -1, 1)) - g_bar ** 2\n",
    "variance = (1/2) * sympy.integrate(var, (x, -1, 1))\n",
    "print(\"variance:\", variance)\n",
    "\n",
    "E_over_dataset = expected_bias_order_2 + variance\n",
    "print(\"E_over_dataset:\", E_over_dataset)"
   ]
  },
  {
   "cell_type": "code",
   "execution_count": 41,
   "metadata": {},
   "outputs": [
    {
     "name": "stdout",
     "output_type": "stream",
     "text": [
      "g_bar: 0\n",
      "bias^2: 0.200000000000000\n",
      "variance: 0.0555555555555556\n",
      "E_over_dataset: 0.255555555555556\n"
     ]
    }
   ],
   "source": [
    "# Linear Model through the origin, Target f(x) = x^2\n",
    "\n",
    "x = sympy.Symbol(\"x\")\n",
    "x1 = sympy.Symbol(\"x1\")\n",
    "x2 = sympy.Symbol(\"x2\")\n",
    "w1 = sympy.Symbol(\"w1\")\n",
    "\n",
    "model = ((x1) + (x2)) * x / 2\n",
    "g_bar = sympy.N((1/4)*sympy.integrate(model, (x1, -1, 1), (x2, -1, 1)))\n",
    "print(\"g_bar:\", g_bar)\n",
    "\n",
    "bias_order_2 = (g_bar - x**2)**2\n",
    "expected_bias_order_2 = (1/2) * sympy.integrate(bias_order_2, (x, -1, 1))\n",
    "print(\"bias^2:\", expected_bias_order_2)\n",
    "\n",
    "var = (1/4) * sympy.integrate(model**2, (x1, -1, 1), (x2, -1, 1)) - g_bar ** 2\n",
    "variance = (1/2) * sympy.integrate(var, (x, -1, 1))\n",
    "print(\"variance:\", variance)\n",
    "\n",
    "E_over_dataset = expected_bias_order_2 + variance\n",
    "print(\"E_over_dataset:\", E_over_dataset)"
   ]
  },
  {
   "cell_type": "code",
   "execution_count": 36,
   "metadata": {},
   "outputs": [
    {
     "name": "stdout",
     "output_type": "stream",
     "text": [
      "0\n",
      "x**4\n",
      "0.200000000000000\n",
      "-0.833333333333333*x**2\n",
      "-0.277777777777778\n",
      "-0.0777777777777778\n"
     ]
    }
   ],
   "source": [
    "# Linear Model through the origin, Target f(x) = x^2\n",
    "\n",
    "x = sympy.Symbol(\"x\", real = True)\n",
    "x1 = sympy.Symbol(\"x1\")\n",
    "x2 = sympy.Symbol(\"x2\")\n",
    "w1 = sympy.Symbol(\"w1\")\n",
    "\n",
    "model = (((x1 ** 3) + (x2 **3)) / (x1 ** 2 + x2 ** 2)) * x\n",
    "g_bar = sympy.simplify((1/4)*sympy.integrate(model, (x1, -1, 1), (x2, -1, 1)))\n",
    "print(g_bar)\n",
    "\n",
    "bias_order_2 = (g_bar - x**2)**2\n",
    "print(sympy.N(bias_order_2))\n",
    "expected_bias_order_2 = (1/2) * sympy.integrate(bias_order_2, (x, -1, 1))\n",
    "print(sympy.N(expected_bias_order_2))\n",
    "var = (1/4) * sympy.integrate(model**2, (x1, -1, 1), (x2, -1, 1)) - g_bar ** 2\n",
    "print(var)\n",
    "variance = (1/2) * sympy.integrate(var, (x, -1, 1))\n",
    "print(sympy.N(variance))\n",
    "\n",
    "E_over_dataset = expected_bias_order_2 + variance\n",
    "print(sympy.N(E_over_dataset))"
   ]
  },
  {
   "cell_type": "code",
   "execution_count": 42,
   "metadata": {},
   "outputs": [
    {
     "name": "stdout",
     "output_type": "stream",
     "text": [
      "g_bar: 0\n",
      "bias^2: 0.200000000000000\n",
      "variance: 0.333333333333333\n",
      "E_over_dataset: 0.533333333333333\n"
     ]
    }
   ],
   "source": [
    "# Linear Model, Target f(x) = x^2\n",
    "\n",
    "x = sympy.Symbol(\"x\")\n",
    "x1 = sympy.Symbol(\"x1\")\n",
    "x2 = sympy.Symbol(\"x2\")\n",
    "\n",
    "slope = (x1**2 - x2**2) / (x1 - x2)\n",
    "model = (x2**2 - slope * x2) + slope * x # w0 + w1x\n",
    "g_bar = (1/4)*sympy.integrate(model, (x1, -1, 1), (x2, -1, 1))\n",
    "print(\"g_bar:\", g_bar)\n",
    "\n",
    "bias_order_2 = (g_bar - x**2)**2\n",
    "expected_bias_order_2 = (1/2) * sympy.integrate(bias_order_2, (x, -1, 1))\n",
    "print(\"bias^2:\", expected_bias_order_2)\n",
    "\n",
    "var = (1/4) * sympy.integrate(model**2, (x1, -1, 1), (x2, -1, 1)) - g_bar ** 2\n",
    "variance = (1/2) * sympy.integrate(var, (x, -1, 1))\n",
    "print(\"variance:\", variance)\n",
    "\n",
    "E_over_dataset = expected_bias_order_2 + variance\n",
    "print(\"E_over_dataset:\", E_over_dataset)"
   ]
  },
  {
   "cell_type": "code",
   "execution_count": 27,
   "metadata": {},
   "outputs": [
    {
     "name": "stdout",
     "output_type": "stream",
     "text": [
      "0.25*Integral((x*sin(pi*x1) - x*sin(pi*x2) + x1*sin(pi*x2) - x2*sin(pi*x1))/(x1 - x2), (x1, -1, 1), (x2, -1, 1))\n",
      "(-sin(pi*x) + 0.25*Integral((x*sin(pi*x1) - x*sin(pi*x2) + x1*sin(pi*x2) - x2*sin(pi*x1))/(x1 - x2), (x1, -1, 1), (x2, -1, 1)))**2\n",
      "0.5*Integral(-0.5*sin(pi*x)*Integral(x*sin(pi*x1)/(x1 - x2), (x1, -1, 1), (x2, -1, 1)), (x, -1, 1)) + 0.5*Integral(-0.5*sin(pi*x)*Integral(-x*sin(pi*x2)/(x1 - x2), (x1, -1, 1), (x2, -1, 1)), (x, -1, 1)) + 0.5*Integral(-0.5*sin(pi*x)*Integral(x1*sin(pi*x2)/(x1 - x2), (x1, -1, 1), (x2, -1, 1)), (x, -1, 1)) + 0.5*Integral(-0.5*sin(pi*x)*Integral(-x2*sin(pi*x1)/(x1 - x2), (x1, -1, 1), (x2, -1, 1)), (x, -1, 1)) + 0.5*Integral(0.125*Integral(x*sin(pi*x1)/(x1 - x2), (x1, -1, 1), (x2, -1, 1))*Integral(-x*sin(pi*x2)/(x1 - x2), (x1, -1, 1), (x2, -1, 1)), (x, -1, 1)) + 0.5*Integral(0.125*Integral(x*sin(pi*x1)/(x1 - x2), (x1, -1, 1), (x2, -1, 1))*Integral(x1*sin(pi*x2)/(x1 - x2), (x1, -1, 1), (x2, -1, 1)), (x, -1, 1)) + 0.5*Integral(0.125*Integral(x*sin(pi*x1)/(x1 - x2), (x1, -1, 1), (x2, -1, 1))*Integral(-x2*sin(pi*x1)/(x1 - x2), (x1, -1, 1), (x2, -1, 1)), (x, -1, 1)) + 0.5*Integral(0.125*Integral(-x*sin(pi*x2)/(x1 - x2), (x1, -1, 1), (x2, -1, 1))*Integral(x1*sin(pi*x2)/(x1 - x2), (x1, -1, 1), (x2, -1, 1)), (x, -1, 1)) + 0.5*Integral(0.125*Integral(-x*sin(pi*x2)/(x1 - x2), (x1, -1, 1), (x2, -1, 1))*Integral(-x2*sin(pi*x1)/(x1 - x2), (x1, -1, 1), (x2, -1, 1)), (x, -1, 1)) + 0.5*Integral(0.125*Integral(x1*sin(pi*x2)/(x1 - x2), (x1, -1, 1), (x2, -1, 1))*Integral(-x2*sin(pi*x1)/(x1 - x2), (x1, -1, 1), (x2, -1, 1)), (x, -1, 1)) + 0.5*Integral(0.0625*Integral(x*sin(pi*x1)/(x1 - x2), (x1, -1, 1), (x2, -1, 1))**2, (x, -1, 1)) + 0.5*Integral(0.0625*Integral(-x*sin(pi*x2)/(x1 - x2), (x1, -1, 1), (x2, -1, 1))**2, (x, -1, 1)) + 0.5*Integral(0.0625*Integral(x1*sin(pi*x2)/(x1 - x2), (x1, -1, 1), (x2, -1, 1))**2, (x, -1, 1)) + 0.5*Integral(0.0625*Integral(-x2*sin(pi*x1)/(x1 - x2), (x1, -1, 1), (x2, -1, 1))**2, (x, -1, 1)) + 0.5*Integral(1.0*sin(pi*x)**2, (x, -1, 1))\n"
     ]
    },
    {
     "ename": "KeyboardInterrupt",
     "evalue": "",
     "output_type": "error",
     "traceback": [
      "\u001b[1;31m---------------------------------------------------------------------------\u001b[0m",
      "\u001b[1;31mKeyboardInterrupt\u001b[0m                         Traceback (most recent call last)",
      "\u001b[1;32mc:\\Work\\MachineLearning\\Generalization_Analytical.ipynb Cell 8\u001b[0m in \u001b[0;36m1\n\u001b[0;32m     <a href='vscode-notebook-cell:/c%3A/Work/MachineLearning/Generalization_Analytical.ipynb#X14sZmlsZQ%3D%3D?line=13'>14</a>\u001b[0m expected_bias_order_2 \u001b[39m=\u001b[39m (\u001b[39m1\u001b[39m\u001b[39m/\u001b[39m\u001b[39m2\u001b[39m) \u001b[39m*\u001b[39m sympy\u001b[39m.\u001b[39mintegrate(bias_order_2, (x, \u001b[39m-\u001b[39m\u001b[39m1\u001b[39m, \u001b[39m1\u001b[39m))\n\u001b[0;32m     <a href='vscode-notebook-cell:/c%3A/Work/MachineLearning/Generalization_Analytical.ipynb#X14sZmlsZQ%3D%3D?line=14'>15</a>\u001b[0m \u001b[39mprint\u001b[39m(expected_bias_order_2)\n\u001b[1;32m---> <a href='vscode-notebook-cell:/c%3A/Work/MachineLearning/Generalization_Analytical.ipynb#X14sZmlsZQ%3D%3D?line=16'>17</a>\u001b[0m var \u001b[39m=\u001b[39m (\u001b[39m1\u001b[39m\u001b[39m/\u001b[39m\u001b[39m4\u001b[39m) \u001b[39m*\u001b[39m sympy\u001b[39m.\u001b[39;49mintegrate(model\u001b[39m*\u001b[39;49m\u001b[39m*\u001b[39;49m\u001b[39m2\u001b[39;49m, (x1, \u001b[39m-\u001b[39;49m\u001b[39m1\u001b[39;49m, \u001b[39m1\u001b[39;49m), (x2, \u001b[39m-\u001b[39;49m\u001b[39m1\u001b[39;49m, \u001b[39m1\u001b[39;49m)) \u001b[39m-\u001b[39m g_bar \u001b[39m*\u001b[39m\u001b[39m*\u001b[39m \u001b[39m2\u001b[39m\n\u001b[0;32m     <a href='vscode-notebook-cell:/c%3A/Work/MachineLearning/Generalization_Analytical.ipynb#X14sZmlsZQ%3D%3D?line=17'>18</a>\u001b[0m \u001b[39mprint\u001b[39m(var)\n\u001b[0;32m     <a href='vscode-notebook-cell:/c%3A/Work/MachineLearning/Generalization_Analytical.ipynb#X14sZmlsZQ%3D%3D?line=18'>19</a>\u001b[0m variance \u001b[39m=\u001b[39m (\u001b[39m1\u001b[39m\u001b[39m/\u001b[39m\u001b[39m2\u001b[39m) \u001b[39m*\u001b[39m sympy\u001b[39m.\u001b[39mintegrate(var, (x, \u001b[39m-\u001b[39m\u001b[39m1\u001b[39m, \u001b[39m1\u001b[39m))\n",
      "File \u001b[1;32mc:\\Users\\supak\\AppData\\Local\\Programs\\Python\\Python310\\lib\\site-packages\\sympy\\integrals\\integrals.py:1566\u001b[0m, in \u001b[0;36mintegrate\u001b[1;34m(meijerg, conds, risch, heurisch, manual, *args, **kwargs)\u001b[0m\n\u001b[0;32m   1563\u001b[0m integral \u001b[39m=\u001b[39m Integral(\u001b[39m*\u001b[39margs, \u001b[39m*\u001b[39m\u001b[39m*\u001b[39mkwargs)\n\u001b[0;32m   1565\u001b[0m \u001b[39mif\u001b[39;00m \u001b[39misinstance\u001b[39m(integral, Integral):\n\u001b[1;32m-> 1566\u001b[0m     \u001b[39mreturn\u001b[39;00m integral\u001b[39m.\u001b[39mdoit(\u001b[39m*\u001b[39m\u001b[39m*\u001b[39mdoit_flags)\n\u001b[0;32m   1567\u001b[0m \u001b[39melse\u001b[39;00m:\n\u001b[0;32m   1568\u001b[0m     new_args \u001b[39m=\u001b[39m [a\u001b[39m.\u001b[39mdoit(\u001b[39m*\u001b[39m\u001b[39m*\u001b[39mdoit_flags) \u001b[39mif\u001b[39;00m \u001b[39misinstance\u001b[39m(a, Integral) \u001b[39melse\u001b[39;00m a\n\u001b[0;32m   1569\u001b[0m         \u001b[39mfor\u001b[39;00m a \u001b[39min\u001b[39;00m integral\u001b[39m.\u001b[39margs]\n",
      "File \u001b[1;32mc:\\Users\\supak\\AppData\\Local\\Programs\\Python\\Python310\\lib\\site-packages\\sympy\\integrals\\integrals.py:613\u001b[0m, in \u001b[0;36mIntegral.doit\u001b[1;34m(self, **hints)\u001b[0m\n\u001b[0;32m    611\u001b[0m     antideriv \u001b[39m=\u001b[39m \u001b[39mNone\u001b[39;00m\n\u001b[0;32m    612\u001b[0m \u001b[39melse\u001b[39;00m:\n\u001b[1;32m--> 613\u001b[0m     antideriv \u001b[39m=\u001b[39m \u001b[39mself\u001b[39m\u001b[39m.\u001b[39m_eval_integral(\n\u001b[0;32m    614\u001b[0m         function, xab[\u001b[39m0\u001b[39m], \u001b[39m*\u001b[39m\u001b[39m*\u001b[39meval_kwargs)\n\u001b[0;32m    615\u001b[0m     \u001b[39mif\u001b[39;00m antideriv \u001b[39mis\u001b[39;00m \u001b[39mNone\u001b[39;00m \u001b[39mand\u001b[39;00m meijerg \u001b[39mis\u001b[39;00m \u001b[39mTrue\u001b[39;00m:\n\u001b[0;32m    616\u001b[0m         ret \u001b[39m=\u001b[39m try_meijerg(function, xab)\n",
      "File \u001b[1;32mc:\\Users\\supak\\AppData\\Local\\Programs\\Python\\Python310\\lib\\site-packages\\sympy\\integrals\\integrals.py:1084\u001b[0m, in \u001b[0;36mIntegral._eval_integral\u001b[1;34m(self, f, x, meijerg, risch, manual, heurisch, conds, final)\u001b[0m\n\u001b[0;32m   1082\u001b[0m \u001b[39mtry\u001b[39;00m:\n\u001b[0;32m   1083\u001b[0m     \u001b[39mif\u001b[39;00m conds \u001b[39m==\u001b[39m \u001b[39m'\u001b[39m\u001b[39mpiecewise\u001b[39m\u001b[39m'\u001b[39m:\n\u001b[1;32m-> 1084\u001b[0m         h \u001b[39m=\u001b[39m heurisch_wrapper(g, x, hints\u001b[39m=\u001b[39;49m[])\n\u001b[0;32m   1085\u001b[0m     \u001b[39melse\u001b[39;00m:\n\u001b[0;32m   1086\u001b[0m         h \u001b[39m=\u001b[39m heurisch_(g, x, hints\u001b[39m=\u001b[39m[])\n",
      "File \u001b[1;32mc:\\Users\\supak\\AppData\\Local\\Programs\\Python\\Python310\\lib\\site-packages\\sympy\\integrals\\heurisch.py:143\u001b[0m, in \u001b[0;36mheurisch_wrapper\u001b[1;34m(f, x, rewrite, hints, mappings, retries, degree_offset, unnecessary_permutations, _try_heurisch)\u001b[0m\n\u001b[0;32m    140\u001b[0m \u001b[39mif\u001b[39;00m \u001b[39mnot\u001b[39;00m f\u001b[39m.\u001b[39mhas_free(x):\n\u001b[0;32m    141\u001b[0m     \u001b[39mreturn\u001b[39;00m f\u001b[39m*\u001b[39mx\n\u001b[1;32m--> 143\u001b[0m res \u001b[39m=\u001b[39m heurisch(f, x, rewrite, hints, mappings, retries, degree_offset,\n\u001b[0;32m    144\u001b[0m                unnecessary_permutations, _try_heurisch)\n\u001b[0;32m    145\u001b[0m \u001b[39mif\u001b[39;00m \u001b[39mnot\u001b[39;00m \u001b[39misinstance\u001b[39m(res, Basic):\n\u001b[0;32m    146\u001b[0m     \u001b[39mreturn\u001b[39;00m res\n",
      "File \u001b[1;32mc:\\Users\\supak\\AppData\\Local\\Programs\\Python\\Python310\\lib\\site-packages\\sympy\\integrals\\heurisch.py:750\u001b[0m, in \u001b[0;36mheurisch\u001b[1;34m(f, x, rewrite, hints, mappings, retries, degree_offset, unnecessary_permutations, _try_heurisch)\u001b[0m\n\u001b[0;32m    748\u001b[0m \u001b[39melse\u001b[39;00m:\n\u001b[0;32m    749\u001b[0m     \u001b[39mif\u001b[39;00m retries \u001b[39m>\u001b[39m\u001b[39m=\u001b[39m \u001b[39m0\u001b[39m:\n\u001b[1;32m--> 750\u001b[0m         result \u001b[39m=\u001b[39m heurisch(f, x, mappings\u001b[39m=\u001b[39;49mmappings, rewrite\u001b[39m=\u001b[39;49mrewrite, hints\u001b[39m=\u001b[39;49mhints, retries\u001b[39m=\u001b[39;49mretries \u001b[39m-\u001b[39;49m \u001b[39m1\u001b[39;49m, unnecessary_permutations\u001b[39m=\u001b[39;49munnecessary_permutations)\n\u001b[0;32m    752\u001b[0m         \u001b[39mif\u001b[39;00m result \u001b[39mis\u001b[39;00m \u001b[39mnot\u001b[39;00m \u001b[39mNone\u001b[39;00m:\n\u001b[0;32m    753\u001b[0m             \u001b[39mreturn\u001b[39;00m indep\u001b[39m*\u001b[39mresult\n",
      "File \u001b[1;32mc:\\Users\\supak\\AppData\\Local\\Programs\\Python\\Python310\\lib\\site-packages\\sympy\\integrals\\heurisch.py:750\u001b[0m, in \u001b[0;36mheurisch\u001b[1;34m(f, x, rewrite, hints, mappings, retries, degree_offset, unnecessary_permutations, _try_heurisch)\u001b[0m\n\u001b[0;32m    748\u001b[0m \u001b[39melse\u001b[39;00m:\n\u001b[0;32m    749\u001b[0m     \u001b[39mif\u001b[39;00m retries \u001b[39m>\u001b[39m\u001b[39m=\u001b[39m \u001b[39m0\u001b[39m:\n\u001b[1;32m--> 750\u001b[0m         result \u001b[39m=\u001b[39m heurisch(f, x, mappings\u001b[39m=\u001b[39;49mmappings, rewrite\u001b[39m=\u001b[39;49mrewrite, hints\u001b[39m=\u001b[39;49mhints, retries\u001b[39m=\u001b[39;49mretries \u001b[39m-\u001b[39;49m \u001b[39m1\u001b[39;49m, unnecessary_permutations\u001b[39m=\u001b[39;49munnecessary_permutations)\n\u001b[0;32m    752\u001b[0m         \u001b[39mif\u001b[39;00m result \u001b[39mis\u001b[39;00m \u001b[39mnot\u001b[39;00m \u001b[39mNone\u001b[39;00m:\n\u001b[0;32m    753\u001b[0m             \u001b[39mreturn\u001b[39;00m indep\u001b[39m*\u001b[39mresult\n",
      "File \u001b[1;32mc:\\Users\\supak\\AppData\\Local\\Programs\\Python\\Python310\\lib\\site-packages\\sympy\\integrals\\heurisch.py:507\u001b[0m, in \u001b[0;36mheurisch\u001b[1;34m(f, x, rewrite, hints, mappings, retries, degree_offset, unnecessary_permutations, _try_heurisch)\u001b[0m\n\u001b[0;32m    505\u001b[0m \u001b[39melse\u001b[39;00m:\n\u001b[0;32m    506\u001b[0m     \u001b[39mif\u001b[39;00m \u001b[39mnot\u001b[39;00m rewrite:\n\u001b[1;32m--> 507\u001b[0m         result \u001b[39m=\u001b[39m heurisch(f, x, rewrite\u001b[39m=\u001b[39;49m\u001b[39mTrue\u001b[39;49;00m, hints\u001b[39m=\u001b[39;49mhints,\n\u001b[0;32m    508\u001b[0m             unnecessary_permutations\u001b[39m=\u001b[39;49munnecessary_permutations)\n\u001b[0;32m    510\u001b[0m         \u001b[39mif\u001b[39;00m result \u001b[39mis\u001b[39;00m \u001b[39mnot\u001b[39;00m \u001b[39mNone\u001b[39;00m:\n\u001b[0;32m    511\u001b[0m             \u001b[39mreturn\u001b[39;00m indep\u001b[39m*\u001b[39mresult\n",
      "File \u001b[1;32mc:\\Users\\supak\\AppData\\Local\\Programs\\Python\\Python310\\lib\\site-packages\\sympy\\integrals\\heurisch.py:738\u001b[0m, in \u001b[0;36mheurisch\u001b[1;34m(f, x, rewrite, hints, mappings, retries, degree_offset, unnecessary_permutations, _try_heurisch)\u001b[0m\n\u001b[0;32m    736\u001b[0m         solution \u001b[39m=\u001b[39m _integrate()\n\u001b[0;32m    737\u001b[0m \u001b[39melse\u001b[39;00m:\n\u001b[1;32m--> 738\u001b[0m     solution \u001b[39m=\u001b[39m _integrate()\n\u001b[0;32m    740\u001b[0m \u001b[39mif\u001b[39;00m solution \u001b[39mis\u001b[39;00m \u001b[39mnot\u001b[39;00m \u001b[39mNone\u001b[39;00m:\n\u001b[0;32m    741\u001b[0m     antideriv \u001b[39m=\u001b[39m solution\u001b[39m.\u001b[39msubs(rev_mapping)\n",
      "File \u001b[1;32mc:\\Users\\supak\\AppData\\Local\\Programs\\Python\\Python310\\lib\\site-packages\\sympy\\integrals\\heurisch.py:714\u001b[0m, in \u001b[0;36mheurisch.<locals>._integrate\u001b[1;34m(field)\u001b[0m\n\u001b[0;32m    712\u001b[0m ring \u001b[39m=\u001b[39m PolyRing(V, coeff_ring)\n\u001b[0;32m    713\u001b[0m \u001b[39mtry\u001b[39;00m:\n\u001b[1;32m--> 714\u001b[0m     numer \u001b[39m=\u001b[39m ring\u001b[39m.\u001b[39;49mfrom_expr(raw_numer)\n\u001b[0;32m    715\u001b[0m \u001b[39mexcept\u001b[39;00m \u001b[39mValueError\u001b[39;00m:\n\u001b[0;32m    716\u001b[0m     \u001b[39mraise\u001b[39;00m PolynomialError\n",
      "File \u001b[1;32mc:\\Users\\supak\\AppData\\Local\\Programs\\Python\\Python310\\lib\\site-packages\\sympy\\polys\\rings.py:397\u001b[0m, in \u001b[0;36mPolyRing.from_expr\u001b[1;34m(self, expr)\u001b[0m\n\u001b[0;32m    394\u001b[0m mapping \u001b[39m=\u001b[39m \u001b[39mdict\u001b[39m(\u001b[39mlist\u001b[39m(\u001b[39mzip\u001b[39m(\u001b[39mself\u001b[39m\u001b[39m.\u001b[39msymbols, \u001b[39mself\u001b[39m\u001b[39m.\u001b[39mgens)))\n\u001b[0;32m    396\u001b[0m \u001b[39mtry\u001b[39;00m:\n\u001b[1;32m--> 397\u001b[0m     poly \u001b[39m=\u001b[39m \u001b[39mself\u001b[39;49m\u001b[39m.\u001b[39;49m_rebuild_expr(expr, mapping)\n\u001b[0;32m    398\u001b[0m \u001b[39mexcept\u001b[39;00m CoercionFailed:\n\u001b[0;32m    399\u001b[0m     \u001b[39mraise\u001b[39;00m \u001b[39mValueError\u001b[39;00m(\u001b[39m\"\u001b[39m\u001b[39mexpected an expression convertible to a polynomial in \u001b[39m\u001b[39m%s\u001b[39;00m\u001b[39m, got \u001b[39m\u001b[39m%s\u001b[39;00m\u001b[39m\"\u001b[39m \u001b[39m%\u001b[39m (\u001b[39mself\u001b[39m, expr))\n",
      "File \u001b[1;32mc:\\Users\\supak\\AppData\\Local\\Programs\\Python\\Python310\\lib\\site-packages\\sympy\\polys\\rings.py:391\u001b[0m, in \u001b[0;36mPolyRing._rebuild_expr\u001b[1;34m(self, expr, mapping)\u001b[0m\n\u001b[0;32m    388\u001b[0m         \u001b[39melse\u001b[39;00m:\n\u001b[0;32m    389\u001b[0m             \u001b[39mreturn\u001b[39;00m \u001b[39mself\u001b[39m\u001b[39m.\u001b[39mground_new(domain\u001b[39m.\u001b[39mconvert(expr))\n\u001b[1;32m--> 391\u001b[0m \u001b[39mreturn\u001b[39;00m _rebuild(sympify(expr))\n",
      "File \u001b[1;32mc:\\Users\\supak\\AppData\\Local\\Programs\\Python\\Python310\\lib\\site-packages\\sympy\\polys\\rings.py:379\u001b[0m, in \u001b[0;36mPolyRing._rebuild_expr.<locals>._rebuild\u001b[1;34m(expr)\u001b[0m\n\u001b[0;32m    377\u001b[0m     \u001b[39mreturn\u001b[39;00m generator\n\u001b[0;32m    378\u001b[0m \u001b[39melif\u001b[39;00m expr\u001b[39m.\u001b[39mis_Add:\n\u001b[1;32m--> 379\u001b[0m     \u001b[39mreturn\u001b[39;00m reduce(add, \u001b[39mlist\u001b[39;49m(\u001b[39mmap\u001b[39;49m(_rebuild, expr\u001b[39m.\u001b[39;49margs)))\n\u001b[0;32m    380\u001b[0m \u001b[39melif\u001b[39;00m expr\u001b[39m.\u001b[39mis_Mul:\n\u001b[0;32m    381\u001b[0m     \u001b[39mreturn\u001b[39;00m reduce(mul, \u001b[39mlist\u001b[39m(\u001b[39mmap\u001b[39m(_rebuild, expr\u001b[39m.\u001b[39margs)))\n",
      "File \u001b[1;32mc:\\Users\\supak\\AppData\\Local\\Programs\\Python\\Python310\\lib\\site-packages\\sympy\\polys\\rings.py:381\u001b[0m, in \u001b[0;36mPolyRing._rebuild_expr.<locals>._rebuild\u001b[1;34m(expr)\u001b[0m\n\u001b[0;32m    379\u001b[0m     \u001b[39mreturn\u001b[39;00m reduce(add, \u001b[39mlist\u001b[39m(\u001b[39mmap\u001b[39m(_rebuild, expr\u001b[39m.\u001b[39margs)))\n\u001b[0;32m    380\u001b[0m \u001b[39melif\u001b[39;00m expr\u001b[39m.\u001b[39mis_Mul:\n\u001b[1;32m--> 381\u001b[0m     \u001b[39mreturn\u001b[39;00m reduce(mul, \u001b[39mlist\u001b[39;49m(\u001b[39mmap\u001b[39;49m(_rebuild, expr\u001b[39m.\u001b[39;49margs)))\n\u001b[0;32m    382\u001b[0m \u001b[39melse\u001b[39;00m:\n\u001b[0;32m    383\u001b[0m     \u001b[39m# XXX: Use as_base_exp() to handle Pow(x, n) and also exp(n)\u001b[39;00m\n\u001b[0;32m    384\u001b[0m     \u001b[39m# XXX: E can be a generator e.g. sring([exp(2)]) -> ZZ[E]\u001b[39;00m\n\u001b[0;32m    385\u001b[0m     base, exp \u001b[39m=\u001b[39m expr\u001b[39m.\u001b[39mas_base_exp()\n",
      "File \u001b[1;32mc:\\Users\\supak\\AppData\\Local\\Programs\\Python\\Python310\\lib\\site-packages\\sympy\\polys\\rings.py:1099\u001b[0m, in \u001b[0;36mPolyElement.__mul__\u001b[1;34m(p1, p2)\u001b[0m\n\u001b[0;32m   1097\u001b[0m     \u001b[39mfor\u001b[39;00m exp2, v2 \u001b[39min\u001b[39;00m p2it:\n\u001b[0;32m   1098\u001b[0m         exp \u001b[39m=\u001b[39m monomial_mul(exp1, exp2)\n\u001b[1;32m-> 1099\u001b[0m         p[exp] \u001b[39m=\u001b[39m get(exp, zero) \u001b[39m+\u001b[39m v1\u001b[39m*\u001b[39;49mv2\n\u001b[0;32m   1100\u001b[0m p\u001b[39m.\u001b[39mstrip_zero()\n\u001b[0;32m   1101\u001b[0m \u001b[39mreturn\u001b[39;00m p\n",
      "File \u001b[1;32mc:\\Users\\supak\\AppData\\Local\\Programs\\Python\\Python310\\lib\\site-packages\\sympy\\polys\\rings.py:1099\u001b[0m, in \u001b[0;36mPolyElement.__mul__\u001b[1;34m(p1, p2)\u001b[0m\n\u001b[0;32m   1097\u001b[0m     \u001b[39mfor\u001b[39;00m exp2, v2 \u001b[39min\u001b[39;00m p2it:\n\u001b[0;32m   1098\u001b[0m         exp \u001b[39m=\u001b[39m monomial_mul(exp1, exp2)\n\u001b[1;32m-> 1099\u001b[0m         p[exp] \u001b[39m=\u001b[39m get(exp, zero) \u001b[39m+\u001b[39m v1\u001b[39m*\u001b[39;49mv2\n\u001b[0;32m   1100\u001b[0m p\u001b[39m.\u001b[39mstrip_zero()\n\u001b[0;32m   1101\u001b[0m \u001b[39mreturn\u001b[39;00m p\n",
      "File \u001b[1;32mc:\\Users\\supak\\AppData\\Local\\Programs\\Python\\Python310\\lib\\site-packages\\sympy\\polys\\domains\\expressiondomain.py:105\u001b[0m, in \u001b[0;36mExpressionDomain.Expression.__mul__\u001b[1;34m(f, g)\u001b[0m\n\u001b[0;32m    102\u001b[0m \u001b[39melif\u001b[39;00m f\u001b[39m.\u001b[39mex\u001b[39m.\u001b[39mis_Number \u001b[39mand\u001b[39;00m g\u001b[39m.\u001b[39mex\u001b[39m.\u001b[39mis_Number:\n\u001b[0;32m    103\u001b[0m     \u001b[39mreturn\u001b[39;00m f\u001b[39m.\u001b[39m\u001b[39m__class__\u001b[39m(f\u001b[39m.\u001b[39mex\u001b[39m*\u001b[39mg\u001b[39m.\u001b[39mex)\n\u001b[1;32m--> 105\u001b[0m \u001b[39mreturn\u001b[39;00m f\u001b[39m.\u001b[39;49msimplify(f\u001b[39m.\u001b[39;49mex\u001b[39m*\u001b[39;49mg\u001b[39m.\u001b[39;49mex)\n",
      "File \u001b[1;32mc:\\Users\\supak\\AppData\\Local\\Programs\\Python\\Python310\\lib\\site-packages\\sympy\\polys\\domains\\expressiondomain.py:50\u001b[0m, in \u001b[0;36mExpressionDomain.Expression.simplify\u001b[1;34m(f, ex)\u001b[0m\n\u001b[0;32m     49\u001b[0m \u001b[39mdef\u001b[39;00m \u001b[39msimplify\u001b[39m(f, ex):\n\u001b[1;32m---> 50\u001b[0m     \u001b[39mreturn\u001b[39;00m f\u001b[39m.\u001b[39m\u001b[39m__class__\u001b[39m(ex\u001b[39m.\u001b[39;49mcancel()\u001b[39m.\u001b[39mexpand(\u001b[39m*\u001b[39m\u001b[39m*\u001b[39meflags))\n",
      "File \u001b[1;32mc:\\Users\\supak\\AppData\\Local\\Programs\\Python\\Python310\\lib\\site-packages\\sympy\\core\\expr.py:3733\u001b[0m, in \u001b[0;36mExpr.cancel\u001b[1;34m(self, *gens, **args)\u001b[0m\n\u001b[0;32m   3731\u001b[0m \u001b[39m\"\"\"See the cancel function in sympy.polys\"\"\"\u001b[39;00m\n\u001b[0;32m   3732\u001b[0m \u001b[39mfrom\u001b[39;00m \u001b[39msympy\u001b[39;00m\u001b[39m.\u001b[39;00m\u001b[39mpolys\u001b[39;00m\u001b[39m.\u001b[39;00m\u001b[39mpolytools\u001b[39;00m \u001b[39mimport\u001b[39;00m cancel\n\u001b[1;32m-> 3733\u001b[0m \u001b[39mreturn\u001b[39;00m cancel(\u001b[39mself\u001b[39m, \u001b[39m*\u001b[39mgens, \u001b[39m*\u001b[39m\u001b[39m*\u001b[39margs)\n",
      "File \u001b[1;32mc:\\Users\\supak\\AppData\\Local\\Programs\\Python\\Python310\\lib\\site-packages\\sympy\\polys\\polytools.py:6806\u001b[0m, in \u001b[0;36mcancel\u001b[1;34m(f, _signsimp, *gens, **args)\u001b[0m\n\u001b[0;32m   6803\u001b[0m     opt[\u001b[39m'\u001b[39m\u001b[39mgens\u001b[39m\u001b[39m'\u001b[39m] \u001b[39m=\u001b[39m R\u001b[39m.\u001b[39msymbols\n\u001b[0;32m   6805\u001b[0m \u001b[39mif\u001b[39;00m \u001b[39mnot\u001b[39;00m \u001b[39misinstance\u001b[39m(f, (\u001b[39mtuple\u001b[39m, Tuple)):\n\u001b[1;32m-> 6806\u001b[0m     \u001b[39mreturn\u001b[39;00m c\u001b[39m*\u001b[39m(P\u001b[39m.\u001b[39mas_expr()\u001b[39m/\u001b[39mQ\u001b[39m.\u001b[39;49mas_expr())\n\u001b[0;32m   6807\u001b[0m \u001b[39melse\u001b[39;00m:\n\u001b[0;32m   6808\u001b[0m     P, Q \u001b[39m=\u001b[39m P\u001b[39m.\u001b[39mas_expr(), Q\u001b[39m.\u001b[39mas_expr()\n",
      "File \u001b[1;32mc:\\Users\\supak\\AppData\\Local\\Programs\\Python\\Python310\\lib\\site-packages\\sympy\\polys\\rings.py:624\u001b[0m, in \u001b[0;36mPolyElement.as_expr\u001b[1;34m(self, *symbols)\u001b[0m\n\u001b[0;32m    621\u001b[0m \u001b[39melse\u001b[39;00m:\n\u001b[0;32m    622\u001b[0m     symbols \u001b[39m=\u001b[39m \u001b[39mself\u001b[39m\u001b[39m.\u001b[39mring\u001b[39m.\u001b[39msymbols\n\u001b[1;32m--> 624\u001b[0m \u001b[39mreturn\u001b[39;00m expr_from_dict(\u001b[39mself\u001b[39;49m\u001b[39m.\u001b[39;49mas_expr_dict(), \u001b[39m*\u001b[39;49msymbols)\n",
      "File \u001b[1;32mc:\\Users\\supak\\AppData\\Local\\Programs\\Python\\Python310\\lib\\site-packages\\sympy\\polys\\polyutils.py:385\u001b[0m, in \u001b[0;36mexpr_from_dict\u001b[1;34m(rep, *gens)\u001b[0m\n\u001b[0;32m    382\u001b[0m         \u001b[39mif\u001b[39;00m m:\n\u001b[0;32m    383\u001b[0m             term\u001b[39m.\u001b[39mappend(Pow(g, m))\n\u001b[1;32m--> 385\u001b[0m     result\u001b[39m.\u001b[39;49mappend(Mul(\u001b[39m*\u001b[39;49mterm))\n\u001b[0;32m    387\u001b[0m \u001b[39mreturn\u001b[39;00m Add(\u001b[39m*\u001b[39mresult)\n",
      "\u001b[1;31mKeyboardInterrupt\u001b[0m: "
     ]
    }
   ],
   "source": [
    "# Linear Model, Target f(x) = sin(pi*x)\n",
    "\n",
    "x = sympy.Symbol(\"x\")\n",
    "x1 = sympy.Symbol(\"x1\", real = True)\n",
    "x2 = sympy.Symbol(\"x2\", real = True)\n",
    "\n",
    "slope = (sympy.sin(sympy.pi*x1) - sympy.sin(sympy.pi*x2)) / (x1 - x2)\n",
    "model = (sympy.sin(sympy.pi*x2) - slope * x2) + slope * x # w0 + w1x\n",
    "g_bar = (1/4)*sympy.integrate(model, (x1, -1, 1), (x2, -1, 1))\n",
    "print(g_bar)\n",
    "\n",
    "bias_order_2 = (g_bar - sympy.sin(sympy.pi*x))**2\n",
    "print(bias_order_2)\n",
    "expected_bias_order_2 = (1/2) * sympy.integrate(bias_order_2, (x, -1, 1))\n",
    "print(expected_bias_order_2)\n",
    "\n",
    "var = (1/4) * sympy.integrate(model**2, (x1, -1, 1), (x2, -1, 1)) - g_bar ** 2\n",
    "print(var)\n",
    "variance = (1/2) * sympy.integrate(var, (x, -1, 1))\n",
    "print(variance)"
   ]
  },
  {
   "cell_type": "code",
   "execution_count": 111,
   "metadata": {},
   "outputs": [
    {
     "name": "stdout",
     "output_type": "stream",
     "text": [
      "0.003173828125\n",
      "0.002812499999999999\n",
      "0.002706249999999999\n",
      "0.0027050781249999987\n",
      "0.002714062500000001\n"
     ]
    }
   ],
   "source": [
    "print((1/4) * ((0.625*0.5 - 0.25)**2 + (0.625*0.75 - 0.5625)**2))\n",
    "print((1/4) * ((0.65*0.5 - 0.25)**2 + (0.65*0.75 - 0.5625)**2))\n",
    "print((1/4) * ((0.67*0.5 - 0.25)**2 + (0.67*0.75 - 0.5625)**2))\n",
    "print((1/4) * ((0.675*0.5 - 0.25)**2 + (0.675*0.75 - 0.5625)**2))\n",
    "print((1/4) * ((0.68*0.5 - 0.25)**2 + (0.68*0.75 - 0.5625)**2))"
   ]
  },
  {
   "cell_type": "code",
   "execution_count": 108,
   "metadata": {},
   "outputs": [
    {
     "name": "stdout",
     "output_type": "stream",
     "text": [
      "0.0027562506249999993\n",
      "0.0026014224999999992\n",
      "0.0023076099999999986\n",
      "0.0020349224999999986\n",
      "0.0017833599999999984\n",
      "0.0015529225000000004\n",
      "0.0013436100000000003\n",
      "0.0011554225\n",
      "0.00098836\n",
      "0.00047960999999999983\n",
      "0.0005449224999999998\n"
     ]
    }
   ],
   "source": [
    "print((1/4) * ((0.425*0.25 - 0.1062)**2 + (0.425*0.6 - 0.36)**2))\n",
    "print((1/4) * ((0.43*0.25 - 0.1062)**2 + (0.43*0.6 - 0.36)**2))\n",
    "print((1/4) * ((0.44*0.25 - 0.1062)**2 + (0.44*0.6 - 0.36)**2))\n",
    "print((1/4) * ((0.45*0.25 - 0.1062)**2 + (0.45*0.6 - 0.36)**2))\n",
    "print((1/4) * ((0.46*0.25 - 0.1062)**2 + (0.46*0.6 - 0.36)**2))\n",
    "print((1/4) * ((0.47*0.25 - 0.1062)**2 + (0.47*0.6 - 0.36)**2))\n",
    "print((1/4) * ((0.48*0.25 - 0.1062)**2 + (0.48*0.6 - 0.36)**2))\n",
    "print((1/4) * ((0.49*0.25 - 0.1062)**2 + (0.49*0.6 - 0.36)**2))\n",
    "print((1/4) * ((0.5*0.25 - 0.1062)**2 + (0.5*0.6 - 0.36)**2))\n",
    "print((1/4) * ((0.6*0.25 - 0.1062)**2 + (0.6*0.6 - 0.36)**2))\n",
    "print((1/4) * ((0.61*0.25 - 0.1062)**2 + (0.61*0.6 - 0.36)**2))"
   ]
  },
  {
   "cell_type": "code",
   "execution_count": null,
   "metadata": {},
   "outputs": [],
   "source": [
    "\"\"\"import numpy as np\n",
    "import sympy\n",
    "\n",
    "x = sympy.Symbol(\"x\")\n",
    "\n",
    "# Define the target function: sin(pi*x)\n",
    "target_function = sympy.sin(sympy.pi * x)\n",
    "\n",
    "# Number of data points to sample for the numerical approximation\n",
    "num_points = 10000\n",
    "\n",
    "# Generate random data points within the range [-1, 1]\n",
    "x_data = np.random.uniform(-1, 1, num_points)\n",
    "y_data = np.sin(np.pi * x_data)\n",
    "\n",
    "# Perform linear regression to get the model parameters\n",
    "slope, intercept = np.polyfit(x_data, y_data, deg=1)\n",
    "\n",
    "# Construct the expected linear model\n",
    "expected_linear_model = slope * x + intercept\n",
    "\n",
    "print(\"Expected Linear Model:\", expected_linear_model)\"\"\""
   ]
  },
  {
   "cell_type": "code",
   "execution_count": 112,
   "metadata": {},
   "outputs": [
    {
     "name": "stdout",
     "output_type": "stream",
     "text": [
      "g_bar: 0.25*x*Integral(x*(sin(pi*x1) + sin(pi*x2))/(x1 + x2), (x1, -1, 1), (x2, -1, 1))\n"
     ]
    },
    {
     "ename": "KeyboardInterrupt",
     "evalue": "",
     "output_type": "error",
     "traceback": [
      "\u001b[1;31m---------------------------------------------------------------------------\u001b[0m",
      "\u001b[1;31mKeyboardInterrupt\u001b[0m                         Traceback (most recent call last)",
      "\u001b[1;32mc:\\Work\\MachineLearning\\Generalization_Analytical.ipynb Cell 10\u001b[0m in \u001b[0;36m1\n\u001b[0;32m     <a href='vscode-notebook-cell:/c%3A/Work/MachineLearning/Generalization_Analytical.ipynb#W6sZmlsZQ%3D%3D?line=16'>17</a>\u001b[0m bias_order_2 \u001b[39m=\u001b[39m (g_bar \u001b[39m-\u001b[39m sympy\u001b[39m.\u001b[39msin(sympy\u001b[39m.\u001b[39mpi \u001b[39m*\u001b[39m x)) \u001b[39m*\u001b[39m\u001b[39m*\u001b[39m \u001b[39m2\u001b[39m\n\u001b[0;32m     <a href='vscode-notebook-cell:/c%3A/Work/MachineLearning/Generalization_Analytical.ipynb#W6sZmlsZQ%3D%3D?line=17'>18</a>\u001b[0m expected_bias_order_2 \u001b[39m=\u001b[39m (\u001b[39m1\u001b[39m\u001b[39m/\u001b[39m\u001b[39m2\u001b[39m) \u001b[39m*\u001b[39m sympy\u001b[39m.\u001b[39mintegrate(bias_order_2, (x, \u001b[39m-\u001b[39m\u001b[39m1\u001b[39m, \u001b[39m1\u001b[39m))\n\u001b[1;32m---> <a href='vscode-notebook-cell:/c%3A/Work/MachineLearning/Generalization_Analytical.ipynb#W6sZmlsZQ%3D%3D?line=18'>19</a>\u001b[0m var \u001b[39m=\u001b[39m (\u001b[39m1\u001b[39m \u001b[39m/\u001b[39m \u001b[39m4\u001b[39m) \u001b[39m*\u001b[39m sympy\u001b[39m.\u001b[39;49mintegrate(c_model\u001b[39m*\u001b[39;49m\u001b[39m*\u001b[39;49m\u001b[39m2\u001b[39;49m, (x1, \u001b[39m-\u001b[39;49m\u001b[39m1\u001b[39;49m, \u001b[39m1\u001b[39;49m), (x2, \u001b[39m-\u001b[39;49m\u001b[39m1\u001b[39;49m, \u001b[39m1\u001b[39;49m)) \u001b[39m-\u001b[39m g_bar\n\u001b[0;32m     <a href='vscode-notebook-cell:/c%3A/Work/MachineLearning/Generalization_Analytical.ipynb#W6sZmlsZQ%3D%3D?line=19'>20</a>\u001b[0m variance \u001b[39m=\u001b[39m (\u001b[39m1\u001b[39m \u001b[39m/\u001b[39m \u001b[39m2\u001b[39m) \u001b[39m*\u001b[39m sympy\u001b[39m.\u001b[39mintegrate(var, (x, \u001b[39m-\u001b[39m\u001b[39m1\u001b[39m, \u001b[39m1\u001b[39m))\n\u001b[0;32m     <a href='vscode-notebook-cell:/c%3A/Work/MachineLearning/Generalization_Analytical.ipynb#W6sZmlsZQ%3D%3D?line=21'>22</a>\u001b[0m \u001b[39mprint\u001b[39m(\u001b[39m\"\u001b[39m\u001b[39mBias (order 2):\u001b[39m\u001b[39m\"\u001b[39m, bias_order_2)\n",
      "File \u001b[1;32mc:\\Users\\supak\\AppData\\Local\\Programs\\Python\\Python310\\lib\\site-packages\\sympy\\integrals\\integrals.py:1566\u001b[0m, in \u001b[0;36mintegrate\u001b[1;34m(meijerg, conds, risch, heurisch, manual, *args, **kwargs)\u001b[0m\n\u001b[0;32m   1563\u001b[0m integral \u001b[39m=\u001b[39m Integral(\u001b[39m*\u001b[39margs, \u001b[39m*\u001b[39m\u001b[39m*\u001b[39mkwargs)\n\u001b[0;32m   1565\u001b[0m \u001b[39mif\u001b[39;00m \u001b[39misinstance\u001b[39m(integral, Integral):\n\u001b[1;32m-> 1566\u001b[0m     \u001b[39mreturn\u001b[39;00m integral\u001b[39m.\u001b[39mdoit(\u001b[39m*\u001b[39m\u001b[39m*\u001b[39mdoit_flags)\n\u001b[0;32m   1567\u001b[0m \u001b[39melse\u001b[39;00m:\n\u001b[0;32m   1568\u001b[0m     new_args \u001b[39m=\u001b[39m [a\u001b[39m.\u001b[39mdoit(\u001b[39m*\u001b[39m\u001b[39m*\u001b[39mdoit_flags) \u001b[39mif\u001b[39;00m \u001b[39misinstance\u001b[39m(a, Integral) \u001b[39melse\u001b[39;00m a\n\u001b[0;32m   1569\u001b[0m         \u001b[39mfor\u001b[39;00m a \u001b[39min\u001b[39;00m integral\u001b[39m.\u001b[39margs]\n",
      "File \u001b[1;32mc:\\Users\\supak\\AppData\\Local\\Programs\\Python\\Python310\\lib\\site-packages\\sympy\\integrals\\integrals.py:500\u001b[0m, in \u001b[0;36mIntegral.doit\u001b[1;34m(self, **hints)\u001b[0m\n\u001b[0;32m    498\u001b[0m \u001b[39mif\u001b[39;00m reps:\n\u001b[0;32m    499\u001b[0m     undo \u001b[39m=\u001b[39m {v: k \u001b[39mfor\u001b[39;00m k, v \u001b[39min\u001b[39;00m reps\u001b[39m.\u001b[39mitems()}\n\u001b[1;32m--> 500\u001b[0m     did \u001b[39m=\u001b[39m \u001b[39mself\u001b[39m\u001b[39m.\u001b[39mxreplace(reps)\u001b[39m.\u001b[39mdoit(\u001b[39m*\u001b[39m\u001b[39m*\u001b[39mhints)\n\u001b[0;32m    501\u001b[0m     \u001b[39mif\u001b[39;00m \u001b[39misinstance\u001b[39m(did, \u001b[39mtuple\u001b[39m):  \u001b[39m# when separate=True\u001b[39;00m\n\u001b[0;32m    502\u001b[0m         did \u001b[39m=\u001b[39m \u001b[39mtuple\u001b[39m([i\u001b[39m.\u001b[39mxreplace(undo) \u001b[39mfor\u001b[39;00m i \u001b[39min\u001b[39;00m did])\n",
      "File \u001b[1;32mc:\\Users\\supak\\AppData\\Local\\Programs\\Python\\Python310\\lib\\site-packages\\sympy\\integrals\\integrals.py:613\u001b[0m, in \u001b[0;36mIntegral.doit\u001b[1;34m(self, **hints)\u001b[0m\n\u001b[0;32m    611\u001b[0m     antideriv \u001b[39m=\u001b[39m \u001b[39mNone\u001b[39;00m\n\u001b[0;32m    612\u001b[0m \u001b[39melse\u001b[39;00m:\n\u001b[1;32m--> 613\u001b[0m     antideriv \u001b[39m=\u001b[39m \u001b[39mself\u001b[39m\u001b[39m.\u001b[39m_eval_integral(\n\u001b[0;32m    614\u001b[0m         function, xab[\u001b[39m0\u001b[39m], \u001b[39m*\u001b[39m\u001b[39m*\u001b[39meval_kwargs)\n\u001b[0;32m    615\u001b[0m     \u001b[39mif\u001b[39;00m antideriv \u001b[39mis\u001b[39;00m \u001b[39mNone\u001b[39;00m \u001b[39mand\u001b[39;00m meijerg \u001b[39mis\u001b[39;00m \u001b[39mTrue\u001b[39;00m:\n\u001b[0;32m    616\u001b[0m         ret \u001b[39m=\u001b[39m try_meijerg(function, xab)\n",
      "File \u001b[1;32mc:\\Users\\supak\\AppData\\Local\\Programs\\Python\\Python310\\lib\\site-packages\\sympy\\integrals\\integrals.py:1084\u001b[0m, in \u001b[0;36mIntegral._eval_integral\u001b[1;34m(self, f, x, meijerg, risch, manual, heurisch, conds, final)\u001b[0m\n\u001b[0;32m   1082\u001b[0m \u001b[39mtry\u001b[39;00m:\n\u001b[0;32m   1083\u001b[0m     \u001b[39mif\u001b[39;00m conds \u001b[39m==\u001b[39m \u001b[39m'\u001b[39m\u001b[39mpiecewise\u001b[39m\u001b[39m'\u001b[39m:\n\u001b[1;32m-> 1084\u001b[0m         h \u001b[39m=\u001b[39m heurisch_wrapper(g, x, hints\u001b[39m=\u001b[39;49m[])\n\u001b[0;32m   1085\u001b[0m     \u001b[39melse\u001b[39;00m:\n\u001b[0;32m   1086\u001b[0m         h \u001b[39m=\u001b[39m heurisch_(g, x, hints\u001b[39m=\u001b[39m[])\n",
      "File \u001b[1;32mc:\\Users\\supak\\AppData\\Local\\Programs\\Python\\Python310\\lib\\site-packages\\sympy\\integrals\\heurisch.py:143\u001b[0m, in \u001b[0;36mheurisch_wrapper\u001b[1;34m(f, x, rewrite, hints, mappings, retries, degree_offset, unnecessary_permutations, _try_heurisch)\u001b[0m\n\u001b[0;32m    140\u001b[0m \u001b[39mif\u001b[39;00m \u001b[39mnot\u001b[39;00m f\u001b[39m.\u001b[39mhas_free(x):\n\u001b[0;32m    141\u001b[0m     \u001b[39mreturn\u001b[39;00m f\u001b[39m*\u001b[39mx\n\u001b[1;32m--> 143\u001b[0m res \u001b[39m=\u001b[39m heurisch(f, x, rewrite, hints, mappings, retries, degree_offset,\n\u001b[0;32m    144\u001b[0m                unnecessary_permutations, _try_heurisch)\n\u001b[0;32m    145\u001b[0m \u001b[39mif\u001b[39;00m \u001b[39mnot\u001b[39;00m \u001b[39misinstance\u001b[39m(res, Basic):\n\u001b[0;32m    146\u001b[0m     \u001b[39mreturn\u001b[39;00m res\n",
      "File \u001b[1;32mc:\\Users\\supak\\AppData\\Local\\Programs\\Python\\Python310\\lib\\site-packages\\sympy\\integrals\\heurisch.py:750\u001b[0m, in \u001b[0;36mheurisch\u001b[1;34m(f, x, rewrite, hints, mappings, retries, degree_offset, unnecessary_permutations, _try_heurisch)\u001b[0m\n\u001b[0;32m    748\u001b[0m \u001b[39melse\u001b[39;00m:\n\u001b[0;32m    749\u001b[0m     \u001b[39mif\u001b[39;00m retries \u001b[39m>\u001b[39m\u001b[39m=\u001b[39m \u001b[39m0\u001b[39m:\n\u001b[1;32m--> 750\u001b[0m         result \u001b[39m=\u001b[39m heurisch(f, x, mappings\u001b[39m=\u001b[39;49mmappings, rewrite\u001b[39m=\u001b[39;49mrewrite, hints\u001b[39m=\u001b[39;49mhints, retries\u001b[39m=\u001b[39;49mretries \u001b[39m-\u001b[39;49m \u001b[39m1\u001b[39;49m, unnecessary_permutations\u001b[39m=\u001b[39;49munnecessary_permutations)\n\u001b[0;32m    752\u001b[0m         \u001b[39mif\u001b[39;00m result \u001b[39mis\u001b[39;00m \u001b[39mnot\u001b[39;00m \u001b[39mNone\u001b[39;00m:\n\u001b[0;32m    753\u001b[0m             \u001b[39mreturn\u001b[39;00m indep\u001b[39m*\u001b[39mresult\n",
      "File \u001b[1;32mc:\\Users\\supak\\AppData\\Local\\Programs\\Python\\Python310\\lib\\site-packages\\sympy\\integrals\\heurisch.py:750\u001b[0m, in \u001b[0;36mheurisch\u001b[1;34m(f, x, rewrite, hints, mappings, retries, degree_offset, unnecessary_permutations, _try_heurisch)\u001b[0m\n\u001b[0;32m    748\u001b[0m \u001b[39melse\u001b[39;00m:\n\u001b[0;32m    749\u001b[0m     \u001b[39mif\u001b[39;00m retries \u001b[39m>\u001b[39m\u001b[39m=\u001b[39m \u001b[39m0\u001b[39m:\n\u001b[1;32m--> 750\u001b[0m         result \u001b[39m=\u001b[39m heurisch(f, x, mappings\u001b[39m=\u001b[39;49mmappings, rewrite\u001b[39m=\u001b[39;49mrewrite, hints\u001b[39m=\u001b[39;49mhints, retries\u001b[39m=\u001b[39;49mretries \u001b[39m-\u001b[39;49m \u001b[39m1\u001b[39;49m, unnecessary_permutations\u001b[39m=\u001b[39;49munnecessary_permutations)\n\u001b[0;32m    752\u001b[0m         \u001b[39mif\u001b[39;00m result \u001b[39mis\u001b[39;00m \u001b[39mnot\u001b[39;00m \u001b[39mNone\u001b[39;00m:\n\u001b[0;32m    753\u001b[0m             \u001b[39mreturn\u001b[39;00m indep\u001b[39m*\u001b[39mresult\n",
      "File \u001b[1;32mc:\\Users\\supak\\AppData\\Local\\Programs\\Python\\Python310\\lib\\site-packages\\sympy\\integrals\\heurisch.py:507\u001b[0m, in \u001b[0;36mheurisch\u001b[1;34m(f, x, rewrite, hints, mappings, retries, degree_offset, unnecessary_permutations, _try_heurisch)\u001b[0m\n\u001b[0;32m    505\u001b[0m \u001b[39melse\u001b[39;00m:\n\u001b[0;32m    506\u001b[0m     \u001b[39mif\u001b[39;00m \u001b[39mnot\u001b[39;00m rewrite:\n\u001b[1;32m--> 507\u001b[0m         result \u001b[39m=\u001b[39m heurisch(f, x, rewrite\u001b[39m=\u001b[39;49m\u001b[39mTrue\u001b[39;49;00m, hints\u001b[39m=\u001b[39;49mhints,\n\u001b[0;32m    508\u001b[0m             unnecessary_permutations\u001b[39m=\u001b[39;49munnecessary_permutations)\n\u001b[0;32m    510\u001b[0m         \u001b[39mif\u001b[39;00m result \u001b[39mis\u001b[39;00m \u001b[39mnot\u001b[39;00m \u001b[39mNone\u001b[39;00m:\n\u001b[0;32m    511\u001b[0m             \u001b[39mreturn\u001b[39;00m indep\u001b[39m*\u001b[39mresult\n",
      "File \u001b[1;32mc:\\Users\\supak\\AppData\\Local\\Programs\\Python\\Python310\\lib\\site-packages\\sympy\\integrals\\heurisch.py:738\u001b[0m, in \u001b[0;36mheurisch\u001b[1;34m(f, x, rewrite, hints, mappings, retries, degree_offset, unnecessary_permutations, _try_heurisch)\u001b[0m\n\u001b[0;32m    736\u001b[0m         solution \u001b[39m=\u001b[39m _integrate()\n\u001b[0;32m    737\u001b[0m \u001b[39melse\u001b[39;00m:\n\u001b[1;32m--> 738\u001b[0m     solution \u001b[39m=\u001b[39m _integrate()\n\u001b[0;32m    740\u001b[0m \u001b[39mif\u001b[39;00m solution \u001b[39mis\u001b[39;00m \u001b[39mnot\u001b[39;00m \u001b[39mNone\u001b[39;00m:\n\u001b[0;32m    741\u001b[0m     antideriv \u001b[39m=\u001b[39m solution\u001b[39m.\u001b[39msubs(rev_mapping)\n",
      "File \u001b[1;32mc:\\Users\\supak\\AppData\\Local\\Programs\\Python\\Python310\\lib\\site-packages\\sympy\\integrals\\heurisch.py:714\u001b[0m, in \u001b[0;36mheurisch.<locals>._integrate\u001b[1;34m(field)\u001b[0m\n\u001b[0;32m    712\u001b[0m ring \u001b[39m=\u001b[39m PolyRing(V, coeff_ring)\n\u001b[0;32m    713\u001b[0m \u001b[39mtry\u001b[39;00m:\n\u001b[1;32m--> 714\u001b[0m     numer \u001b[39m=\u001b[39m ring\u001b[39m.\u001b[39;49mfrom_expr(raw_numer)\n\u001b[0;32m    715\u001b[0m \u001b[39mexcept\u001b[39;00m \u001b[39mValueError\u001b[39;00m:\n\u001b[0;32m    716\u001b[0m     \u001b[39mraise\u001b[39;00m PolynomialError\n",
      "File \u001b[1;32mc:\\Users\\supak\\AppData\\Local\\Programs\\Python\\Python310\\lib\\site-packages\\sympy\\polys\\rings.py:397\u001b[0m, in \u001b[0;36mPolyRing.from_expr\u001b[1;34m(self, expr)\u001b[0m\n\u001b[0;32m    394\u001b[0m mapping \u001b[39m=\u001b[39m \u001b[39mdict\u001b[39m(\u001b[39mlist\u001b[39m(\u001b[39mzip\u001b[39m(\u001b[39mself\u001b[39m\u001b[39m.\u001b[39msymbols, \u001b[39mself\u001b[39m\u001b[39m.\u001b[39mgens)))\n\u001b[0;32m    396\u001b[0m \u001b[39mtry\u001b[39;00m:\n\u001b[1;32m--> 397\u001b[0m     poly \u001b[39m=\u001b[39m \u001b[39mself\u001b[39;49m\u001b[39m.\u001b[39;49m_rebuild_expr(expr, mapping)\n\u001b[0;32m    398\u001b[0m \u001b[39mexcept\u001b[39;00m CoercionFailed:\n\u001b[0;32m    399\u001b[0m     \u001b[39mraise\u001b[39;00m \u001b[39mValueError\u001b[39;00m(\u001b[39m\"\u001b[39m\u001b[39mexpected an expression convertible to a polynomial in \u001b[39m\u001b[39m%s\u001b[39;00m\u001b[39m, got \u001b[39m\u001b[39m%s\u001b[39;00m\u001b[39m\"\u001b[39m \u001b[39m%\u001b[39m (\u001b[39mself\u001b[39m, expr))\n",
      "File \u001b[1;32mc:\\Users\\supak\\AppData\\Local\\Programs\\Python\\Python310\\lib\\site-packages\\sympy\\polys\\rings.py:391\u001b[0m, in \u001b[0;36mPolyRing._rebuild_expr\u001b[1;34m(self, expr, mapping)\u001b[0m\n\u001b[0;32m    388\u001b[0m         \u001b[39melse\u001b[39;00m:\n\u001b[0;32m    389\u001b[0m             \u001b[39mreturn\u001b[39;00m \u001b[39mself\u001b[39m\u001b[39m.\u001b[39mground_new(domain\u001b[39m.\u001b[39mconvert(expr))\n\u001b[1;32m--> 391\u001b[0m \u001b[39mreturn\u001b[39;00m _rebuild(sympify(expr))\n",
      "File \u001b[1;32mc:\\Users\\supak\\AppData\\Local\\Programs\\Python\\Python310\\lib\\site-packages\\sympy\\polys\\rings.py:379\u001b[0m, in \u001b[0;36mPolyRing._rebuild_expr.<locals>._rebuild\u001b[1;34m(expr)\u001b[0m\n\u001b[0;32m    377\u001b[0m     \u001b[39mreturn\u001b[39;00m generator\n\u001b[0;32m    378\u001b[0m \u001b[39melif\u001b[39;00m expr\u001b[39m.\u001b[39mis_Add:\n\u001b[1;32m--> 379\u001b[0m     \u001b[39mreturn\u001b[39;00m reduce(add, \u001b[39mlist\u001b[39;49m(\u001b[39mmap\u001b[39;49m(_rebuild, expr\u001b[39m.\u001b[39;49margs)))\n\u001b[0;32m    380\u001b[0m \u001b[39melif\u001b[39;00m expr\u001b[39m.\u001b[39mis_Mul:\n\u001b[0;32m    381\u001b[0m     \u001b[39mreturn\u001b[39;00m reduce(mul, \u001b[39mlist\u001b[39m(\u001b[39mmap\u001b[39m(_rebuild, expr\u001b[39m.\u001b[39margs)))\n",
      "File \u001b[1;32mc:\\Users\\supak\\AppData\\Local\\Programs\\Python\\Python310\\lib\\site-packages\\sympy\\polys\\rings.py:381\u001b[0m, in \u001b[0;36mPolyRing._rebuild_expr.<locals>._rebuild\u001b[1;34m(expr)\u001b[0m\n\u001b[0;32m    379\u001b[0m     \u001b[39mreturn\u001b[39;00m reduce(add, \u001b[39mlist\u001b[39m(\u001b[39mmap\u001b[39m(_rebuild, expr\u001b[39m.\u001b[39margs)))\n\u001b[0;32m    380\u001b[0m \u001b[39melif\u001b[39;00m expr\u001b[39m.\u001b[39mis_Mul:\n\u001b[1;32m--> 381\u001b[0m     \u001b[39mreturn\u001b[39;00m reduce(mul, \u001b[39mlist\u001b[39;49m(\u001b[39mmap\u001b[39;49m(_rebuild, expr\u001b[39m.\u001b[39;49margs)))\n\u001b[0;32m    382\u001b[0m \u001b[39melse\u001b[39;00m:\n\u001b[0;32m    383\u001b[0m     \u001b[39m# XXX: Use as_base_exp() to handle Pow(x, n) and also exp(n)\u001b[39;00m\n\u001b[0;32m    384\u001b[0m     \u001b[39m# XXX: E can be a generator e.g. sring([exp(2)]) -> ZZ[E]\u001b[39;00m\n\u001b[0;32m    385\u001b[0m     base, exp \u001b[39m=\u001b[39m expr\u001b[39m.\u001b[39mas_base_exp()\n",
      "File \u001b[1;32mc:\\Users\\supak\\AppData\\Local\\Programs\\Python\\Python310\\lib\\site-packages\\sympy\\polys\\rings.py:1099\u001b[0m, in \u001b[0;36mPolyElement.__mul__\u001b[1;34m(p1, p2)\u001b[0m\n\u001b[0;32m   1097\u001b[0m     \u001b[39mfor\u001b[39;00m exp2, v2 \u001b[39min\u001b[39;00m p2it:\n\u001b[0;32m   1098\u001b[0m         exp \u001b[39m=\u001b[39m monomial_mul(exp1, exp2)\n\u001b[1;32m-> 1099\u001b[0m         p[exp] \u001b[39m=\u001b[39m get(exp, zero) \u001b[39m+\u001b[39m v1\u001b[39m*\u001b[39;49mv2\n\u001b[0;32m   1100\u001b[0m p\u001b[39m.\u001b[39mstrip_zero()\n\u001b[0;32m   1101\u001b[0m \u001b[39mreturn\u001b[39;00m p\n",
      "File \u001b[1;32mc:\\Users\\supak\\AppData\\Local\\Programs\\Python\\Python310\\lib\\site-packages\\sympy\\polys\\rings.py:1099\u001b[0m, in \u001b[0;36mPolyElement.__mul__\u001b[1;34m(p1, p2)\u001b[0m\n\u001b[0;32m   1097\u001b[0m     \u001b[39mfor\u001b[39;00m exp2, v2 \u001b[39min\u001b[39;00m p2it:\n\u001b[0;32m   1098\u001b[0m         exp \u001b[39m=\u001b[39m monomial_mul(exp1, exp2)\n\u001b[1;32m-> 1099\u001b[0m         p[exp] \u001b[39m=\u001b[39m get(exp, zero) \u001b[39m+\u001b[39m v1\u001b[39m*\u001b[39;49mv2\n\u001b[0;32m   1100\u001b[0m p\u001b[39m.\u001b[39mstrip_zero()\n\u001b[0;32m   1101\u001b[0m \u001b[39mreturn\u001b[39;00m p\n",
      "File \u001b[1;32mc:\\Users\\supak\\AppData\\Local\\Programs\\Python\\Python310\\lib\\site-packages\\sympy\\polys\\domains\\expressiondomain.py:105\u001b[0m, in \u001b[0;36mExpressionDomain.Expression.__mul__\u001b[1;34m(f, g)\u001b[0m\n\u001b[0;32m    102\u001b[0m \u001b[39melif\u001b[39;00m f\u001b[39m.\u001b[39mex\u001b[39m.\u001b[39mis_Number \u001b[39mand\u001b[39;00m g\u001b[39m.\u001b[39mex\u001b[39m.\u001b[39mis_Number:\n\u001b[0;32m    103\u001b[0m     \u001b[39mreturn\u001b[39;00m f\u001b[39m.\u001b[39m\u001b[39m__class__\u001b[39m(f\u001b[39m.\u001b[39mex\u001b[39m*\u001b[39mg\u001b[39m.\u001b[39mex)\n\u001b[1;32m--> 105\u001b[0m \u001b[39mreturn\u001b[39;00m f\u001b[39m.\u001b[39;49msimplify(f\u001b[39m.\u001b[39;49mex\u001b[39m*\u001b[39;49mg\u001b[39m.\u001b[39;49mex)\n",
      "File \u001b[1;32mc:\\Users\\supak\\AppData\\Local\\Programs\\Python\\Python310\\lib\\site-packages\\sympy\\polys\\domains\\expressiondomain.py:50\u001b[0m, in \u001b[0;36mExpressionDomain.Expression.simplify\u001b[1;34m(f, ex)\u001b[0m\n\u001b[0;32m     49\u001b[0m \u001b[39mdef\u001b[39;00m \u001b[39msimplify\u001b[39m(f, ex):\n\u001b[1;32m---> 50\u001b[0m     \u001b[39mreturn\u001b[39;00m f\u001b[39m.\u001b[39m\u001b[39m__class__\u001b[39m(ex\u001b[39m.\u001b[39;49mcancel()\u001b[39m.\u001b[39mexpand(\u001b[39m*\u001b[39m\u001b[39m*\u001b[39meflags))\n",
      "File \u001b[1;32mc:\\Users\\supak\\AppData\\Local\\Programs\\Python\\Python310\\lib\\site-packages\\sympy\\core\\expr.py:3733\u001b[0m, in \u001b[0;36mExpr.cancel\u001b[1;34m(self, *gens, **args)\u001b[0m\n\u001b[0;32m   3731\u001b[0m \u001b[39m\"\"\"See the cancel function in sympy.polys\"\"\"\u001b[39;00m\n\u001b[0;32m   3732\u001b[0m \u001b[39mfrom\u001b[39;00m \u001b[39msympy\u001b[39;00m\u001b[39m.\u001b[39;00m\u001b[39mpolys\u001b[39;00m\u001b[39m.\u001b[39;00m\u001b[39mpolytools\u001b[39;00m \u001b[39mimport\u001b[39;00m cancel\n\u001b[1;32m-> 3733\u001b[0m \u001b[39mreturn\u001b[39;00m cancel(\u001b[39mself\u001b[39m, \u001b[39m*\u001b[39mgens, \u001b[39m*\u001b[39m\u001b[39m*\u001b[39margs)\n",
      "File \u001b[1;32mc:\\Users\\supak\\AppData\\Local\\Programs\\Python\\Python310\\lib\\site-packages\\sympy\\polys\\polytools.py:6770\u001b[0m, in \u001b[0;36mcancel\u001b[1;34m(f, _signsimp, *gens, **args)\u001b[0m\n\u001b[0;32m   6768\u001b[0m \u001b[39mif\u001b[39;00m f\u001b[39m.\u001b[39mhas(Piecewise):\n\u001b[0;32m   6769\u001b[0m     \u001b[39mraise\u001b[39;00m PolynomialError()\n\u001b[1;32m-> 6770\u001b[0m R, (F, G) \u001b[39m=\u001b[39m sring((p, q), \u001b[39m*\u001b[39mgens, \u001b[39m*\u001b[39m\u001b[39m*\u001b[39margs)\n\u001b[0;32m   6771\u001b[0m \u001b[39mif\u001b[39;00m \u001b[39mnot\u001b[39;00m R\u001b[39m.\u001b[39mngens:\n\u001b[0;32m   6772\u001b[0m     \u001b[39mif\u001b[39;00m \u001b[39mnot\u001b[39;00m \u001b[39misinstance\u001b[39m(f, (\u001b[39mtuple\u001b[39m, Tuple)):\n",
      "File \u001b[1;32mc:\\Users\\supak\\AppData\\Local\\Programs\\Python\\Python310\\lib\\site-packages\\sympy\\polys\\rings.py:160\u001b[0m, in \u001b[0;36msring\u001b[1;34m(exprs, *symbols, **options)\u001b[0m\n\u001b[0;32m    157\u001b[0m     exprs, single \u001b[39m=\u001b[39m [exprs], \u001b[39mTrue\u001b[39;00m\n\u001b[0;32m    159\u001b[0m exprs \u001b[39m=\u001b[39m \u001b[39mlist\u001b[39m(\u001b[39mmap\u001b[39m(sympify, exprs))\n\u001b[1;32m--> 160\u001b[0m opt \u001b[39m=\u001b[39m build_options(symbols, options)\n\u001b[0;32m    162\u001b[0m \u001b[39m# TODO: rewrite this so that it doesn't use expand() (see poly()).\u001b[39;00m\n\u001b[0;32m    163\u001b[0m reps, opt \u001b[39m=\u001b[39m _parallel_dict_from_expr(exprs, opt)\n",
      "File \u001b[1;32mc:\\Users\\supak\\AppData\\Local\\Programs\\Python\\Python310\\lib\\site-packages\\sympy\\polys\\polyoptions.py:746\u001b[0m, in \u001b[0;36mbuild_options\u001b[1;34m(gens, args)\u001b[0m\n\u001b[0;32m    743\u001b[0m     gens, args \u001b[39m=\u001b[39m (), gens\n\u001b[0;32m    745\u001b[0m \u001b[39mif\u001b[39;00m \u001b[39mlen\u001b[39m(args) \u001b[39m!=\u001b[39m \u001b[39m1\u001b[39m \u001b[39mor\u001b[39;00m \u001b[39m'\u001b[39m\u001b[39mopt\u001b[39m\u001b[39m'\u001b[39m \u001b[39mnot\u001b[39;00m \u001b[39min\u001b[39;00m args \u001b[39mor\u001b[39;00m gens:\n\u001b[1;32m--> 746\u001b[0m     \u001b[39mreturn\u001b[39;00m Options(gens, args)\n\u001b[0;32m    747\u001b[0m \u001b[39melse\u001b[39;00m:\n\u001b[0;32m    748\u001b[0m     \u001b[39mreturn\u001b[39;00m args[\u001b[39m'\u001b[39m\u001b[39mopt\u001b[39m\u001b[39m'\u001b[39m]\n",
      "File \u001b[1;32mc:\\Users\\supak\\AppData\\Local\\Programs\\Python\\Python310\\lib\\site-packages\\sympy\\polys\\polyoptions.py:182\u001b[0m, in \u001b[0;36mOptions.__init__\u001b[1;34m(self, gens, args, flags, strict)\u001b[0m\n\u001b[0;32m    179\u001b[0m             \u001b[39mraise\u001b[39;00m OptionError(\u001b[39m\"\u001b[39m\u001b[39m'\u001b[39m\u001b[39m%s\u001b[39;00m\u001b[39m'\u001b[39m\u001b[39m option is not allowed together with \u001b[39m\u001b[39m'\u001b[39m\u001b[39m%s\u001b[39;00m\u001b[39m'\u001b[39m\u001b[39m\"\u001b[39m \u001b[39m%\u001b[39m (option, exclude_option))\n\u001b[0;32m    181\u001b[0m \u001b[39mfor\u001b[39;00m option \u001b[39min\u001b[39;00m \u001b[39mself\u001b[39m\u001b[39m.\u001b[39m__order__:\n\u001b[1;32m--> 182\u001b[0m     \u001b[39mself\u001b[39;49m\u001b[39m.\u001b[39;49m__options__[option]\u001b[39m.\u001b[39;49mpostprocess(\u001b[39mself\u001b[39;49m)\n",
      "\u001b[1;31mKeyboardInterrupt\u001b[0m: "
     ]
    }
   ],
   "source": [
    "\"\"\"import sympy\n",
    "\n",
    "x = sympy.Symbol(\"x\")\n",
    "x1 = sympy.Symbol(\"x1\")\n",
    "x2 = sympy.Symbol(\"x2\")\n",
    "\n",
    "c_model = ((sympy.sin(sympy.pi * x1) + sympy.sin(sympy.pi * x2)) * x) / (x1 + x2)\n",
    "integral_expr = (1/4) * x * sympy.Integral(c_model, (x1, -1, 1), (x2, -1, 1))\n",
    "\n",
    "# Numerically evaluate the integral using `sympy.N()` and substitute x\n",
    "g_bar = integral_expr.subs(x, sympy.Symbol(\"x\"))\n",
    "g_bar_value = sympy.N(g_bar)\n",
    "\n",
    "print(\"g_bar:\", g_bar_value)\n",
    "\n",
    "# Calculate the rest of the expressions numerically\n",
    "bias_order_2 = (g_bar - sympy.sin(sympy.pi * x)) ** 2\n",
    "expected_bias_order_2 = (1/2) * sympy.integrate(bias_order_2, (x, -1, 1))\n",
    "var = (1 / 4) * sympy.integrate(c_model**2, (x1, -1, 1), (x2, -1, 1)) - g_bar\n",
    "variance = (1 / 2) * sympy.integrate(var, (x, -1, 1))\n",
    "\n",
    "print(\"Bias (order 2):\", bias_order_2)\n",
    "print(\"Expected Bias (order 2):\", sympy.N(expected_bias_order_2))\n",
    "print(\"Var:\", var)\n",
    "print(\"Variance:\", sympy.N(variance))\"\"\""
   ]
  },
  {
   "cell_type": "code",
   "execution_count": null,
   "metadata": {},
   "outputs": [],
   "source": [
    "x = np.linspace(-1, 1, 10000)\n",
    "sin_v = np.vectorize(func)\n",
    "y = sin_v(x)\n",
    "\n",
    "fig = go.Figure(data = go.Scatter(x=x, y=y, mode=\"markers\"))\n",
    "fig.show()"
   ]
  }
 ],
 "metadata": {
  "kernelspec": {
   "display_name": "Python 3",
   "language": "python",
   "name": "python3"
  },
  "language_info": {
   "codemirror_mode": {
    "name": "ipython",
    "version": 3
   },
   "file_extension": ".py",
   "mimetype": "text/x-python",
   "name": "python",
   "nbconvert_exporter": "python",
   "pygments_lexer": "ipython3",
   "version": "3.10.6"
  },
  "orig_nbformat": 4
 },
 "nbformat": 4,
 "nbformat_minor": 2
}
