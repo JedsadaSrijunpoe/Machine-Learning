{
 "cells": [
  {
   "cell_type": "code",
   "execution_count": 2,
   "metadata": {},
   "outputs": [],
   "source": [
    "import math\n",
    "import pandas as pd\n",
    "import numpy as np\n",
    "from scipy import stats"
   ]
  },
  {
   "cell_type": "code",
   "execution_count": 3,
   "metadata": {},
   "outputs": [],
   "source": [
    "def split_data_to_fold(df : pd.DataFrame, seed : int, folds : int):\n",
    "\n",
    "    data_per_fold = df.shape[0] // folds\n",
    "    remainder =  df.shape[0] % folds\n",
    "\n",
    "    size_list = [data_per_fold]*folds\n",
    "    for i in range(remainder):\n",
    "        size_list[i] += 1\n",
    "\n",
    "    sample_df = df.sample(frac=1.0, random_state=seed, ignore_index=True)\n",
    "    dfs = []\n",
    "    \n",
    "    start_index = 0\n",
    "    for i in range(len(size_list)):\n",
    "        \n",
    "        dfs.append(sample_df.iloc[start_index : start_index + size_list[i]] )\n",
    "        start_index += size_list[i]\n",
    "\n",
    "    return dfs\n",
    "\n",
    "def CalculateRMSE(x_positions, y_positions, w0, w1):\n",
    "    n = len(x_positions)\n",
    "    RMSE = 0\n",
    "    for i in range(0, n):\n",
    "        RMSE += (w0 + w1*x_positions[i] - y_positions[i]) ** 2\n",
    "    RMSE *= 1/(n)\n",
    "    return RMSE**(1/2)\n",
    "\n",
    "def CalculateMAE(x_positions, y_positions, w0, w1):\n",
    "    n = len(x_positions)\n",
    "    MAE = 0\n",
    "    for i in range(0, n):\n",
    "        MAE += abs(w0 + w1*x_positions[i] - y_positions[i])\n",
    "    MAE *= 1/n\n",
    "    return MAE\n",
    "\n",
    "def CalculateRAE(x_positions, y_positions, w0, w1):\n",
    "    n = len(y_positions)\n",
    "    y_bar = sum(y_positions) / n\n",
    "    \n",
    "    err_from_model = 0\n",
    "    err_from_avg = 0\n",
    "    for i in range(0,n):\n",
    "        err_from_model += abs(y_positions[i] - (w0 + w1*x_positions[i]))\n",
    "        err_from_avg += abs(y_positions[i] - y_bar)\n",
    "    return err_from_model / err_from_avg\n",
    "\n",
    "def CalculateRRSE(x_positions, y_positions, w0, w1):\n",
    "    n = len(y_positions)\n",
    "    y_bar = sum(y_positions) / n\n",
    "    \n",
    "    err_from_model = 0\n",
    "    err_from_avg = 0\n",
    "    for i in range(0,n):\n",
    "        err_from_model += (y_positions[i] - (w0 + w1*x_positions[i]))**2\n",
    "        err_from_avg += (y_positions[i] - y_bar)**2\n",
    "    return (err_from_model / err_from_avg)**(1/2)\n",
    "\n",
    "def train(df):\n",
    "    slope, intercept, r, p, se = stats.linregress(df[\"Height\"], df[\"Weight\"])\n",
    "    return slope,intercept,r\n",
    "\n",
    "def cross_validation(fold_data):\n",
    "    metric_dict = {}\n",
    "    RMSE = []\n",
    "    MAE = []\n",
    "    r_list = []\n",
    "    RAE = []\n",
    "    RRSE = []\n",
    "    for i in range(len(fold_data)):\n",
    "        test_df = fold_data[i]\n",
    "        test_df.reset_index(inplace=True)\n",
    "        train_df = list(fold_data)\n",
    "        train_df.pop(i)\n",
    "        slope,intercept,r = train(pd.concat(train_df, ignore_index=True))\n",
    "        RMSE.append(CalculateRMSE(test_df[\"Height\"],test_df[\"Weight\"],intercept,slope))\n",
    "        MAE.append(CalculateMAE(test_df[\"Height\"], test_df[\"Weight\"], intercept, slope))\n",
    "        RAE.append(CalculateRAE(test_df[\"Height\"], test_df[\"Weight\"], intercept, slope))\n",
    "        RRSE.append(CalculateRRSE(test_df[\"Height\"], test_df[\"Weight\"], intercept, slope))\n",
    "        r_list.append(r)\n",
    "    metric_dict['RMSE'] = np.average(RMSE)\n",
    "    metric_dict['MAE'] = np.average(MAE)\n",
    "    metric_dict['r'] = np.average(r_list)\n",
    "    metric_dict['RAE'] = np.average(RAE)\n",
    "    metric_dict['RRSE'] = np.average(RRSE)\n",
    "    return metric_dict"
   ]
  },
  {
   "cell_type": "code",
   "execution_count": 4,
   "metadata": {},
   "outputs": [
    {
     "ename": "FileNotFoundError",
     "evalue": "[Errno 2] No such file or directory: 'Data/Data/HeightWeight.csv'",
     "output_type": "error",
     "traceback": [
      "\u001b[1;31m---------------------------------------------------------------------------\u001b[0m",
      "\u001b[1;31mFileNotFoundError\u001b[0m                         Traceback (most recent call last)",
      "Cell \u001b[1;32mIn[4], line 1\u001b[0m\n\u001b[1;32m----> 1\u001b[0m full_df \u001b[39m=\u001b[39m pd\u001b[39m.\u001b[39;49mread_csv(\u001b[39m\"\u001b[39;49m\u001b[39mData/Data/HeightWeight.csv\u001b[39;49m\u001b[39m\"\u001b[39;49m)\n\u001b[0;32m      2\u001b[0m fold_list \u001b[39m=\u001b[39m [\u001b[39m2\u001b[39m,\u001b[39m3\u001b[39m,\u001b[39m5\u001b[39m,\u001b[39m10\u001b[39m]\n\u001b[0;32m      3\u001b[0m seed_num \u001b[39m=\u001b[39m \u001b[39m100\u001b[39m\n",
      "File \u001b[1;32m~\\AppData\\Local\\Packages\\PythonSoftwareFoundation.Python.3.9_qbz5n2kfra8p0\\LocalCache\\local-packages\\Python39\\site-packages\\pandas\\util\\_decorators.py:211\u001b[0m, in \u001b[0;36mdeprecate_kwarg.<locals>._deprecate_kwarg.<locals>.wrapper\u001b[1;34m(*args, **kwargs)\u001b[0m\n\u001b[0;32m    209\u001b[0m     \u001b[39melse\u001b[39;00m:\n\u001b[0;32m    210\u001b[0m         kwargs[new_arg_name] \u001b[39m=\u001b[39m new_arg_value\n\u001b[1;32m--> 211\u001b[0m \u001b[39mreturn\u001b[39;00m func(\u001b[39m*\u001b[39margs, \u001b[39m*\u001b[39m\u001b[39m*\u001b[39mkwargs)\n",
      "File \u001b[1;32m~\\AppData\\Local\\Packages\\PythonSoftwareFoundation.Python.3.9_qbz5n2kfra8p0\\LocalCache\\local-packages\\Python39\\site-packages\\pandas\\util\\_decorators.py:331\u001b[0m, in \u001b[0;36mdeprecate_nonkeyword_arguments.<locals>.decorate.<locals>.wrapper\u001b[1;34m(*args, **kwargs)\u001b[0m\n\u001b[0;32m    325\u001b[0m \u001b[39mif\u001b[39;00m \u001b[39mlen\u001b[39m(args) \u001b[39m>\u001b[39m num_allow_args:\n\u001b[0;32m    326\u001b[0m     warnings\u001b[39m.\u001b[39mwarn(\n\u001b[0;32m    327\u001b[0m         msg\u001b[39m.\u001b[39mformat(arguments\u001b[39m=\u001b[39m_format_argument_list(allow_args)),\n\u001b[0;32m    328\u001b[0m         \u001b[39mFutureWarning\u001b[39;00m,\n\u001b[0;32m    329\u001b[0m         stacklevel\u001b[39m=\u001b[39mfind_stack_level(),\n\u001b[0;32m    330\u001b[0m     )\n\u001b[1;32m--> 331\u001b[0m \u001b[39mreturn\u001b[39;00m func(\u001b[39m*\u001b[39margs, \u001b[39m*\u001b[39m\u001b[39m*\u001b[39mkwargs)\n",
      "File \u001b[1;32m~\\AppData\\Local\\Packages\\PythonSoftwareFoundation.Python.3.9_qbz5n2kfra8p0\\LocalCache\\local-packages\\Python39\\site-packages\\pandas\\io\\parsers\\readers.py:950\u001b[0m, in \u001b[0;36mread_csv\u001b[1;34m(filepath_or_buffer, sep, delimiter, header, names, index_col, usecols, squeeze, prefix, mangle_dupe_cols, dtype, engine, converters, true_values, false_values, skipinitialspace, skiprows, skipfooter, nrows, na_values, keep_default_na, na_filter, verbose, skip_blank_lines, parse_dates, infer_datetime_format, keep_date_col, date_parser, dayfirst, cache_dates, iterator, chunksize, compression, thousands, decimal, lineterminator, quotechar, quoting, doublequote, escapechar, comment, encoding, encoding_errors, dialect, error_bad_lines, warn_bad_lines, on_bad_lines, delim_whitespace, low_memory, memory_map, float_precision, storage_options)\u001b[0m\n\u001b[0;32m    935\u001b[0m kwds_defaults \u001b[39m=\u001b[39m _refine_defaults_read(\n\u001b[0;32m    936\u001b[0m     dialect,\n\u001b[0;32m    937\u001b[0m     delimiter,\n\u001b[1;32m   (...)\u001b[0m\n\u001b[0;32m    946\u001b[0m     defaults\u001b[39m=\u001b[39m{\u001b[39m\"\u001b[39m\u001b[39mdelimiter\u001b[39m\u001b[39m\"\u001b[39m: \u001b[39m\"\u001b[39m\u001b[39m,\u001b[39m\u001b[39m\"\u001b[39m},\n\u001b[0;32m    947\u001b[0m )\n\u001b[0;32m    948\u001b[0m kwds\u001b[39m.\u001b[39mupdate(kwds_defaults)\n\u001b[1;32m--> 950\u001b[0m \u001b[39mreturn\u001b[39;00m _read(filepath_or_buffer, kwds)\n",
      "File \u001b[1;32m~\\AppData\\Local\\Packages\\PythonSoftwareFoundation.Python.3.9_qbz5n2kfra8p0\\LocalCache\\local-packages\\Python39\\site-packages\\pandas\\io\\parsers\\readers.py:605\u001b[0m, in \u001b[0;36m_read\u001b[1;34m(filepath_or_buffer, kwds)\u001b[0m\n\u001b[0;32m    602\u001b[0m _validate_names(kwds\u001b[39m.\u001b[39mget(\u001b[39m\"\u001b[39m\u001b[39mnames\u001b[39m\u001b[39m\"\u001b[39m, \u001b[39mNone\u001b[39;00m))\n\u001b[0;32m    604\u001b[0m \u001b[39m# Create the parser.\u001b[39;00m\n\u001b[1;32m--> 605\u001b[0m parser \u001b[39m=\u001b[39m TextFileReader(filepath_or_buffer, \u001b[39m*\u001b[39m\u001b[39m*\u001b[39mkwds)\n\u001b[0;32m    607\u001b[0m \u001b[39mif\u001b[39;00m chunksize \u001b[39mor\u001b[39;00m iterator:\n\u001b[0;32m    608\u001b[0m     \u001b[39mreturn\u001b[39;00m parser\n",
      "File \u001b[1;32m~\\AppData\\Local\\Packages\\PythonSoftwareFoundation.Python.3.9_qbz5n2kfra8p0\\LocalCache\\local-packages\\Python39\\site-packages\\pandas\\io\\parsers\\readers.py:1442\u001b[0m, in \u001b[0;36mTextFileReader.__init__\u001b[1;34m(self, f, engine, **kwds)\u001b[0m\n\u001b[0;32m   1439\u001b[0m     \u001b[39mself\u001b[39m\u001b[39m.\u001b[39moptions[\u001b[39m\"\u001b[39m\u001b[39mhas_index_names\u001b[39m\u001b[39m\"\u001b[39m] \u001b[39m=\u001b[39m kwds[\u001b[39m\"\u001b[39m\u001b[39mhas_index_names\u001b[39m\u001b[39m\"\u001b[39m]\n\u001b[0;32m   1441\u001b[0m \u001b[39mself\u001b[39m\u001b[39m.\u001b[39mhandles: IOHandles \u001b[39m|\u001b[39m \u001b[39mNone\u001b[39;00m \u001b[39m=\u001b[39m \u001b[39mNone\u001b[39;00m\n\u001b[1;32m-> 1442\u001b[0m \u001b[39mself\u001b[39m\u001b[39m.\u001b[39m_engine \u001b[39m=\u001b[39m \u001b[39mself\u001b[39;49m\u001b[39m.\u001b[39;49m_make_engine(f, \u001b[39mself\u001b[39;49m\u001b[39m.\u001b[39;49mengine)\n",
      "File \u001b[1;32m~\\AppData\\Local\\Packages\\PythonSoftwareFoundation.Python.3.9_qbz5n2kfra8p0\\LocalCache\\local-packages\\Python39\\site-packages\\pandas\\io\\parsers\\readers.py:1735\u001b[0m, in \u001b[0;36mTextFileReader._make_engine\u001b[1;34m(self, f, engine)\u001b[0m\n\u001b[0;32m   1733\u001b[0m     \u001b[39mif\u001b[39;00m \u001b[39m\"\u001b[39m\u001b[39mb\u001b[39m\u001b[39m\"\u001b[39m \u001b[39mnot\u001b[39;00m \u001b[39min\u001b[39;00m mode:\n\u001b[0;32m   1734\u001b[0m         mode \u001b[39m+\u001b[39m\u001b[39m=\u001b[39m \u001b[39m\"\u001b[39m\u001b[39mb\u001b[39m\u001b[39m\"\u001b[39m\n\u001b[1;32m-> 1735\u001b[0m \u001b[39mself\u001b[39m\u001b[39m.\u001b[39mhandles \u001b[39m=\u001b[39m get_handle(\n\u001b[0;32m   1736\u001b[0m     f,\n\u001b[0;32m   1737\u001b[0m     mode,\n\u001b[0;32m   1738\u001b[0m     encoding\u001b[39m=\u001b[39;49m\u001b[39mself\u001b[39;49m\u001b[39m.\u001b[39;49moptions\u001b[39m.\u001b[39;49mget(\u001b[39m\"\u001b[39;49m\u001b[39mencoding\u001b[39;49m\u001b[39m\"\u001b[39;49m, \u001b[39mNone\u001b[39;49;00m),\n\u001b[0;32m   1739\u001b[0m     compression\u001b[39m=\u001b[39;49m\u001b[39mself\u001b[39;49m\u001b[39m.\u001b[39;49moptions\u001b[39m.\u001b[39;49mget(\u001b[39m\"\u001b[39;49m\u001b[39mcompression\u001b[39;49m\u001b[39m\"\u001b[39;49m, \u001b[39mNone\u001b[39;49;00m),\n\u001b[0;32m   1740\u001b[0m     memory_map\u001b[39m=\u001b[39;49m\u001b[39mself\u001b[39;49m\u001b[39m.\u001b[39;49moptions\u001b[39m.\u001b[39;49mget(\u001b[39m\"\u001b[39;49m\u001b[39mmemory_map\u001b[39;49m\u001b[39m\"\u001b[39;49m, \u001b[39mFalse\u001b[39;49;00m),\n\u001b[0;32m   1741\u001b[0m     is_text\u001b[39m=\u001b[39;49mis_text,\n\u001b[0;32m   1742\u001b[0m     errors\u001b[39m=\u001b[39;49m\u001b[39mself\u001b[39;49m\u001b[39m.\u001b[39;49moptions\u001b[39m.\u001b[39;49mget(\u001b[39m\"\u001b[39;49m\u001b[39mencoding_errors\u001b[39;49m\u001b[39m\"\u001b[39;49m, \u001b[39m\"\u001b[39;49m\u001b[39mstrict\u001b[39;49m\u001b[39m\"\u001b[39;49m),\n\u001b[0;32m   1743\u001b[0m     storage_options\u001b[39m=\u001b[39;49m\u001b[39mself\u001b[39;49m\u001b[39m.\u001b[39;49moptions\u001b[39m.\u001b[39;49mget(\u001b[39m\"\u001b[39;49m\u001b[39mstorage_options\u001b[39;49m\u001b[39m\"\u001b[39;49m, \u001b[39mNone\u001b[39;49;00m),\n\u001b[0;32m   1744\u001b[0m )\n\u001b[0;32m   1745\u001b[0m \u001b[39massert\u001b[39;00m \u001b[39mself\u001b[39m\u001b[39m.\u001b[39mhandles \u001b[39mis\u001b[39;00m \u001b[39mnot\u001b[39;00m \u001b[39mNone\u001b[39;00m\n\u001b[0;32m   1746\u001b[0m f \u001b[39m=\u001b[39m \u001b[39mself\u001b[39m\u001b[39m.\u001b[39mhandles\u001b[39m.\u001b[39mhandle\n",
      "File \u001b[1;32m~\\AppData\\Local\\Packages\\PythonSoftwareFoundation.Python.3.9_qbz5n2kfra8p0\\LocalCache\\local-packages\\Python39\\site-packages\\pandas\\io\\common.py:856\u001b[0m, in \u001b[0;36mget_handle\u001b[1;34m(path_or_buf, mode, encoding, compression, memory_map, is_text, errors, storage_options)\u001b[0m\n\u001b[0;32m    851\u001b[0m \u001b[39melif\u001b[39;00m \u001b[39misinstance\u001b[39m(handle, \u001b[39mstr\u001b[39m):\n\u001b[0;32m    852\u001b[0m     \u001b[39m# Check whether the filename is to be opened in binary mode.\u001b[39;00m\n\u001b[0;32m    853\u001b[0m     \u001b[39m# Binary mode does not support 'encoding' and 'newline'.\u001b[39;00m\n\u001b[0;32m    854\u001b[0m     \u001b[39mif\u001b[39;00m ioargs\u001b[39m.\u001b[39mencoding \u001b[39mand\u001b[39;00m \u001b[39m\"\u001b[39m\u001b[39mb\u001b[39m\u001b[39m\"\u001b[39m \u001b[39mnot\u001b[39;00m \u001b[39min\u001b[39;00m ioargs\u001b[39m.\u001b[39mmode:\n\u001b[0;32m    855\u001b[0m         \u001b[39m# Encoding\u001b[39;00m\n\u001b[1;32m--> 856\u001b[0m         handle \u001b[39m=\u001b[39m \u001b[39mopen\u001b[39;49m(\n\u001b[0;32m    857\u001b[0m             handle,\n\u001b[0;32m    858\u001b[0m             ioargs\u001b[39m.\u001b[39;49mmode,\n\u001b[0;32m    859\u001b[0m             encoding\u001b[39m=\u001b[39;49mioargs\u001b[39m.\u001b[39;49mencoding,\n\u001b[0;32m    860\u001b[0m             errors\u001b[39m=\u001b[39;49merrors,\n\u001b[0;32m    861\u001b[0m             newline\u001b[39m=\u001b[39;49m\u001b[39m\"\u001b[39;49m\u001b[39m\"\u001b[39;49m,\n\u001b[0;32m    862\u001b[0m         )\n\u001b[0;32m    863\u001b[0m     \u001b[39melse\u001b[39;00m:\n\u001b[0;32m    864\u001b[0m         \u001b[39m# Binary mode\u001b[39;00m\n\u001b[0;32m    865\u001b[0m         handle \u001b[39m=\u001b[39m \u001b[39mopen\u001b[39m(handle, ioargs\u001b[39m.\u001b[39mmode)\n",
      "\u001b[1;31mFileNotFoundError\u001b[0m: [Errno 2] No such file or directory: 'Data/Data/HeightWeight.csv'"
     ]
    }
   ],
   "source": [
    "full_df = pd.read_csv(\"Data/Data/HeightWeight.csv\")\n",
    "fold_list = [2,3,5,10]\n",
    "seed_num = 100\n",
    "for fold in fold_list:\n",
    "    av_rmse = []\n",
    "    print(fold,\"fold\")\n",
    "    for seed in range(seed_num):\n",
    "        sample_20_df = full_df.sample(n=20, random_state=seed, ignore_index=True)\n",
    "        for seed2 in range(seed_num):\n",
    "            fold_df = split_data_to_fold(sample_20_df,seed2,fold)\n",
    "            metrics = cross_validation(fold_df)\n",
    "            av_rmse.append(metrics['RMSE'])\n",
    "    print(\"Average RMSE:\",np.average(av_rmse))\n",
    "    print(\"Standard Daviation:\",np.std(av_rmse),\"\\n\")"
   ]
  },
  {
   "cell_type": "code",
   "execution_count": null,
   "metadata": {},
   "outputs": [
    {
     "name": "stdout",
     "output_type": "stream",
     "text": [
      "2 fold\n",
      "Average RMSE: 7.878392508910231\n",
      "Standard Daviation: 0.9596745477457709 \n",
      "\n",
      "3 fold\n",
      "Average RMSE: 7.579961787683762\n",
      "Standard Daviation: 0.6298103414847346 \n",
      "\n",
      "5 fold\n",
      "Average RMSE: 7.380427783400544\n",
      "Standard Daviation: 0.3219565738335285 \n",
      "\n",
      "10 fold\n",
      "Average RMSE: 7.165142062295994\n",
      "Standard Daviation: 0.19423446283548268 \n",
      "\n"
     ]
    }
   ],
   "source": [
    "df = pd.read_csv(\"Data/Data/HeightWeight20.csv\")\n",
    "fold_list = [2,3,5,10]\n",
    "seed_num = 20\n",
    "for fold in fold_list:\n",
    "    av_rmse = []\n",
    "    print(fold,\"fold\")\n",
    "    for seed in range(seed_num):\n",
    "        fold_df = split_data_to_fold(df,seed,fold)\n",
    "        metrics = cross_validation(fold_df)\n",
    "        av_rmse.append(metrics['RMSE'])\n",
    "    print(\"Average RMSE:\",np.average(av_rmse))\n",
    "    print(\"Standard Daviation:\",np.std(av_rmse),\"\\n\")"
   ]
  },
  {
   "cell_type": "code",
   "execution_count": null,
   "metadata": {},
   "outputs": [
    {
     "name": "stdout",
     "output_type": "stream",
     "text": [
      "2 fold\n",
      "Average RMSE: 5.878908964807437\n",
      "Standard Daviation: 0.15087336815996133 \n",
      "\n",
      "3 fold\n",
      "Average RMSE: 5.835675553733214\n",
      "Standard Daviation: 0.10214413620726165 \n",
      "\n",
      "5 fold\n",
      "Average RMSE: 5.7973521493673275\n",
      "Standard Daviation: 0.06866101602811307 \n",
      "\n",
      "10 fold\n",
      "Average RMSE: 5.7182868485361755\n",
      "Standard Daviation: 0.06261744155341417 \n",
      "\n",
      "20 fold\n",
      "Average RMSE: 5.574856302766732\n",
      "Standard Daviation: 0.07044651488932063 \n",
      "\n"
     ]
    }
   ],
   "source": [
    "df = pd.read_csv(\"Data/Data/HeightWeight100.csv\")\n",
    "fold_list = [2,3,5,10,20]\n",
    "seed_num = 100\n",
    "for fold in fold_list:\n",
    "    av_rmse = []\n",
    "    print(fold,\"fold\")\n",
    "    for seed in range(seed_num):\n",
    "        fold_df = split_data_to_fold(df,seed,fold)\n",
    "        metrics = cross_validation(fold_df)\n",
    "        av_rmse.append(metrics['RMSE'])\n",
    "    print(\"Average RMSE:\",np.average(av_rmse))\n",
    "    print(\"Standard Daviation:\",np.std(av_rmse),\"\\n\")"
   ]
  },
  {
   "cell_type": "code",
   "execution_count": null,
   "metadata": {},
   "outputs": [
    {
     "name": "stdout",
     "output_type": "stream",
     "text": [
      "Reference: 5.542246180431457\n"
     ]
    }
   ],
   "source": [
    "df = pd.read_csv(\"Data/Data/HeightWeight.csv\")\n",
    "slope,intercept = train(df)[0:2]\n",
    "print(\"Reference:\",CalculateRMSE(df[\"Height\"],df[\"Weight\"],intercept,slope))"
   ]
  },
  {
   "cell_type": "code",
   "execution_count": null,
   "metadata": {},
   "outputs": [
    {
     "ename": "NameError",
     "evalue": "name 'pd' is not defined",
     "output_type": "error",
     "traceback": [
      "\u001b[1;31m---------------------------------------------------------------------------\u001b[0m",
      "\u001b[1;31mNameError\u001b[0m                                 Traceback (most recent call last)",
      "Cell \u001b[1;32mIn[1], line 4\u001b[0m\n\u001b[0;32m      1\u001b[0m \u001b[39m# x and y given as DataFrame columns\u001b[39;00m\n\u001b[0;32m      2\u001b[0m \u001b[39mimport\u001b[39;00m \u001b[39mmatplotlib\u001b[39;00m\u001b[39m.\u001b[39;00m\u001b[39mpyplot\u001b[39;00m \u001b[39mas\u001b[39;00m \u001b[39mplt\u001b[39;00m\n\u001b[1;32m----> 4\u001b[0m df \u001b[39m=\u001b[39m pd\u001b[39m.\u001b[39mread_csv(\u001b[39m\"\u001b[39m\u001b[39mdata/sin_lossy.csv\u001b[39m\u001b[39m\"\u001b[39m)\n\u001b[0;32m      5\u001b[0m plt\u001b[39m.\u001b[39mfigure(figsize\u001b[39m=\u001b[39m(\u001b[39m10\u001b[39m, \u001b[39m6\u001b[39m))\n\u001b[0;32m      6\u001b[0m plt\u001b[39m.\u001b[39mylim(\u001b[39m-\u001b[39m\u001b[39m2\u001b[39m, \u001b[39m2\u001b[39m)\n",
      "\u001b[1;31mNameError\u001b[0m: name 'pd' is not defined"
     ]
    }
   ],
   "source": [
    "# x and y given as DataFrame columns\n",
    "import matplotlib.pyplot as plt\n",
    "\n",
    "df = pd.read_csv(\"data/sin_lossy.csv\")\n",
    "plt.figure(figsize=(10, 6))\n",
    "plt.ylim(-2, 2)\n",
    "plt.title(\"Noisy Sin(πx)\")\n",
    "\n",
    "plt.scatter(df['x'], df['y'], color='r', s=0.5)"
   ]
  },
  {
   "cell_type": "code",
   "execution_count": null,
   "metadata": {},
   "outputs": [],
   "source": [
    "full_df = pd.read_csv(\"data/sin_lossy.csv\")\n",
    "# full_df = pd.read_csv(\"data/HeightWeight.csv\")\n",
    "seed_num = 100\n",
    "max_test = 16\n",
    "num_sample = 500\n",
    "err_av_np = np.array([0.0]*max_test)\n",
    "err_var_np = np.array([0.0]*max_test)\n",
    "for j in range(num_sample):\n",
    "    err_av = []\n",
    "    err_var = []\n",
    "    sample_20_df = full_df.sample(n=20, random_state=j, ignore_index=True)\n",
    "    for k in range(1, max_test+1):\n",
    "        MSE = []\n",
    "        for seed in range(seed_num):\n",
    "            sample_20_df = sample_20_df.sample(\n",
    "                frac=1.0, random_state=seed, ignore_index=True)\n",
    "            test_df = sample_20_df.iloc[0:k]\n",
    "            train_df = sample_20_df.iloc[k:].reset_index(drop=True)\n",
    "            slope, intercept = stats.linregress(\n",
    "                train_df[\"x\"], train_df[\"y\"])[0:2]\n",
    "\n",
    "            MSE.append(CalculateMSE(\n",
    "                test_df[\"x\"], test_df[\"y\"], intercept, slope))\n",
    "        err_av.append(np.average(MSE))\n",
    "        err_var.append(np.var(MSE))\n",
    "    err_av_np += np.array(err_av)\n",
    "    err_var_np += np.array(err_var)\n",
    "err_av_np /= num_sample\n",
    "err_var_np /= num_sample"
   ]
  },
  {
   "cell_type": "code",
   "execution_count": null,
   "metadata": {},
   "outputs": [],
   "source": [
    "\n",
    "plt.figure(figsize=(10, 6))\n",
    "plt.ylim(0, 1.2)\n",
    "plt.xlim(1, 16)\n",
    "plt.title(\"Expected validation Error\")\n",
    "plt.xlabel(\"K\")\n",
    "plt.ylabel(\"Expected validation Error\")\n",
    "\n",
    "# Sin graph\n",
    "x_vals = np.array(range(1, max_test+1))\n",
    "y_vals = err_av_np\n",
    "plt.plot(x_vals, y_vals, '-', color='r', linewidth=3)\n",
    "\n",
    "\n",
    "var1 = (err_var_np**(1/2)) + np.array(y_vals)\n",
    "plt.plot(x_vals, var1, '-', color='b', linewidth=0.5)\n",
    "\n",
    "var2 = np.array(y_vals) - (err_var_np**(1/2))\n",
    "plt.plot(x_vals, var2, '-', color='b', linewidth=0.5)\n",
    "plt.fill_between(x_vals, var2, var1, color='b', alpha=0.3)\n"
   ]
  }
 ],
 "metadata": {
  "kernelspec": {
   "display_name": "Python 3",
   "language": "python",
   "name": "python3"
  },
  "language_info": {
   "codemirror_mode": {
    "name": "ipython",
    "version": 3
   },
   "file_extension": ".py",
   "mimetype": "text/x-python",
   "name": "python",
   "nbconvert_exporter": "python",
   "pygments_lexer": "ipython3",
   "version": "3.9.13"
  },
  "orig_nbformat": 4
 },
 "nbformat": 4,
 "nbformat_minor": 2
}
