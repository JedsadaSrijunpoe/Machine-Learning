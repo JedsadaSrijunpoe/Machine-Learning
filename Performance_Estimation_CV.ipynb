{
 "cells": [
  {
   "cell_type": "code",
   "execution_count": 28,
   "metadata": {},
   "outputs": [],
   "source": [
    "import math\n",
    "import pandas as pd\n",
    "from scipy import stats"
   ]
  },
  {
   "cell_type": "code",
   "execution_count": 53,
   "metadata": {},
   "outputs": [],
   "source": [
    "def split_data_to_fold(df : pd.DataFrame, seed : int, folds : int):\n",
    "\n",
    "    data_per_fold = df.shape[0] // folds\n",
    "    remainder =  df.shape[0] % folds\n",
    "\n",
    "    size_list = [data_per_fold]*folds\n",
    "    for i in range(remainder):\n",
    "        size_list[i] += 1\n",
    "\n",
    "    sample_df = df.sample(frac=1.0, random_state=seed, ignore_index=True)\n",
    "    dfs = []\n",
    "    \n",
    "    start_index = 0\n",
    "    for i in range(len(size_list)):\n",
    "        \n",
    "        dfs.append(sample_df.iloc[start_index : start_index + size_list[i]] )\n",
    "        start_index += size_list[i]\n",
    "\n",
    "    return dfs\n",
    "\n",
    "def CalculateRMSE(x_positions, y_positions, w0, w1):\n",
    "    n = len(x_positions)\n",
    "    RMSE = 0\n",
    "    for i in range(0, n):\n",
    "        RMSE += (w0 + w1*x_positions[i] - y_positions[i]) ** 2\n",
    "    RMSE *= 1/(n)\n",
    "    return RMSE**(1/2)\n",
    "\n",
    "def train(df):\n",
    "    slope, intercept, r, p, se = stats.linregress(df[\"Height\"], df[\"Weight\"])\n",
    "    return slope,intercept\n",
    "\n",
    "def cross_validation(fold_data):\n",
    "    RMSE = []\n",
    "    for i in range(len(fold_data)):\n",
    "        test_df = fold_data[i]\n",
    "        test_df.reset_index(inplace=True)\n",
    "        train_df = list(fold_data)\n",
    "        train_df.pop(i)\n",
    "        slope,intercept = train(pd.concat(train_df, ignore_index=True))\n",
    "        RMSE.append(CalculateRMSE(test_df[\"Height\"],test_df[\"Weight\"],intercept,slope))\n",
    "    return RMSE"
   ]
  },
  {
   "cell_type": "code",
   "execution_count": 62,
   "metadata": {},
   "outputs": [
    {
     "name": "stdout",
     "output_type": "stream",
     "text": [
      "9.732602697813538\n",
      "6.222517661517613\n",
      "7.316986352177761\n",
      "5.767329906413159\n"
     ]
    }
   ],
   "source": [
    "df = pd.read_csv(\"data/HeightWeight20.csv\")\n",
    "fold_df = split_data_to_fold(df,2,4)\n",
    "RMSE_list = cross_validation(fold_df)\n",
    "print(RMSE_list)\n",
    "\n"
   ]
  },
  {
   "cell_type": "code",
   "execution_count": 35,
   "metadata": {},
   "outputs": [
    {
     "name": "stdout",
     "output_type": "stream",
     "text": [
      "1\n",
      "[2, 3, 4]\n",
      "-------\n",
      "2\n",
      "[1, 3, 4]\n",
      "-------\n",
      "3\n",
      "[1, 2, 4]\n",
      "-------\n",
      "4\n",
      "[1, 2, 3]\n",
      "-------\n"
     ]
    }
   ],
   "source": []
  },
  {
   "cell_type": "code",
   "execution_count": null,
   "metadata": {},
   "outputs": [],
   "source": []
  }
 ],
 "metadata": {
  "kernelspec": {
   "display_name": "Python 3",
   "language": "python",
   "name": "python3"
  },
  "language_info": {
   "codemirror_mode": {
    "name": "ipython",
    "version": 3
   },
   "file_extension": ".py",
   "mimetype": "text/x-python",
   "name": "python",
   "nbconvert_exporter": "python",
   "pygments_lexer": "ipython3",
   "version": "3.9.13"
  },
  "orig_nbformat": 4
 },
 "nbformat": 4,
 "nbformat_minor": 2
}
