{
 "cells": [
  {
   "cell_type": "code",
   "execution_count": 1,
   "metadata": {},
   "outputs": [],
   "source": [
    "import math\n",
    "import pandas as pd\n",
    "import numpy as np\n",
    "from scipy import stats"
   ]
  },
  {
   "cell_type": "code",
   "execution_count": 9,
   "metadata": {},
   "outputs": [],
   "source": [
    "def split_data_to_fold(df : pd.DataFrame, seed : int, folds : int):\n",
    "\n",
    "    data_per_fold = df.shape[0] // folds\n",
    "    remainder =  df.shape[0] % folds\n",
    "\n",
    "    size_list = [data_per_fold]*folds\n",
    "    for i in range(remainder):\n",
    "        size_list[i] += 1\n",
    "\n",
    "    sample_df = df.sample(frac=1.0, random_state=seed, ignore_index=True)\n",
    "    dfs = []\n",
    "    \n",
    "    start_index = 0\n",
    "    for i in range(len(size_list)):\n",
    "        \n",
    "        dfs.append(sample_df.iloc[start_index : start_index + size_list[i]] )\n",
    "        start_index += size_list[i]\n",
    "\n",
    "    return dfs\n",
    "\n",
    "def CalculateRMSE(x_positions, y_positions, w0, w1):\n",
    "    n = len(x_positions)\n",
    "    RMSE = 0\n",
    "    for i in range(0, n):\n",
    "        RMSE += (w0 + w1*x_positions[i] - y_positions[i]) ** 2\n",
    "    RMSE *= 1/(n)\n",
    "    return RMSE**(1/2)\n",
    "\n",
    "def CalculateMAE(x_positions, y_positions, w0, w1):\n",
    "    n = len(x_positions)\n",
    "    MAE = 0\n",
    "    for i in range(0, n):\n",
    "        MAE += abs(w0 + w1*x_positions[i] - y_positions[i])\n",
    "    MAE *= 1/n\n",
    "    return MAE\n",
    "\n",
    "def CalculateRAE(x_positions, y_positions, w0, w1):\n",
    "    n = len(y_positions)\n",
    "    y_bar = sum(y_positions) / n\n",
    "    \n",
    "    err_from_model = 0\n",
    "    err_from_avg = 0\n",
    "    for i in range(0,n):\n",
    "        err_from_model += abs(y_positions[i] - (w0 + w1*x_positions[i]))\n",
    "        err_from_avg += abs(y_positions[i] - y_bar)\n",
    "    return err_from_model / err_from_avg\n",
    "\n",
    "def CalculateRRSE(x_positions, y_positions, w0, w1):\n",
    "    n = len(y_positions)\n",
    "    y_bar = sum(y_positions) / n\n",
    "    \n",
    "    err_from_model = 0\n",
    "    err_from_avg = 0\n",
    "    for i in range(0,n):\n",
    "        err_from_model += (y_positions[i] - (w0 + w1*x_positions[i]))**2\n",
    "        err_from_avg += (y_positions[i] - y_bar)**2\n",
    "    return (err_from_model / err_from_avg)**(1/2)\n",
    "\n",
    "def train(df):\n",
    "    slope, intercept, r, p, se = stats.linregress(df[\"Height\"], df[\"Weight\"])\n",
    "    return slope,intercept,r\n",
    "\n",
    "def cross_validation(fold_data):\n",
    "    metric_dict = {}\n",
    "    RMSE = []\n",
    "    MAE = []\n",
    "    r_list = []\n",
    "    RAE = []\n",
    "    RRSE = []\n",
    "    for i in range(len(fold_data)):\n",
    "        test_df = fold_data[i]\n",
    "        test_df.reset_index(inplace=True)\n",
    "        train_df = list(fold_data)\n",
    "        train_df.pop(i)\n",
    "        slope,intercept,r = train(pd.concat(train_df, ignore_index=True))\n",
    "        RMSE.append(CalculateRMSE(test_df[\"Height\"],test_df[\"Weight\"],intercept,slope))\n",
    "        MAE.append(CalculateMAE(test_df[\"Height\"], test_df[\"Weight\"], intercept, slope))\n",
    "        RAE.append(CalculateRAE(test_df[\"Height\"], test_df[\"Weight\"], intercept, slope))\n",
    "        RRSE.append(CalculateRRSE(test_df[\"Height\"], test_df[\"Weight\"], intercept, slope))\n",
    "        r_list.append(r)\n",
    "    metric_dict['RMSE'] = np.average(RMSE)\n",
    "    metric_dict['MAE'] = np.average(MAE)\n",
    "    metric_dict['r'] = np.average(r_list)\n",
    "    metric_dict['RAE'] = np.average(RAE)\n",
    "    metric_dict['RRSE'] = np.average(RRSE)\n",
    "    return metric_dict"
   ]
  },
  {
   "cell_type": "code",
   "execution_count": 28,
   "metadata": {},
   "outputs": [
    {
     "name": "stdout",
     "output_type": "stream",
     "text": [
      "2 fold\n",
      "Average RMSE: 7.878392508910231\n",
      "Standard Daviation: 0.9596745477457709 \n",
      "\n",
      "3 fold\n",
      "Average RMSE: 7.579961787683762\n",
      "Standard Daviation: 0.6298103414847346 \n",
      "\n",
      "5 fold\n",
      "Average RMSE: 7.380427783400544\n",
      "Standard Daviation: 0.3219565738335285 \n",
      "\n",
      "10 fold\n",
      "Average RMSE: 7.165142062295994\n",
      "Standard Daviation: 0.19423446283548268 \n",
      "\n"
     ]
    }
   ],
   "source": [
    "df = pd.read_csv(\"data/HeightWeight20.csv\")\n",
    "fold_list = [2,3,5,10]\n",
    "seed_num = 20\n",
    "for fold in fold_list:\n",
    "    av_rmse = []\n",
    "    print(fold,\"fold\")\n",
    "    for seed in range(seed_num):\n",
    "        fold_df = split_data_to_fold(df,seed,fold)\n",
    "        metrics = cross_validation(fold_df)\n",
    "        av_rmse.append(metrics['RMSE'])\n",
    "    print(\"Average RMSE:\",np.average(av_rmse))\n",
    "    print(\"Standard Daviation:\",np.std(av_rmse),\"\\n\")"
   ]
  },
  {
   "cell_type": "code",
   "execution_count": 32,
   "metadata": {},
   "outputs": [
    {
     "name": "stdout",
     "output_type": "stream",
     "text": [
      "2 fold\n",
      "Average RMSE: 5.878908964807437\n",
      "Standard Daviation: 0.15087336815996133 \n",
      "\n",
      "3 fold\n",
      "Average RMSE: 5.835675553733214\n",
      "Standard Daviation: 0.10214413620726165 \n",
      "\n",
      "5 fold\n",
      "Average RMSE: 5.7973521493673275\n",
      "Standard Daviation: 0.06866101602811307 \n",
      "\n",
      "10 fold\n",
      "Average RMSE: 5.7182868485361755\n",
      "Standard Daviation: 0.06261744155341417 \n",
      "\n",
      "20 fold\n",
      "Average RMSE: 5.574856302766732\n",
      "Standard Daviation: 0.07044651488932063 \n",
      "\n"
     ]
    }
   ],
   "source": [
    "df = pd.read_csv(\"data/HeightWeight100.csv\")\n",
    "fold_list = [2,3,5,10,20]\n",
    "seed_num = 100\n",
    "for fold in fold_list:\n",
    "    av_rmse = []\n",
    "    print(fold,\"fold\")\n",
    "    for seed in range(seed_num):\n",
    "        fold_df = split_data_to_fold(df,seed,fold)\n",
    "        metrics = cross_validation(fold_df)\n",
    "        av_rmse.append(metrics['RMSE'])\n",
    "    print(\"Average RMSE:\",np.average(av_rmse))\n",
    "    print(\"Standard Daviation:\",np.std(av_rmse),\"\\n\")"
   ]
  },
  {
   "cell_type": "code",
   "execution_count": 33,
   "metadata": {},
   "outputs": [
    {
     "name": "stdout",
     "output_type": "stream",
     "text": [
      "5.542246180431458\n"
     ]
    }
   ],
   "source": [
    "df = pd.read_csv(\"data/HeightWeight.csv\")\n",
    "slope,intercept = train(df)[0:2]\n",
    "print(\"Reference:\",CalculateRMSE(df[\"Height\"],df[\"Weight\"],intercept,slope))"
   ]
  }
 ],
 "metadata": {
  "kernelspec": {
   "display_name": "Python 3",
   "language": "python",
   "name": "python3"
  },
  "language_info": {
   "codemirror_mode": {
    "name": "ipython",
    "version": 3
   },
   "file_extension": ".py",
   "mimetype": "text/x-python",
   "name": "python",
   "nbconvert_exporter": "python",
   "pygments_lexer": "ipython3",
   "version": "3.9.13"
  },
  "orig_nbformat": 4
 },
 "nbformat": 4,
 "nbformat_minor": 2
}
